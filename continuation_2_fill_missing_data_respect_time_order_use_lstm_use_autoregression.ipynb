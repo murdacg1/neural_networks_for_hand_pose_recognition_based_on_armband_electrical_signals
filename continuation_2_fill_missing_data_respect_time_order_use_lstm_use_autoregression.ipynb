{
 "cells": [
  {
   "cell_type": "markdown",
   "metadata": {
    "id": "n3w5u46R5pkl"
   },
   "source": [
    "**Continuation (2) -- Concluding work: Best model is an LSTM model, with time dependence ensured by using an explicit vector autoregression (lag = 1 here)**\n",
    "\n",
    "This is a continuation of the previous notebook.\n",
    "\n",
    "The steps there are repeated here:\n",
    "\n",
    "(1) Each of the 51 data sets will be now kept separate, with time order preserved.\n",
    "\n",
    "(2) Some of the data sets have a few missing rows. These are now filled by the last existing row, which seems more correct than using the mean value. Thus all the data sets are now of length 5000 (at 50 Hz, this means 100 s of observation).\n",
    "\n",
    "(3) The split is the same as before: train/validate/test = 70%/15%/15%, however now it occurs on the data set level, thus it is train/validate/test = first 35 data sets/next 8 data sets/last 8 data sets.\n",
    "\n",
    "(4) In fitting the models we use shuffle=False and a batch_size = 5000 (the size of each data set).\n",
    "\n",
    "Now, in addition, we use an explicit vector autoregression strategy to first re-process the data:\n",
    "\n",
    "(5) First we do what is normally done in autoregression: the present depends on some number of time steps n in the past (see, e.g., https://machinelearningmastery.com/multivariate-time-series-forecasting-lstms-keras/ and https://www.slideshare.net/databricks/time-series-forecasting-using-recurrent-neural-network-and-vector-autoregressive-model-when-and-how-with-jeffrey-yau):\n",
    "\n",
    "y_vector(t) =\n",
    "f(X_matrix(t-n), y_vector(t-n), X_matrix(t-n+1), y_vector(t-n+1), ..., X_matrix(t-n+1), y_vector(t-n+1), ..., X_matrix(t-1), y_vector(t-1), X_matrix(t-1), y_vector(t-1))\n",
    "\n",
    "Here we take n = lag_steps = 1, so:\n",
    "\n",
    "y_vector(t) = f(X_matrix(t-1), y_vector(t-1))\n",
    "\n",
    "To start, we forecast the present by looking just one lag step into the past (lag = 1 here). Thus the X matrices (matrices: train, valid, test) will be shifted and extended relative to the corresponding y vectors (see below for details)."
   ]
  },
  {
   "cell_type": "code",
   "execution_count": 1,
   "metadata": {
    "colab": {
     "base_uri": "https://localhost:8080/",
     "height": 0
    },
    "executionInfo": {
     "elapsed": 1289,
     "status": "ok",
     "timestamp": 1617738564016,
     "user": {
      "displayName": "Garold Murdachaew",
      "photoUrl": "",
      "userId": "10767911817898383988"
     },
     "user_tz": -180
    },
    "id": "zAal1T6NL73t",
    "outputId": "b53dbb2e-dbf2-48ea-815a-4b77aad72964"
   },
   "outputs": [
    {
     "name": "stdout",
     "output_type": "stream",
     "text": [
      "Drive already mounted at /content/drive; to attempt to forcibly remount, call drive.mount(\"/content/drive\", force_remount=True).\n"
     ]
    }
   ],
   "source": [
    "from google.colab import drive\n",
    "drive.mount('/content/drive')\n",
    "\n",
    "import sys\n",
    "sys.path.append('/content/drive/My Drive/challenge')"
   ]
  },
  {
   "cell_type": "code",
   "execution_count": 2,
   "metadata": {
    "colab": {
     "base_uri": "https://localhost:8080/",
     "height": 0
    },
    "executionInfo": {
     "elapsed": 2525,
     "status": "ok",
     "timestamp": 1617738565304,
     "user": {
      "displayName": "Garold Murdachaew",
      "photoUrl": "",
      "userId": "10767911817898383988"
     },
     "user_tz": -180
    },
    "id": "r5Roe5SNMHN0",
    "outputId": "ab111438-de7b-4464-8a1e-4facda40aab2"
   },
   "outputs": [
    {
     "name": "stdout",
     "output_type": "stream",
     "text": [
      "51\n",
      "51\n"
     ]
    }
   ],
   "source": [
    "import joblib as joblib\n",
    "import matplotlib.pyplot as plt\n",
    "%matplotlib inline\n",
    "import numpy as np\n",
    "\n",
    "features, labels = joblib.load('/content/drive/My Drive/challenge/data.dat')\n",
    "\n",
    "print(len(features))\n",
    "print(len(labels))"
   ]
  },
  {
   "cell_type": "code",
   "execution_count": 3,
   "metadata": {
    "colab": {
     "base_uri": "https://localhost:8080/",
     "height": 0
    },
    "executionInfo": {
     "elapsed": 2522,
     "status": "ok",
     "timestamp": 1617738565324,
     "user": {
      "displayName": "Garold Murdachaew",
      "photoUrl": "",
      "userId": "10767911817898383988"
     },
     "user_tz": -180
    },
    "id": "thzF1nmWmSom",
    "outputId": "4a0c3211-f45a-49da-99b7-cdf0cebb8342"
   },
   "outputs": [
    {
     "name": "stdout",
     "output_type": "stream",
     "text": [
      "51\n",
      "(4979, 30) (4979, 5)\n",
      "(4966, 30) (4966, 5)\n",
      "(4944, 30) (4944, 5)\n",
      "(4966, 30) (4966, 5)\n",
      "(4966, 30) (4966, 5)\n",
      "(4958, 30) (4958, 5)\n",
      "(5000, 30) (5000, 5)\n",
      "(5000, 30) (5000, 5)\n",
      "(4937, 30) (4937, 5)\n",
      "(4959, 30) (4959, 5)\n",
      "(5000, 30) (5000, 5)\n",
      "(5000, 30) (5000, 5)\n",
      "(5000, 30) (5000, 5)\n",
      "(5000, 30) (5000, 5)\n",
      "(5000, 30) (5000, 5)\n",
      "(5000, 30) (5000, 5)\n",
      "(5000, 30) (5000, 5)\n",
      "(4974, 30) (4974, 5)\n",
      "(5000, 30) (5000, 5)\n",
      "(5000, 30) (5000, 5)\n",
      "(5000, 30) (5000, 5)\n",
      "(5000, 30) (5000, 5)\n",
      "(5000, 30) (5000, 5)\n",
      "(5000, 30) (5000, 5)\n",
      "(5000, 30) (5000, 5)\n",
      "(5000, 30) (5000, 5)\n",
      "(5000, 30) (5000, 5)\n",
      "(5000, 30) (5000, 5)\n",
      "(5000, 30) (5000, 5)\n",
      "(5000, 30) (5000, 5)\n",
      "(5000, 30) (5000, 5)\n",
      "(5000, 30) (5000, 5)\n",
      "(5000, 30) (5000, 5)\n",
      "(5000, 30) (5000, 5)\n",
      "(5000, 30) (5000, 5)\n",
      "(5000, 30) (5000, 5)\n",
      "(5000, 30) (5000, 5)\n",
      "(5000, 30) (5000, 5)\n",
      "(5000, 30) (5000, 5)\n",
      "(5000, 30) (5000, 5)\n",
      "(5000, 30) (5000, 5)\n",
      "(5000, 30) (5000, 5)\n",
      "(5000, 30) (5000, 5)\n",
      "(5000, 30) (5000, 5)\n",
      "(5000, 30) (5000, 5)\n",
      "(5000, 30) (5000, 5)\n",
      "(5000, 30) (5000, 5)\n",
      "(5000, 30) (5000, 5)\n",
      "(5000, 30) (5000, 5)\n",
      "(5000, 30) (5000, 5)\n",
      "(5000, 30) (5000, 5)\n"
     ]
    }
   ],
   "source": [
    "n_samples = len(features)\n",
    "print(n_samples)\n",
    "for i in range(n_samples):\n",
    "  print(features[i].shape, labels[i].shape)"
   ]
  },
  {
   "cell_type": "code",
   "execution_count": 4,
   "metadata": {
    "colab": {
     "base_uri": "https://localhost:8080/",
     "height": 0
    },
    "executionInfo": {
     "elapsed": 2505,
     "status": "ok",
     "timestamp": 1617738565328,
     "user": {
      "displayName": "Garold Murdachaew",
      "photoUrl": "",
      "userId": "10767911817898383988"
     },
     "user_tz": -180
    },
    "id": "_USfJGvervr0",
    "outputId": "9fdcf91d-e031-4cef-acce-cb6ab15c6d0f"
   },
   "outputs": [
    {
     "name": "stdout",
     "output_type": "stream",
     "text": [
      "4979\n",
      "4966\n",
      "4944\n",
      "4966\n",
      "4966\n",
      "4958\n",
      "5000\n",
      "5000\n",
      "4937\n",
      "4959\n",
      "5000\n",
      "5000\n",
      "5000\n",
      "5000\n",
      "5000\n",
      "5000\n",
      "5000\n",
      "4974\n",
      "5000\n",
      "5000\n",
      "5000\n",
      "5000\n",
      "5000\n",
      "5000\n",
      "5000\n",
      "5000\n",
      "5000\n",
      "5000\n",
      "5000\n",
      "5000\n",
      "5000\n",
      "5000\n",
      "5000\n",
      "5000\n",
      "5000\n",
      "5000\n",
      "5000\n",
      "5000\n",
      "5000\n",
      "5000\n",
      "5000\n",
      "5000\n",
      "5000\n",
      "5000\n",
      "5000\n",
      "5000\n",
      "5000\n",
      "5000\n",
      "5000\n",
      "5000\n",
      "5000\n"
     ]
    }
   ],
   "source": [
    "for i in range(len(features)):\n",
    "  print(features[i].shape[0])"
   ]
  },
  {
   "cell_type": "code",
   "execution_count": 5,
   "metadata": {
    "colab": {
     "base_uri": "https://localhost:8080/",
     "height": 0
    },
    "executionInfo": {
     "elapsed": 2490,
     "status": "ok",
     "timestamp": 1617738565334,
     "user": {
      "displayName": "Garold Murdachaew",
      "photoUrl": "",
      "userId": "10767911817898383988"
     },
     "user_tz": -180
    },
    "id": "etJ7ZDpCoXB8",
    "outputId": "7d164681-f5d6-4b31-87b0-a6ec41caa08f"
   },
   "outputs": [
    {
     "name": "stdout",
     "output_type": "stream",
     "text": [
      "4937\n",
      "5000\n",
      "51 5000 30\n",
      "5\n"
     ]
    }
   ],
   "source": [
    "n_time_steps = min([features[i].shape[0] for i in range(len(features))])\n",
    "print(n_time_steps)\n",
    "n_time_steps = max([features[i].shape[0] for i in range(len(features))])\n",
    "print(n_time_steps)\n",
    "n_features = features[-1].shape[1]\n",
    "n_labels = labels[-1].shape[1]\n",
    "print(n_samples, n_time_steps, n_features)\n",
    "print(n_labels)"
   ]
  },
  {
   "cell_type": "code",
   "execution_count": 6,
   "metadata": {
    "colab": {
     "base_uri": "https://localhost:8080/",
     "height": 0
    },
    "executionInfo": {
     "elapsed": 3006,
     "status": "ok",
     "timestamp": 1617738565872,
     "user": {
      "displayName": "Garold Murdachaew",
      "photoUrl": "",
      "userId": "10767911817898383988"
     },
     "user_tz": -180
    },
    "id": "5Mprbav7ATkh",
    "outputId": "e7c67bd8-2b76-4050-e235-8f4265bae562"
   },
   "outputs": [
    {
     "name": "stdout",
     "output_type": "stream",
     "text": [
      "[array([[nan, nan, nan, ..., nan, nan, nan],\n",
      "       [nan, nan, nan, ..., nan, nan, nan],\n",
      "       [nan, nan, nan, ..., nan, nan, nan],\n",
      "       ...,\n",
      "       [nan, nan, nan, ..., nan, nan, nan],\n",
      "       [nan, nan, nan, ..., nan, nan, nan],\n",
      "       [nan, nan, nan, ..., nan, nan, nan]]), array([[nan, nan, nan, ..., nan, nan, nan],\n",
      "       [nan, nan, nan, ..., nan, nan, nan],\n",
      "       [nan, nan, nan, ..., nan, nan, nan],\n",
      "       ...,\n",
      "       [nan, nan, nan, ..., nan, nan, nan],\n",
      "       [nan, nan, nan, ..., nan, nan, nan],\n",
      "       [nan, nan, nan, ..., nan, nan, nan]]), array([[nan, nan, nan, ..., nan, nan, nan],\n",
      "       [nan, nan, nan, ..., nan, nan, nan],\n",
      "       [nan, nan, nan, ..., nan, nan, nan],\n",
      "       ...,\n",
      "       [nan, nan, nan, ..., nan, nan, nan],\n",
      "       [nan, nan, nan, ..., nan, nan, nan],\n",
      "       [nan, nan, nan, ..., nan, nan, nan]]), array([[nan, nan, nan, ..., nan, nan, nan],\n",
      "       [nan, nan, nan, ..., nan, nan, nan],\n",
      "       [nan, nan, nan, ..., nan, nan, nan],\n",
      "       ...,\n",
      "       [nan, nan, nan, ..., nan, nan, nan],\n",
      "       [nan, nan, nan, ..., nan, nan, nan],\n",
      "       [nan, nan, nan, ..., nan, nan, nan]]), array([[nan, nan, nan, ..., nan, nan, nan],\n",
      "       [nan, nan, nan, ..., nan, nan, nan],\n",
      "       [nan, nan, nan, ..., nan, nan, nan],\n",
      "       ...,\n",
      "       [nan, nan, nan, ..., nan, nan, nan],\n",
      "       [nan, nan, nan, ..., nan, nan, nan],\n",
      "       [nan, nan, nan, ..., nan, nan, nan]]), array([[nan, nan, nan, ..., nan, nan, nan],\n",
      "       [nan, nan, nan, ..., nan, nan, nan],\n",
      "       [nan, nan, nan, ..., nan, nan, nan],\n",
      "       ...,\n",
      "       [nan, nan, nan, ..., nan, nan, nan],\n",
      "       [nan, nan, nan, ..., nan, nan, nan],\n",
      "       [nan, nan, nan, ..., nan, nan, nan]]), array([[nan, nan, nan, ..., nan, nan, nan],\n",
      "       [nan, nan, nan, ..., nan, nan, nan],\n",
      "       [nan, nan, nan, ..., nan, nan, nan],\n",
      "       ...,\n",
      "       [nan, nan, nan, ..., nan, nan, nan],\n",
      "       [nan, nan, nan, ..., nan, nan, nan],\n",
      "       [nan, nan, nan, ..., nan, nan, nan]]), array([[nan, nan, nan, ..., nan, nan, nan],\n",
      "       [nan, nan, nan, ..., nan, nan, nan],\n",
      "       [nan, nan, nan, ..., nan, nan, nan],\n",
      "       ...,\n",
      "       [nan, nan, nan, ..., nan, nan, nan],\n",
      "       [nan, nan, nan, ..., nan, nan, nan],\n",
      "       [nan, nan, nan, ..., nan, nan, nan]]), array([[nan, nan, nan, ..., nan, nan, nan],\n",
      "       [nan, nan, nan, ..., nan, nan, nan],\n",
      "       [nan, nan, nan, ..., nan, nan, nan],\n",
      "       ...,\n",
      "       [nan, nan, nan, ..., nan, nan, nan],\n",
      "       [nan, nan, nan, ..., nan, nan, nan],\n",
      "       [nan, nan, nan, ..., nan, nan, nan]]), array([[nan, nan, nan, ..., nan, nan, nan],\n",
      "       [nan, nan, nan, ..., nan, nan, nan],\n",
      "       [nan, nan, nan, ..., nan, nan, nan],\n",
      "       ...,\n",
      "       [nan, nan, nan, ..., nan, nan, nan],\n",
      "       [nan, nan, nan, ..., nan, nan, nan],\n",
      "       [nan, nan, nan, ..., nan, nan, nan]]), array([[nan, nan, nan, ..., nan, nan, nan],\n",
      "       [nan, nan, nan, ..., nan, nan, nan],\n",
      "       [nan, nan, nan, ..., nan, nan, nan],\n",
      "       ...,\n",
      "       [nan, nan, nan, ..., nan, nan, nan],\n",
      "       [nan, nan, nan, ..., nan, nan, nan],\n",
      "       [nan, nan, nan, ..., nan, nan, nan]]), array([[nan, nan, nan, ..., nan, nan, nan],\n",
      "       [nan, nan, nan, ..., nan, nan, nan],\n",
      "       [nan, nan, nan, ..., nan, nan, nan],\n",
      "       ...,\n",
      "       [nan, nan, nan, ..., nan, nan, nan],\n",
      "       [nan, nan, nan, ..., nan, nan, nan],\n",
      "       [nan, nan, nan, ..., nan, nan, nan]]), array([[nan, nan, nan, ..., nan, nan, nan],\n",
      "       [nan, nan, nan, ..., nan, nan, nan],\n",
      "       [nan, nan, nan, ..., nan, nan, nan],\n",
      "       ...,\n",
      "       [nan, nan, nan, ..., nan, nan, nan],\n",
      "       [nan, nan, nan, ..., nan, nan, nan],\n",
      "       [nan, nan, nan, ..., nan, nan, nan]]), array([[nan, nan, nan, ..., nan, nan, nan],\n",
      "       [nan, nan, nan, ..., nan, nan, nan],\n",
      "       [nan, nan, nan, ..., nan, nan, nan],\n",
      "       ...,\n",
      "       [nan, nan, nan, ..., nan, nan, nan],\n",
      "       [nan, nan, nan, ..., nan, nan, nan],\n",
      "       [nan, nan, nan, ..., nan, nan, nan]]), array([[nan, nan, nan, ..., nan, nan, nan],\n",
      "       [nan, nan, nan, ..., nan, nan, nan],\n",
      "       [nan, nan, nan, ..., nan, nan, nan],\n",
      "       ...,\n",
      "       [nan, nan, nan, ..., nan, nan, nan],\n",
      "       [nan, nan, nan, ..., nan, nan, nan],\n",
      "       [nan, nan, nan, ..., nan, nan, nan]]), array([[nan, nan, nan, ..., nan, nan, nan],\n",
      "       [nan, nan, nan, ..., nan, nan, nan],\n",
      "       [nan, nan, nan, ..., nan, nan, nan],\n",
      "       ...,\n",
      "       [nan, nan, nan, ..., nan, nan, nan],\n",
      "       [nan, nan, nan, ..., nan, nan, nan],\n",
      "       [nan, nan, nan, ..., nan, nan, nan]]), array([[nan, nan, nan, ..., nan, nan, nan],\n",
      "       [nan, nan, nan, ..., nan, nan, nan],\n",
      "       [nan, nan, nan, ..., nan, nan, nan],\n",
      "       ...,\n",
      "       [nan, nan, nan, ..., nan, nan, nan],\n",
      "       [nan, nan, nan, ..., nan, nan, nan],\n",
      "       [nan, nan, nan, ..., nan, nan, nan]]), array([[nan, nan, nan, ..., nan, nan, nan],\n",
      "       [nan, nan, nan, ..., nan, nan, nan],\n",
      "       [nan, nan, nan, ..., nan, nan, nan],\n",
      "       ...,\n",
      "       [nan, nan, nan, ..., nan, nan, nan],\n",
      "       [nan, nan, nan, ..., nan, nan, nan],\n",
      "       [nan, nan, nan, ..., nan, nan, nan]]), array([[nan, nan, nan, ..., nan, nan, nan],\n",
      "       [nan, nan, nan, ..., nan, nan, nan],\n",
      "       [nan, nan, nan, ..., nan, nan, nan],\n",
      "       ...,\n",
      "       [nan, nan, nan, ..., nan, nan, nan],\n",
      "       [nan, nan, nan, ..., nan, nan, nan],\n",
      "       [nan, nan, nan, ..., nan, nan, nan]]), array([[nan, nan, nan, ..., nan, nan, nan],\n",
      "       [nan, nan, nan, ..., nan, nan, nan],\n",
      "       [nan, nan, nan, ..., nan, nan, nan],\n",
      "       ...,\n",
      "       [nan, nan, nan, ..., nan, nan, nan],\n",
      "       [nan, nan, nan, ..., nan, nan, nan],\n",
      "       [nan, nan, nan, ..., nan, nan, nan]]), array([[nan, nan, nan, ..., nan, nan, nan],\n",
      "       [nan, nan, nan, ..., nan, nan, nan],\n",
      "       [nan, nan, nan, ..., nan, nan, nan],\n",
      "       ...,\n",
      "       [nan, nan, nan, ..., nan, nan, nan],\n",
      "       [nan, nan, nan, ..., nan, nan, nan],\n",
      "       [nan, nan, nan, ..., nan, nan, nan]]), array([[nan, nan, nan, ..., nan, nan, nan],\n",
      "       [nan, nan, nan, ..., nan, nan, nan],\n",
      "       [nan, nan, nan, ..., nan, nan, nan],\n",
      "       ...,\n",
      "       [nan, nan, nan, ..., nan, nan, nan],\n",
      "       [nan, nan, nan, ..., nan, nan, nan],\n",
      "       [nan, nan, nan, ..., nan, nan, nan]]), array([[nan, nan, nan, ..., nan, nan, nan],\n",
      "       [nan, nan, nan, ..., nan, nan, nan],\n",
      "       [nan, nan, nan, ..., nan, nan, nan],\n",
      "       ...,\n",
      "       [nan, nan, nan, ..., nan, nan, nan],\n",
      "       [nan, nan, nan, ..., nan, nan, nan],\n",
      "       [nan, nan, nan, ..., nan, nan, nan]]), array([[nan, nan, nan, ..., nan, nan, nan],\n",
      "       [nan, nan, nan, ..., nan, nan, nan],\n",
      "       [nan, nan, nan, ..., nan, nan, nan],\n",
      "       ...,\n",
      "       [nan, nan, nan, ..., nan, nan, nan],\n",
      "       [nan, nan, nan, ..., nan, nan, nan],\n",
      "       [nan, nan, nan, ..., nan, nan, nan]]), array([[nan, nan, nan, ..., nan, nan, nan],\n",
      "       [nan, nan, nan, ..., nan, nan, nan],\n",
      "       [nan, nan, nan, ..., nan, nan, nan],\n",
      "       ...,\n",
      "       [nan, nan, nan, ..., nan, nan, nan],\n",
      "       [nan, nan, nan, ..., nan, nan, nan],\n",
      "       [nan, nan, nan, ..., nan, nan, nan]]), array([[nan, nan, nan, ..., nan, nan, nan],\n",
      "       [nan, nan, nan, ..., nan, nan, nan],\n",
      "       [nan, nan, nan, ..., nan, nan, nan],\n",
      "       ...,\n",
      "       [nan, nan, nan, ..., nan, nan, nan],\n",
      "       [nan, nan, nan, ..., nan, nan, nan],\n",
      "       [nan, nan, nan, ..., nan, nan, nan]]), array([[nan, nan, nan, ..., nan, nan, nan],\n",
      "       [nan, nan, nan, ..., nan, nan, nan],\n",
      "       [nan, nan, nan, ..., nan, nan, nan],\n",
      "       ...,\n",
      "       [nan, nan, nan, ..., nan, nan, nan],\n",
      "       [nan, nan, nan, ..., nan, nan, nan],\n",
      "       [nan, nan, nan, ..., nan, nan, nan]]), array([[nan, nan, nan, ..., nan, nan, nan],\n",
      "       [nan, nan, nan, ..., nan, nan, nan],\n",
      "       [nan, nan, nan, ..., nan, nan, nan],\n",
      "       ...,\n",
      "       [nan, nan, nan, ..., nan, nan, nan],\n",
      "       [nan, nan, nan, ..., nan, nan, nan],\n",
      "       [nan, nan, nan, ..., nan, nan, nan]]), array([[nan, nan, nan, ..., nan, nan, nan],\n",
      "       [nan, nan, nan, ..., nan, nan, nan],\n",
      "       [nan, nan, nan, ..., nan, nan, nan],\n",
      "       ...,\n",
      "       [nan, nan, nan, ..., nan, nan, nan],\n",
      "       [nan, nan, nan, ..., nan, nan, nan],\n",
      "       [nan, nan, nan, ..., nan, nan, nan]]), array([[nan, nan, nan, ..., nan, nan, nan],\n",
      "       [nan, nan, nan, ..., nan, nan, nan],\n",
      "       [nan, nan, nan, ..., nan, nan, nan],\n",
      "       ...,\n",
      "       [nan, nan, nan, ..., nan, nan, nan],\n",
      "       [nan, nan, nan, ..., nan, nan, nan],\n",
      "       [nan, nan, nan, ..., nan, nan, nan]]), array([[nan, nan, nan, ..., nan, nan, nan],\n",
      "       [nan, nan, nan, ..., nan, nan, nan],\n",
      "       [nan, nan, nan, ..., nan, nan, nan],\n",
      "       ...,\n",
      "       [nan, nan, nan, ..., nan, nan, nan],\n",
      "       [nan, nan, nan, ..., nan, nan, nan],\n",
      "       [nan, nan, nan, ..., nan, nan, nan]]), array([[nan, nan, nan, ..., nan, nan, nan],\n",
      "       [nan, nan, nan, ..., nan, nan, nan],\n",
      "       [nan, nan, nan, ..., nan, nan, nan],\n",
      "       ...,\n",
      "       [nan, nan, nan, ..., nan, nan, nan],\n",
      "       [nan, nan, nan, ..., nan, nan, nan],\n",
      "       [nan, nan, nan, ..., nan, nan, nan]]), array([[nan, nan, nan, ..., nan, nan, nan],\n",
      "       [nan, nan, nan, ..., nan, nan, nan],\n",
      "       [nan, nan, nan, ..., nan, nan, nan],\n",
      "       ...,\n",
      "       [nan, nan, nan, ..., nan, nan, nan],\n",
      "       [nan, nan, nan, ..., nan, nan, nan],\n",
      "       [nan, nan, nan, ..., nan, nan, nan]]), array([[nan, nan, nan, ..., nan, nan, nan],\n",
      "       [nan, nan, nan, ..., nan, nan, nan],\n",
      "       [nan, nan, nan, ..., nan, nan, nan],\n",
      "       ...,\n",
      "       [nan, nan, nan, ..., nan, nan, nan],\n",
      "       [nan, nan, nan, ..., nan, nan, nan],\n",
      "       [nan, nan, nan, ..., nan, nan, nan]]), array([[nan, nan, nan, ..., nan, nan, nan],\n",
      "       [nan, nan, nan, ..., nan, nan, nan],\n",
      "       [nan, nan, nan, ..., nan, nan, nan],\n",
      "       ...,\n",
      "       [nan, nan, nan, ..., nan, nan, nan],\n",
      "       [nan, nan, nan, ..., nan, nan, nan],\n",
      "       [nan, nan, nan, ..., nan, nan, nan]]), array([[nan, nan, nan, ..., nan, nan, nan],\n",
      "       [nan, nan, nan, ..., nan, nan, nan],\n",
      "       [nan, nan, nan, ..., nan, nan, nan],\n",
      "       ...,\n",
      "       [nan, nan, nan, ..., nan, nan, nan],\n",
      "       [nan, nan, nan, ..., nan, nan, nan],\n",
      "       [nan, nan, nan, ..., nan, nan, nan]]), array([[nan, nan, nan, ..., nan, nan, nan],\n",
      "       [nan, nan, nan, ..., nan, nan, nan],\n",
      "       [nan, nan, nan, ..., nan, nan, nan],\n",
      "       ...,\n",
      "       [nan, nan, nan, ..., nan, nan, nan],\n",
      "       [nan, nan, nan, ..., nan, nan, nan],\n",
      "       [nan, nan, nan, ..., nan, nan, nan]]), array([[nan, nan, nan, ..., nan, nan, nan],\n",
      "       [nan, nan, nan, ..., nan, nan, nan],\n",
      "       [nan, nan, nan, ..., nan, nan, nan],\n",
      "       ...,\n",
      "       [nan, nan, nan, ..., nan, nan, nan],\n",
      "       [nan, nan, nan, ..., nan, nan, nan],\n",
      "       [nan, nan, nan, ..., nan, nan, nan]]), array([[nan, nan, nan, ..., nan, nan, nan],\n",
      "       [nan, nan, nan, ..., nan, nan, nan],\n",
      "       [nan, nan, nan, ..., nan, nan, nan],\n",
      "       ...,\n",
      "       [nan, nan, nan, ..., nan, nan, nan],\n",
      "       [nan, nan, nan, ..., nan, nan, nan],\n",
      "       [nan, nan, nan, ..., nan, nan, nan]]), array([[nan, nan, nan, ..., nan, nan, nan],\n",
      "       [nan, nan, nan, ..., nan, nan, nan],\n",
      "       [nan, nan, nan, ..., nan, nan, nan],\n",
      "       ...,\n",
      "       [nan, nan, nan, ..., nan, nan, nan],\n",
      "       [nan, nan, nan, ..., nan, nan, nan],\n",
      "       [nan, nan, nan, ..., nan, nan, nan]]), array([[nan, nan, nan, ..., nan, nan, nan],\n",
      "       [nan, nan, nan, ..., nan, nan, nan],\n",
      "       [nan, nan, nan, ..., nan, nan, nan],\n",
      "       ...,\n",
      "       [nan, nan, nan, ..., nan, nan, nan],\n",
      "       [nan, nan, nan, ..., nan, nan, nan],\n",
      "       [nan, nan, nan, ..., nan, nan, nan]]), array([[nan, nan, nan, ..., nan, nan, nan],\n",
      "       [nan, nan, nan, ..., nan, nan, nan],\n",
      "       [nan, nan, nan, ..., nan, nan, nan],\n",
      "       ...,\n",
      "       [nan, nan, nan, ..., nan, nan, nan],\n",
      "       [nan, nan, nan, ..., nan, nan, nan],\n",
      "       [nan, nan, nan, ..., nan, nan, nan]]), array([[nan, nan, nan, ..., nan, nan, nan],\n",
      "       [nan, nan, nan, ..., nan, nan, nan],\n",
      "       [nan, nan, nan, ..., nan, nan, nan],\n",
      "       ...,\n",
      "       [nan, nan, nan, ..., nan, nan, nan],\n",
      "       [nan, nan, nan, ..., nan, nan, nan],\n",
      "       [nan, nan, nan, ..., nan, nan, nan]]), array([[nan, nan, nan, ..., nan, nan, nan],\n",
      "       [nan, nan, nan, ..., nan, nan, nan],\n",
      "       [nan, nan, nan, ..., nan, nan, nan],\n",
      "       ...,\n",
      "       [nan, nan, nan, ..., nan, nan, nan],\n",
      "       [nan, nan, nan, ..., nan, nan, nan],\n",
      "       [nan, nan, nan, ..., nan, nan, nan]]), array([[nan, nan, nan, ..., nan, nan, nan],\n",
      "       [nan, nan, nan, ..., nan, nan, nan],\n",
      "       [nan, nan, nan, ..., nan, nan, nan],\n",
      "       ...,\n",
      "       [nan, nan, nan, ..., nan, nan, nan],\n",
      "       [nan, nan, nan, ..., nan, nan, nan],\n",
      "       [nan, nan, nan, ..., nan, nan, nan]]), array([[nan, nan, nan, ..., nan, nan, nan],\n",
      "       [nan, nan, nan, ..., nan, nan, nan],\n",
      "       [nan, nan, nan, ..., nan, nan, nan],\n",
      "       ...,\n",
      "       [nan, nan, nan, ..., nan, nan, nan],\n",
      "       [nan, nan, nan, ..., nan, nan, nan],\n",
      "       [nan, nan, nan, ..., nan, nan, nan]]), array([[nan, nan, nan, ..., nan, nan, nan],\n",
      "       [nan, nan, nan, ..., nan, nan, nan],\n",
      "       [nan, nan, nan, ..., nan, nan, nan],\n",
      "       ...,\n",
      "       [nan, nan, nan, ..., nan, nan, nan],\n",
      "       [nan, nan, nan, ..., nan, nan, nan],\n",
      "       [nan, nan, nan, ..., nan, nan, nan]]), array([[nan, nan, nan, ..., nan, nan, nan],\n",
      "       [nan, nan, nan, ..., nan, nan, nan],\n",
      "       [nan, nan, nan, ..., nan, nan, nan],\n",
      "       ...,\n",
      "       [nan, nan, nan, ..., nan, nan, nan],\n",
      "       [nan, nan, nan, ..., nan, nan, nan],\n",
      "       [nan, nan, nan, ..., nan, nan, nan]]), array([[nan, nan, nan, ..., nan, nan, nan],\n",
      "       [nan, nan, nan, ..., nan, nan, nan],\n",
      "       [nan, nan, nan, ..., nan, nan, nan],\n",
      "       ...,\n",
      "       [nan, nan, nan, ..., nan, nan, nan],\n",
      "       [nan, nan, nan, ..., nan, nan, nan],\n",
      "       [nan, nan, nan, ..., nan, nan, nan]]), array([[nan, nan, nan, ..., nan, nan, nan],\n",
      "       [nan, nan, nan, ..., nan, nan, nan],\n",
      "       [nan, nan, nan, ..., nan, nan, nan],\n",
      "       ...,\n",
      "       [nan, nan, nan, ..., nan, nan, nan],\n",
      "       [nan, nan, nan, ..., nan, nan, nan],\n",
      "       [nan, nan, nan, ..., nan, nan, nan]]), array([[nan, nan, nan, ..., nan, nan, nan],\n",
      "       [nan, nan, nan, ..., nan, nan, nan],\n",
      "       [nan, nan, nan, ..., nan, nan, nan],\n",
      "       ...,\n",
      "       [nan, nan, nan, ..., nan, nan, nan],\n",
      "       [nan, nan, nan, ..., nan, nan, nan],\n",
      "       [nan, nan, nan, ..., nan, nan, nan]])]\n",
      "[array([[nan, nan, nan, nan, nan],\n",
      "       [nan, nan, nan, nan, nan],\n",
      "       [nan, nan, nan, nan, nan],\n",
      "       ...,\n",
      "       [nan, nan, nan, nan, nan],\n",
      "       [nan, nan, nan, nan, nan],\n",
      "       [nan, nan, nan, nan, nan]]), array([[nan, nan, nan, nan, nan],\n",
      "       [nan, nan, nan, nan, nan],\n",
      "       [nan, nan, nan, nan, nan],\n",
      "       ...,\n",
      "       [nan, nan, nan, nan, nan],\n",
      "       [nan, nan, nan, nan, nan],\n",
      "       [nan, nan, nan, nan, nan]]), array([[nan, nan, nan, nan, nan],\n",
      "       [nan, nan, nan, nan, nan],\n",
      "       [nan, nan, nan, nan, nan],\n",
      "       ...,\n",
      "       [nan, nan, nan, nan, nan],\n",
      "       [nan, nan, nan, nan, nan],\n",
      "       [nan, nan, nan, nan, nan]]), array([[nan, nan, nan, nan, nan],\n",
      "       [nan, nan, nan, nan, nan],\n",
      "       [nan, nan, nan, nan, nan],\n",
      "       ...,\n",
      "       [nan, nan, nan, nan, nan],\n",
      "       [nan, nan, nan, nan, nan],\n",
      "       [nan, nan, nan, nan, nan]]), array([[nan, nan, nan, nan, nan],\n",
      "       [nan, nan, nan, nan, nan],\n",
      "       [nan, nan, nan, nan, nan],\n",
      "       ...,\n",
      "       [nan, nan, nan, nan, nan],\n",
      "       [nan, nan, nan, nan, nan],\n",
      "       [nan, nan, nan, nan, nan]]), array([[nan, nan, nan, nan, nan],\n",
      "       [nan, nan, nan, nan, nan],\n",
      "       [nan, nan, nan, nan, nan],\n",
      "       ...,\n",
      "       [nan, nan, nan, nan, nan],\n",
      "       [nan, nan, nan, nan, nan],\n",
      "       [nan, nan, nan, nan, nan]]), array([[nan, nan, nan, nan, nan],\n",
      "       [nan, nan, nan, nan, nan],\n",
      "       [nan, nan, nan, nan, nan],\n",
      "       ...,\n",
      "       [nan, nan, nan, nan, nan],\n",
      "       [nan, nan, nan, nan, nan],\n",
      "       [nan, nan, nan, nan, nan]]), array([[nan, nan, nan, nan, nan],\n",
      "       [nan, nan, nan, nan, nan],\n",
      "       [nan, nan, nan, nan, nan],\n",
      "       ...,\n",
      "       [nan, nan, nan, nan, nan],\n",
      "       [nan, nan, nan, nan, nan],\n",
      "       [nan, nan, nan, nan, nan]]), array([[nan, nan, nan, nan, nan],\n",
      "       [nan, nan, nan, nan, nan],\n",
      "       [nan, nan, nan, nan, nan],\n",
      "       ...,\n",
      "       [nan, nan, nan, nan, nan],\n",
      "       [nan, nan, nan, nan, nan],\n",
      "       [nan, nan, nan, nan, nan]]), array([[nan, nan, nan, nan, nan],\n",
      "       [nan, nan, nan, nan, nan],\n",
      "       [nan, nan, nan, nan, nan],\n",
      "       ...,\n",
      "       [nan, nan, nan, nan, nan],\n",
      "       [nan, nan, nan, nan, nan],\n",
      "       [nan, nan, nan, nan, nan]]), array([[nan, nan, nan, nan, nan],\n",
      "       [nan, nan, nan, nan, nan],\n",
      "       [nan, nan, nan, nan, nan],\n",
      "       ...,\n",
      "       [nan, nan, nan, nan, nan],\n",
      "       [nan, nan, nan, nan, nan],\n",
      "       [nan, nan, nan, nan, nan]]), array([[nan, nan, nan, nan, nan],\n",
      "       [nan, nan, nan, nan, nan],\n",
      "       [nan, nan, nan, nan, nan],\n",
      "       ...,\n",
      "       [nan, nan, nan, nan, nan],\n",
      "       [nan, nan, nan, nan, nan],\n",
      "       [nan, nan, nan, nan, nan]]), array([[nan, nan, nan, nan, nan],\n",
      "       [nan, nan, nan, nan, nan],\n",
      "       [nan, nan, nan, nan, nan],\n",
      "       ...,\n",
      "       [nan, nan, nan, nan, nan],\n",
      "       [nan, nan, nan, nan, nan],\n",
      "       [nan, nan, nan, nan, nan]]), array([[nan, nan, nan, nan, nan],\n",
      "       [nan, nan, nan, nan, nan],\n",
      "       [nan, nan, nan, nan, nan],\n",
      "       ...,\n",
      "       [nan, nan, nan, nan, nan],\n",
      "       [nan, nan, nan, nan, nan],\n",
      "       [nan, nan, nan, nan, nan]]), array([[nan, nan, nan, nan, nan],\n",
      "       [nan, nan, nan, nan, nan],\n",
      "       [nan, nan, nan, nan, nan],\n",
      "       ...,\n",
      "       [nan, nan, nan, nan, nan],\n",
      "       [nan, nan, nan, nan, nan],\n",
      "       [nan, nan, nan, nan, nan]]), array([[nan, nan, nan, nan, nan],\n",
      "       [nan, nan, nan, nan, nan],\n",
      "       [nan, nan, nan, nan, nan],\n",
      "       ...,\n",
      "       [nan, nan, nan, nan, nan],\n",
      "       [nan, nan, nan, nan, nan],\n",
      "       [nan, nan, nan, nan, nan]]), array([[nan, nan, nan, nan, nan],\n",
      "       [nan, nan, nan, nan, nan],\n",
      "       [nan, nan, nan, nan, nan],\n",
      "       ...,\n",
      "       [nan, nan, nan, nan, nan],\n",
      "       [nan, nan, nan, nan, nan],\n",
      "       [nan, nan, nan, nan, nan]]), array([[nan, nan, nan, nan, nan],\n",
      "       [nan, nan, nan, nan, nan],\n",
      "       [nan, nan, nan, nan, nan],\n",
      "       ...,\n",
      "       [nan, nan, nan, nan, nan],\n",
      "       [nan, nan, nan, nan, nan],\n",
      "       [nan, nan, nan, nan, nan]]), array([[nan, nan, nan, nan, nan],\n",
      "       [nan, nan, nan, nan, nan],\n",
      "       [nan, nan, nan, nan, nan],\n",
      "       ...,\n",
      "       [nan, nan, nan, nan, nan],\n",
      "       [nan, nan, nan, nan, nan],\n",
      "       [nan, nan, nan, nan, nan]]), array([[nan, nan, nan, nan, nan],\n",
      "       [nan, nan, nan, nan, nan],\n",
      "       [nan, nan, nan, nan, nan],\n",
      "       ...,\n",
      "       [nan, nan, nan, nan, nan],\n",
      "       [nan, nan, nan, nan, nan],\n",
      "       [nan, nan, nan, nan, nan]]), array([[nan, nan, nan, nan, nan],\n",
      "       [nan, nan, nan, nan, nan],\n",
      "       [nan, nan, nan, nan, nan],\n",
      "       ...,\n",
      "       [nan, nan, nan, nan, nan],\n",
      "       [nan, nan, nan, nan, nan],\n",
      "       [nan, nan, nan, nan, nan]]), array([[nan, nan, nan, nan, nan],\n",
      "       [nan, nan, nan, nan, nan],\n",
      "       [nan, nan, nan, nan, nan],\n",
      "       ...,\n",
      "       [nan, nan, nan, nan, nan],\n",
      "       [nan, nan, nan, nan, nan],\n",
      "       [nan, nan, nan, nan, nan]]), array([[nan, nan, nan, nan, nan],\n",
      "       [nan, nan, nan, nan, nan],\n",
      "       [nan, nan, nan, nan, nan],\n",
      "       ...,\n",
      "       [nan, nan, nan, nan, nan],\n",
      "       [nan, nan, nan, nan, nan],\n",
      "       [nan, nan, nan, nan, nan]]), array([[nan, nan, nan, nan, nan],\n",
      "       [nan, nan, nan, nan, nan],\n",
      "       [nan, nan, nan, nan, nan],\n",
      "       ...,\n",
      "       [nan, nan, nan, nan, nan],\n",
      "       [nan, nan, nan, nan, nan],\n",
      "       [nan, nan, nan, nan, nan]]), array([[nan, nan, nan, nan, nan],\n",
      "       [nan, nan, nan, nan, nan],\n",
      "       [nan, nan, nan, nan, nan],\n",
      "       ...,\n",
      "       [nan, nan, nan, nan, nan],\n",
      "       [nan, nan, nan, nan, nan],\n",
      "       [nan, nan, nan, nan, nan]]), array([[nan, nan, nan, nan, nan],\n",
      "       [nan, nan, nan, nan, nan],\n",
      "       [nan, nan, nan, nan, nan],\n",
      "       ...,\n",
      "       [nan, nan, nan, nan, nan],\n",
      "       [nan, nan, nan, nan, nan],\n",
      "       [nan, nan, nan, nan, nan]]), array([[nan, nan, nan, nan, nan],\n",
      "       [nan, nan, nan, nan, nan],\n",
      "       [nan, nan, nan, nan, nan],\n",
      "       ...,\n",
      "       [nan, nan, nan, nan, nan],\n",
      "       [nan, nan, nan, nan, nan],\n",
      "       [nan, nan, nan, nan, nan]]), array([[nan, nan, nan, nan, nan],\n",
      "       [nan, nan, nan, nan, nan],\n",
      "       [nan, nan, nan, nan, nan],\n",
      "       ...,\n",
      "       [nan, nan, nan, nan, nan],\n",
      "       [nan, nan, nan, nan, nan],\n",
      "       [nan, nan, nan, nan, nan]]), array([[nan, nan, nan, nan, nan],\n",
      "       [nan, nan, nan, nan, nan],\n",
      "       [nan, nan, nan, nan, nan],\n",
      "       ...,\n",
      "       [nan, nan, nan, nan, nan],\n",
      "       [nan, nan, nan, nan, nan],\n",
      "       [nan, nan, nan, nan, nan]]), array([[nan, nan, nan, nan, nan],\n",
      "       [nan, nan, nan, nan, nan],\n",
      "       [nan, nan, nan, nan, nan],\n",
      "       ...,\n",
      "       [nan, nan, nan, nan, nan],\n",
      "       [nan, nan, nan, nan, nan],\n",
      "       [nan, nan, nan, nan, nan]]), array([[nan, nan, nan, nan, nan],\n",
      "       [nan, nan, nan, nan, nan],\n",
      "       [nan, nan, nan, nan, nan],\n",
      "       ...,\n",
      "       [nan, nan, nan, nan, nan],\n",
      "       [nan, nan, nan, nan, nan],\n",
      "       [nan, nan, nan, nan, nan]]), array([[nan, nan, nan, nan, nan],\n",
      "       [nan, nan, nan, nan, nan],\n",
      "       [nan, nan, nan, nan, nan],\n",
      "       ...,\n",
      "       [nan, nan, nan, nan, nan],\n",
      "       [nan, nan, nan, nan, nan],\n",
      "       [nan, nan, nan, nan, nan]]), array([[nan, nan, nan, nan, nan],\n",
      "       [nan, nan, nan, nan, nan],\n",
      "       [nan, nan, nan, nan, nan],\n",
      "       ...,\n",
      "       [nan, nan, nan, nan, nan],\n",
      "       [nan, nan, nan, nan, nan],\n",
      "       [nan, nan, nan, nan, nan]]), array([[nan, nan, nan, nan, nan],\n",
      "       [nan, nan, nan, nan, nan],\n",
      "       [nan, nan, nan, nan, nan],\n",
      "       ...,\n",
      "       [nan, nan, nan, nan, nan],\n",
      "       [nan, nan, nan, nan, nan],\n",
      "       [nan, nan, nan, nan, nan]]), array([[nan, nan, nan, nan, nan],\n",
      "       [nan, nan, nan, nan, nan],\n",
      "       [nan, nan, nan, nan, nan],\n",
      "       ...,\n",
      "       [nan, nan, nan, nan, nan],\n",
      "       [nan, nan, nan, nan, nan],\n",
      "       [nan, nan, nan, nan, nan]]), array([[nan, nan, nan, nan, nan],\n",
      "       [nan, nan, nan, nan, nan],\n",
      "       [nan, nan, nan, nan, nan],\n",
      "       ...,\n",
      "       [nan, nan, nan, nan, nan],\n",
      "       [nan, nan, nan, nan, nan],\n",
      "       [nan, nan, nan, nan, nan]]), array([[nan, nan, nan, nan, nan],\n",
      "       [nan, nan, nan, nan, nan],\n",
      "       [nan, nan, nan, nan, nan],\n",
      "       ...,\n",
      "       [nan, nan, nan, nan, nan],\n",
      "       [nan, nan, nan, nan, nan],\n",
      "       [nan, nan, nan, nan, nan]]), array([[nan, nan, nan, nan, nan],\n",
      "       [nan, nan, nan, nan, nan],\n",
      "       [nan, nan, nan, nan, nan],\n",
      "       ...,\n",
      "       [nan, nan, nan, nan, nan],\n",
      "       [nan, nan, nan, nan, nan],\n",
      "       [nan, nan, nan, nan, nan]]), array([[nan, nan, nan, nan, nan],\n",
      "       [nan, nan, nan, nan, nan],\n",
      "       [nan, nan, nan, nan, nan],\n",
      "       ...,\n",
      "       [nan, nan, nan, nan, nan],\n",
      "       [nan, nan, nan, nan, nan],\n",
      "       [nan, nan, nan, nan, nan]]), array([[nan, nan, nan, nan, nan],\n",
      "       [nan, nan, nan, nan, nan],\n",
      "       [nan, nan, nan, nan, nan],\n",
      "       ...,\n",
      "       [nan, nan, nan, nan, nan],\n",
      "       [nan, nan, nan, nan, nan],\n",
      "       [nan, nan, nan, nan, nan]]), array([[nan, nan, nan, nan, nan],\n",
      "       [nan, nan, nan, nan, nan],\n",
      "       [nan, nan, nan, nan, nan],\n",
      "       ...,\n",
      "       [nan, nan, nan, nan, nan],\n",
      "       [nan, nan, nan, nan, nan],\n",
      "       [nan, nan, nan, nan, nan]]), array([[nan, nan, nan, nan, nan],\n",
      "       [nan, nan, nan, nan, nan],\n",
      "       [nan, nan, nan, nan, nan],\n",
      "       ...,\n",
      "       [nan, nan, nan, nan, nan],\n",
      "       [nan, nan, nan, nan, nan],\n",
      "       [nan, nan, nan, nan, nan]]), array([[nan, nan, nan, nan, nan],\n",
      "       [nan, nan, nan, nan, nan],\n",
      "       [nan, nan, nan, nan, nan],\n",
      "       ...,\n",
      "       [nan, nan, nan, nan, nan],\n",
      "       [nan, nan, nan, nan, nan],\n",
      "       [nan, nan, nan, nan, nan]]), array([[nan, nan, nan, nan, nan],\n",
      "       [nan, nan, nan, nan, nan],\n",
      "       [nan, nan, nan, nan, nan],\n",
      "       ...,\n",
      "       [nan, nan, nan, nan, nan],\n",
      "       [nan, nan, nan, nan, nan],\n",
      "       [nan, nan, nan, nan, nan]]), array([[nan, nan, nan, nan, nan],\n",
      "       [nan, nan, nan, nan, nan],\n",
      "       [nan, nan, nan, nan, nan],\n",
      "       ...,\n",
      "       [nan, nan, nan, nan, nan],\n",
      "       [nan, nan, nan, nan, nan],\n",
      "       [nan, nan, nan, nan, nan]]), array([[nan, nan, nan, nan, nan],\n",
      "       [nan, nan, nan, nan, nan],\n",
      "       [nan, nan, nan, nan, nan],\n",
      "       ...,\n",
      "       [nan, nan, nan, nan, nan],\n",
      "       [nan, nan, nan, nan, nan],\n",
      "       [nan, nan, nan, nan, nan]]), array([[nan, nan, nan, nan, nan],\n",
      "       [nan, nan, nan, nan, nan],\n",
      "       [nan, nan, nan, nan, nan],\n",
      "       ...,\n",
      "       [nan, nan, nan, nan, nan],\n",
      "       [nan, nan, nan, nan, nan],\n",
      "       [nan, nan, nan, nan, nan]]), array([[nan, nan, nan, nan, nan],\n",
      "       [nan, nan, nan, nan, nan],\n",
      "       [nan, nan, nan, nan, nan],\n",
      "       ...,\n",
      "       [nan, nan, nan, nan, nan],\n",
      "       [nan, nan, nan, nan, nan],\n",
      "       [nan, nan, nan, nan, nan]]), array([[nan, nan, nan, nan, nan],\n",
      "       [nan, nan, nan, nan, nan],\n",
      "       [nan, nan, nan, nan, nan],\n",
      "       ...,\n",
      "       [nan, nan, nan, nan, nan],\n",
      "       [nan, nan, nan, nan, nan],\n",
      "       [nan, nan, nan, nan, nan]]), array([[nan, nan, nan, nan, nan],\n",
      "       [nan, nan, nan, nan, nan],\n",
      "       [nan, nan, nan, nan, nan],\n",
      "       ...,\n",
      "       [nan, nan, nan, nan, nan],\n",
      "       [nan, nan, nan, nan, nan],\n",
      "       [nan, nan, nan, nan, nan]]), array([[nan, nan, nan, nan, nan],\n",
      "       [nan, nan, nan, nan, nan],\n",
      "       [nan, nan, nan, nan, nan],\n",
      "       ...,\n",
      "       [nan, nan, nan, nan, nan],\n",
      "       [nan, nan, nan, nan, nan],\n",
      "       [nan, nan, nan, nan, nan]])]\n"
     ]
    }
   ],
   "source": [
    "features_extended = []\n",
    "labels_extended = []\n",
    "for i in range(n_samples):\n",
    "  features_extended.append(np.full((n_time_steps, n_features), np.NaN))\n",
    "  labels_extended.append(np.full((n_time_steps, n_labels), np.NaN))\n",
    "\n",
    "print(features_extended)\n",
    "print(labels_extended)"
   ]
  },
  {
   "cell_type": "code",
   "execution_count": 7,
   "metadata": {
    "colab": {
     "base_uri": "https://localhost:8080/",
     "height": 0
    },
    "executionInfo": {
     "elapsed": 2989,
     "status": "ok",
     "timestamp": 1617738565874,
     "user": {
      "displayName": "Garold Murdachaew",
      "photoUrl": "",
      "userId": "10767911817898383988"
     },
     "user_tz": -180
    },
    "id": "ygmor4-IEMzK",
    "outputId": "8fbeb67b-b03a-491e-9e9b-f19f7bb0301d"
   },
   "outputs": [
    {
     "data": {
      "text/plain": [
       "array([[nan, nan, nan, ..., nan, nan, nan],\n",
       "       [nan, nan, nan, ..., nan, nan, nan],\n",
       "       [nan, nan, nan, ..., nan, nan, nan],\n",
       "       ...,\n",
       "       [nan, nan, nan, ..., nan, nan, nan],\n",
       "       [nan, nan, nan, ..., nan, nan, nan],\n",
       "       [nan, nan, nan, ..., nan, nan, nan]])"
      ]
     },
     "execution_count": 7,
     "metadata": {
      "tags": []
     },
     "output_type": "execute_result"
    }
   ],
   "source": [
    "features_extended[0]"
   ]
  },
  {
   "cell_type": "code",
   "execution_count": 8,
   "metadata": {
    "colab": {
     "base_uri": "https://localhost:8080/",
     "height": 0
    },
    "executionInfo": {
     "elapsed": 2970,
     "status": "ok",
     "timestamp": 1617738565875,
     "user": {
      "displayName": "Garold Murdachaew",
      "photoUrl": "",
      "userId": "10767911817898383988"
     },
     "user_tz": -180
    },
    "id": "FCAgqXvhEQTY",
    "outputId": "120358c8-f593-4186-8d30-f001bd8e6b24"
   },
   "outputs": [
    {
     "data": {
      "text/plain": [
       "array([[nan, nan, nan, nan, nan],\n",
       "       [nan, nan, nan, nan, nan],\n",
       "       [nan, nan, nan, nan, nan],\n",
       "       ...,\n",
       "       [nan, nan, nan, nan, nan],\n",
       "       [nan, nan, nan, nan, nan],\n",
       "       [nan, nan, nan, nan, nan]])"
      ]
     },
     "execution_count": 8,
     "metadata": {
      "tags": []
     },
     "output_type": "execute_result"
    }
   ],
   "source": [
    "labels_extended[0]"
   ]
  },
  {
   "cell_type": "code",
   "execution_count": 9,
   "metadata": {
    "executionInfo": {
     "elapsed": 3574,
     "status": "ok",
     "timestamp": 1617738566497,
     "user": {
      "displayName": "Garold Murdachaew",
      "photoUrl": "",
      "userId": "10767911817898383988"
     },
     "user_tz": -180
    },
    "id": "a5I7zWRJup3D"
   },
   "outputs": [],
   "source": [
    "# Instead of imputing mean for the missing rows (nan values), use the last non-nan row;\n",
    "# this intuitively seems more proper to avoid an unphysical sudden change in a feature or label \n",
    "#for i in range(n_samples):\n",
    "#  features_extended[i] = np.where(np.isnan(features_extended[i]), np.ma.array(features_extended[i], mask=np.isnan(features_extended[i])).mean(axis=0), features_extended[i])\n",
    "\n",
    "#for i in range(n_samples):\n",
    "#  labels_extended[i] = np.where(np.isnan(labels_extended[i]), np.ma.array(labels_extended[i], mask=np.isnan(labels_extended[i])).mean(axis=0), labels_extended[i])\n",
    "\n",
    "for i in range(n_samples):\n",
    "  for j in range(features[i].shape[0]):\n",
    "      features_extended[i][j,:] = features[i][j,:]\n",
    "      labels_extended[i][j,:] = labels[i][j,:]\n",
    "  for j in range(features[i].shape[0], features_extended[i].shape[0]):\n",
    "    features_extended[i][j,:] = features[i][-1,:]\n",
    "    labels_extended[i][j,:] = labels[i][-1,:]"
   ]
  },
  {
   "cell_type": "code",
   "execution_count": 10,
   "metadata": {
    "colab": {
     "base_uri": "https://localhost:8080/",
     "height": 0
    },
    "executionInfo": {
     "elapsed": 3559,
     "status": "ok",
     "timestamp": 1617738566512,
     "user": {
      "displayName": "Garold Murdachaew",
      "photoUrl": "",
      "userId": "10767911817898383988"
     },
     "user_tz": -180
    },
    "id": "MYfRXXMRxmb8",
    "outputId": "b010fcc5-fc10-4bcf-c1b4-047619060c59"
   },
   "outputs": [
    {
     "data": {
      "text/plain": [
       "array([[341., 347., 341., ..., 289., 319., 253.],\n",
       "       [341., 347., 341., ..., 289., 319., 253.],\n",
       "       [341., 348., 341., ..., 289., 320., 253.],\n",
       "       ...,\n",
       "       [353., 366., 352., ..., 297., 329., 253.],\n",
       "       [353., 366., 352., ..., 297., 329., 253.],\n",
       "       [353., 366., 352., ..., 297., 329., 253.]])"
      ]
     },
     "execution_count": 10,
     "metadata": {
      "tags": []
     },
     "output_type": "execute_result"
    }
   ],
   "source": [
    "features_extended[0]"
   ]
  },
  {
   "cell_type": "code",
   "execution_count": 11,
   "metadata": {
    "colab": {
     "base_uri": "https://localhost:8080/",
     "height": 0
    },
    "executionInfo": {
     "elapsed": 3529,
     "status": "ok",
     "timestamp": 1617738566515,
     "user": {
      "displayName": "Garold Murdachaew",
      "photoUrl": "",
      "userId": "10767911817898383988"
     },
     "user_tz": -180
    },
    "id": "SozLPDnjEY_F",
    "outputId": "b91d0599-9fe9-454a-90f6-7bcbc345d3c2"
   },
   "outputs": [
    {
     "data": {
      "text/plain": [
       "array([[341., 351., 344., ..., 289., 326., 249.],\n",
       "       [343., 351., 344., ..., 289., 326., 250.],\n",
       "       [343., 352., 345., ..., 289., 326., 250.],\n",
       "       ...,\n",
       "       [347., 354., 342., ..., 292., 328., 250.],\n",
       "       [347., 354., 341., ..., 292., 327., 250.],\n",
       "       [348., 354., 341., ..., 292., 327., 251.]])"
      ]
     },
     "execution_count": 11,
     "metadata": {
      "tags": []
     },
     "output_type": "execute_result"
    }
   ],
   "source": [
    "features_extended[6]"
   ]
  },
  {
   "cell_type": "code",
   "execution_count": 12,
   "metadata": {
    "colab": {
     "base_uri": "https://localhost:8080/",
     "height": 0
    },
    "executionInfo": {
     "elapsed": 3509,
     "status": "ok",
     "timestamp": 1617738566518,
     "user": {
      "displayName": "Garold Murdachaew",
      "photoUrl": "",
      "userId": "10767911817898383988"
     },
     "user_tz": -180
    },
    "id": "n_yirQpDy_tP",
    "outputId": "c681786d-f91d-41f4-dafd-9e090fd7e395"
   },
   "outputs": [
    {
     "data": {
      "text/plain": [
       "array([[ 0.22357153,  0.99496208,  0.9940664 ,  0.99074757,  0.91400573],\n",
       "       [ 0.41729854,  0.966014  ,  0.9855725 ,  0.98592047,  0.95746513],\n",
       "       [ 0.48011878,  0.96245373,  0.97715618,  0.98331914,  0.96457863],\n",
       "       ...,\n",
       "       [ 0.66263708, -0.01864924,  0.97818341,  0.99152175,  0.97322957],\n",
       "       [ 0.66263708, -0.01864924,  0.97818341,  0.99152175,  0.97322957],\n",
       "       [ 0.66263708, -0.01864924,  0.97818341,  0.99152175,  0.97322957]])"
      ]
     },
     "execution_count": 12,
     "metadata": {
      "tags": []
     },
     "output_type": "execute_result"
    }
   ],
   "source": [
    "labels_extended[0]"
   ]
  },
  {
   "cell_type": "code",
   "execution_count": 13,
   "metadata": {
    "colab": {
     "base_uri": "https://localhost:8080/",
     "height": 0
    },
    "executionInfo": {
     "elapsed": 3495,
     "status": "ok",
     "timestamp": 1617738566530,
     "user": {
      "displayName": "Garold Murdachaew",
      "photoUrl": "",
      "userId": "10767911817898383988"
     },
     "user_tz": -180
    },
    "id": "_YebPebFDjRK",
    "outputId": "c62437af-77d2-42fa-b7f0-5febd306e2b8"
   },
   "outputs": [
    {
     "data": {
      "text/plain": [
       "array([[0.43893767, 0.92950599, 0.96534301, 0.98771034, 0.97779767],\n",
       "       [0.43861785, 0.93203866, 0.96526262, 0.98699533, 0.97795311],\n",
       "       [0.44241947, 0.9371996 , 0.96759891, 0.98651075, 0.97713577],\n",
       "       ...,\n",
       "       [0.50392182, 0.95871953, 0.97180332, 0.96983296, 0.96772247],\n",
       "       [0.50635417, 0.96951422, 0.97576246, 0.97381956, 0.9723318 ],\n",
       "       [0.51060372, 0.97616196, 0.97973472, 0.97788348, 0.9745093 ]])"
      ]
     },
     "execution_count": 13,
     "metadata": {
      "tags": []
     },
     "output_type": "execute_result"
    }
   ],
   "source": [
    "labels_extended[6]"
   ]
  },
  {
   "cell_type": "code",
   "execution_count": 14,
   "metadata": {
    "colab": {
     "base_uri": "https://localhost:8080/",
     "height": 0
    },
    "executionInfo": {
     "elapsed": 3471,
     "status": "ok",
     "timestamp": 1617738566534,
     "user": {
      "displayName": "Garold Murdachaew",
      "photoUrl": "",
      "userId": "10767911817898383988"
     },
     "user_tz": -180
    },
    "id": "gUY8y1SoNA7t",
    "outputId": "a2d6d329-44fb-4dbc-9ce7-60764899c11e"
   },
   "outputs": [
    {
     "name": "stdout",
     "output_type": "stream",
     "text": [
      "(51, 5000, 30)\n"
     ]
    }
   ],
   "source": [
    "X = np.array(features_extended)\n",
    "print(X.shape)\n",
    "#X = np.vstack(X)\n",
    "#print(X.shape)"
   ]
  },
  {
   "cell_type": "code",
   "execution_count": 15,
   "metadata": {
    "colab": {
     "base_uri": "https://localhost:8080/",
     "height": 0
    },
    "executionInfo": {
     "elapsed": 3444,
     "status": "ok",
     "timestamp": 1617738566537,
     "user": {
      "displayName": "Garold Murdachaew",
      "photoUrl": "",
      "userId": "10767911817898383988"
     },
     "user_tz": -180
    },
    "id": "syikXsyBMl5H",
    "outputId": "a6207c52-4af0-4936-9159-99c94733556b"
   },
   "outputs": [
    {
     "data": {
      "text/plain": [
       "(0.08300781, 0.41796875, 0.2788339, 0.055174924)"
      ]
     },
     "execution_count": 15,
     "metadata": {
      "tags": []
     },
     "output_type": "execute_result"
    }
   ],
   "source": [
    "# Normalize data to have feature values between 0 and 1:\n",
    "# divide by max possible feature value (1024 = 10-bit resolution)\n",
    "# Can also save memory by reducing resolution to 4 bytes\n",
    "X = X.astype('float32') / 1024.0 # below will also use StandardScaler, will train on train set, better for NN applications\n",
    "np.min(X), np.max(X), np.mean(X), np.std(X)"
   ]
  },
  {
   "cell_type": "code",
   "execution_count": 16,
   "metadata": {
    "colab": {
     "base_uri": "https://localhost:8080/",
     "height": 0
    },
    "executionInfo": {
     "elapsed": 3436,
     "status": "ok",
     "timestamp": 1617738566549,
     "user": {
      "displayName": "Garold Murdachaew",
      "photoUrl": "",
      "userId": "10767911817898383988"
     },
     "user_tz": -180
    },
    "id": "ePvr8lI1MmjV",
    "outputId": "84fbfef9-c113-4dd0-a838-5b2c6fa3602b"
   },
   "outputs": [
    {
     "name": "stdout",
     "output_type": "stream",
     "text": [
      "(51, 5000, 5)\n"
     ]
    }
   ],
   "source": [
    "y = np.array(labels_extended)\n",
    "print(y.shape)\n",
    "#y = np.vstack(y)\n",
    "#print(y.shape)"
   ]
  },
  {
   "cell_type": "code",
   "execution_count": 17,
   "metadata": {
    "colab": {
     "base_uri": "https://localhost:8080/",
     "height": 0
    },
    "executionInfo": {
     "elapsed": 3420,
     "status": "ok",
     "timestamp": 1617738566552,
     "user": {
      "displayName": "Garold Murdachaew",
      "photoUrl": "",
      "userId": "10767911817898383988"
     },
     "user_tz": -180
    },
    "id": "ViafQ2iRNOsh",
    "outputId": "d0161c9c-cd93-4d18-88f0-a00ed17633fe"
   },
   "outputs": [
    {
     "data": {
      "text/plain": [
       "(-0.85305923, 0.9999999, 0.4763818, 0.61013037)"
      ]
     },
     "execution_count": 17,
     "metadata": {
      "tags": []
     },
     "output_type": "execute_result"
    }
   ],
   "source": [
    "# Can also safely reduce resolution of the labels to 4 bytes\n",
    "y = y.astype('float32')\n",
    "np.min(y), np.max(y), np.mean(y), np.std(y)"
   ]
  },
  {
   "cell_type": "code",
   "execution_count": 18,
   "metadata": {
    "colab": {
     "base_uri": "https://localhost:8080/",
     "height": 0
    },
    "executionInfo": {
     "elapsed": 3413,
     "status": "ok",
     "timestamp": 1617738566564,
     "user": {
      "displayName": "Garold Murdachaew",
      "photoUrl": "",
      "userId": "10767911817898383988"
     },
     "user_tz": -180
    },
    "id": "h0dVim9OMllT",
    "outputId": "3e8efbe1-65d5-486b-a5d7-19f0efb8b4e9"
   },
   "outputs": [
    {
     "name": "stdout",
     "output_type": "stream",
     "text": [
      "(51, 5000, 30)\n",
      "(51, 5000, 5)\n"
     ]
    }
   ],
   "source": [
    "print(X.shape)\n",
    "print(y.shape)"
   ]
  },
  {
   "cell_type": "code",
   "execution_count": 19,
   "metadata": {
    "colab": {
     "base_uri": "https://localhost:8080/",
     "height": 0
    },
    "executionInfo": {
     "elapsed": 3874,
     "status": "ok",
     "timestamp": 1617738567043,
     "user": {
      "displayName": "Garold Murdachaew",
      "photoUrl": "",
      "userId": "10767911817898383988"
     },
     "user_tz": -180
    },
    "id": "Jp318hjxMVu7",
    "outputId": "bc4193f9-303c-49d8-9ed1-6da18922cc4e"
   },
   "outputs": [
    {
     "name": "stdout",
     "output_type": "stream",
     "text": [
      "51\n",
      "51\n",
      "35\n",
      "16\n",
      "8\n",
      "8\n",
      "(51, 5000, 30) (51, 5000, 5)\n",
      "(35, 5000, 30) (35, 5000, 5)\n",
      "(8, 5000, 30) (8, 5000, 5) (8, 5000, 30) (8, 5000, 5)\n"
     ]
    }
   ],
   "source": [
    "# same splitting percentages:\n",
    "# train/valid_test split = 70%/30%, valid/test split = 50%/50%\n",
    "# Therefore, train/valid/test split = 70%/15%/15%\n",
    "\n",
    "# perhaps should not use this for such time series data, but the splitting code below leads to problems in the NN fits \n",
    "# X_train, X_valid_test, y_train, y_valid_test = train_test_split(X, y, test_size=0.30, random_state=42)\n",
    "# X_valid, X_test, y_valid, y_test = train_test_split(X_valid_test, y_valid_test, test_size=0.50, random_state=42)\n",
    "\n",
    "###\n",
    "\n",
    "# Preserve the time information!!!\n",
    "\n",
    "# The splitting code below leads to problems in the NN fits so dont use it (maybe only with RNNs)\n",
    "# Be careful in splitting time series data: using train_test_split will randomly reorder the data\n",
    "# The simple code here does the same split without reordering any data\n",
    "# train / validate / test split = first 70% / next 15% / last 15%\n",
    "\n",
    "print(n_samples)\n",
    "n_samples = X.shape[0]\n",
    "print(n_samples)\n",
    "n_samples_train = int(X.shape[0]*0.70)\n",
    "print(n_samples_train)\n",
    "\n",
    "X_train = X[:n_samples_train]\n",
    "X_valid_test = X[n_samples_train:]\n",
    "y_train = y[:n_samples_train]\n",
    "y_valid_test = y[n_samples_train:]\n",
    "\n",
    "n_samples_valid_test = X_valid_test.shape[0]\n",
    "print(n_samples_valid_test)\n",
    "n_samples_valid = int(X_valid_test.shape[0]*0.50)\n",
    "n_samples_test = int(X_valid_test.shape[0]*0.50)\n",
    "print(n_samples_valid)\n",
    "print(n_samples_test)\n",
    "X_valid = X_valid_test[:int(X_valid_test.shape[0]*0.50)]\n",
    "X_test = X_valid_test[int(X_valid_test.shape[0]*0.50):]\n",
    "y_valid = y_valid_test[:int(X_valid_test.shape[0]*0.50)]\n",
    "y_test = y_valid_test[int(X_valid_test.shape[0]*0.50):]\n",
    "\n",
    "# or can use this:\n",
    "\n",
    "from sklearn.model_selection import train_test_split\n",
    "from sklearn.metrics import mean_squared_error, mean_absolute_error\n",
    "\n",
    "# Preserve the time information by using shuffle=False\n",
    "# X_train, X_valid_test, y_train, y_valid_test = train_test_split(X, y, test_size=0.30, shuffle=False)\n",
    "# X_valid, X_test, y_valid, y_test = train_test_split(X_valid_test, y_valid_test, test_size=0.50, shuffle=False)\n",
    "###\n",
    "\n",
    "print(X.shape, y.shape)\n",
    "print(X_train.shape, y_train.shape)\n",
    "print(X_valid.shape, y_valid.shape, X_test.shape, y_test.shape)"
   ]
  },
  {
   "cell_type": "markdown",
   "metadata": {
    "id": "A8rSb6sz9FR2"
   },
   "source": [
    "X arrays: convert to the type of 3d arrays expected by LSTM: X_array(data_lines, lag_steps, n_features_shifted)."
   ]
  },
  {
   "cell_type": "code",
   "execution_count": 20,
   "metadata": {
    "colab": {
     "base_uri": "https://localhost:8080/",
     "height": 0
    },
    "executionInfo": {
     "elapsed": 3874,
     "status": "ok",
     "timestamp": 1617738567063,
     "user": {
      "displayName": "Garold Murdachaew",
      "photoUrl": "",
      "userId": "10767911817898383988"
     },
     "user_tz": -180
    },
    "id": "_T3MJBC4GBWh",
    "outputId": "ec4914d7-fa83-425b-b431-4d3c0990f90b"
   },
   "outputs": [
    {
     "name": "stdout",
     "output_type": "stream",
     "text": [
      "(35, 5000, 35) (35, 5000, 5)\n",
      "(8, 5000, 35) (8, 5000, 5)\n",
      "(8, 5000, 35) (8, 5000, 5)\n",
      "\n",
      "X_train_shifted:\n",
      "[[[ 0.33300781  0.33886719  0.33300781 ...  0.99406642  0.99074757\n",
      "    0.91400576]\n",
      "  [ 0.33300781  0.33886719  0.33300781 ...  0.98557252  0.98592049\n",
      "    0.95746511]\n",
      "  [ 0.33300781  0.33984375  0.33300781 ...  0.97715616  0.98331916\n",
      "    0.96457863]\n",
      "  ...\n",
      "  [ 0.34472656  0.35742188  0.34375    ...  0.97818339  0.99152178\n",
      "    0.97322959]\n",
      "  [ 0.34472656  0.35742188  0.34375    ...  0.97818339  0.99152178\n",
      "    0.97322959]\n",
      "  [ 0.34472656  0.35742188  0.34375    ...  0.97818339  0.99152178\n",
      "    0.97322959]]\n",
      "\n",
      " [[ 0.33105469  0.33691406  0.33007812 ...  0.99334639  0.9781878\n",
      "    0.92460269]\n",
      "  [ 0.33203125  0.33691406  0.33007812 ...  0.99334639  0.9781878\n",
      "    0.92460269]\n",
      "  [ 0.33203125  0.33691406  0.33007812 ...  0.94155204  0.94964945\n",
      "    0.94444561]\n",
      "  ...\n",
      "  [ 0.34082031  0.34765625  0.3359375  ...  0.98878533  0.98820382\n",
      "    0.98271888]\n",
      "  [ 0.34082031  0.34765625  0.3359375  ...  0.98878533  0.98820382\n",
      "    0.98271888]\n",
      "  [ 0.34082031  0.34765625  0.3359375  ...  0.98878533  0.98820382\n",
      "    0.98271888]]\n",
      "\n",
      " [[ 0.3359375   0.34375     0.33398438 ...  0.99391121  0.97975814\n",
      "    0.94352496]\n",
      "  [ 0.33691406  0.34375     0.33398438 ...  0.99391121  0.97975814\n",
      "    0.94352496]\n",
      "  [ 0.33691406  0.34375     0.33398438 ...  0.9922272   0.98919016\n",
      "    0.96505976]\n",
      "  ...\n",
      "  [ 0.33984375  0.34570312  0.33300781 ...  0.99435568  0.98447186\n",
      "    0.95021021]\n",
      "  [ 0.33984375  0.34570312  0.33300781 ...  0.99435568  0.98447186\n",
      "    0.95021021]\n",
      "  [ 0.33984375  0.34570312  0.33300781 ...  0.99435568  0.98447186\n",
      "    0.95021021]]\n",
      "\n",
      " ...\n",
      "\n",
      " [[ 0.33984375  0.33398438  0.32324219 ...  0.91677815  0.93219495\n",
      "    0.93935949]\n",
      "  [ 0.33984375  0.33398438  0.32324219 ...  0.92497414  0.9388513\n",
      "    0.94413608]\n",
      "  [ 0.33984375  0.33398438  0.32324219 ...  0.93333632  0.94774246\n",
      "    0.95017821]\n",
      "  ...\n",
      "  [ 0.34179688  0.33789062  0.32324219 ...  0.9633373   0.93641239\n",
      "    0.87195575]\n",
      "  [ 0.34179688  0.3359375   0.32226562 ...  0.97614086  0.9498353\n",
      "    0.88956296]\n",
      "  [ 0.34082031  0.33496094  0.32226562 ...  0.98538136  0.96820498\n",
      "    0.918275  ]]\n",
      "\n",
      " [[ 0.34179688  0.30566406  0.27734375 ...  0.97464466  0.97844803\n",
      "    0.94326425]\n",
      "  [ 0.34179688  0.30566406  0.27734375 ...  0.97464466  0.97844803\n",
      "    0.94326425]\n",
      "  [ 0.34179688  0.30566406  0.27734375 ...  0.97464466  0.97844803\n",
      "    0.94326425]\n",
      "  ...\n",
      "  [ 0.34277344  0.30273438  0.265625   ...  0.99119401  0.98330408\n",
      "    0.96283382]\n",
      "  [ 0.34277344  0.30273438  0.265625   ...  0.99119401  0.98330408\n",
      "    0.96283382]\n",
      "  [ 0.34277344  0.30371094  0.265625   ...  0.99160445  0.98465931\n",
      "    0.96055013]]\n",
      "\n",
      " [[ 0.34277344  0.3125      0.28125    ...  0.93592066  0.95804793\n",
      "    0.94828457]\n",
      "  [ 0.34277344  0.3125      0.28125    ...  0.94056839  0.96110946\n",
      "    0.94993025]\n",
      "  [ 0.34277344  0.3125      0.28125    ...  0.94670743  0.96458822\n",
      "    0.95147687]\n",
      "  ...\n",
      "  [ 0.34375     0.32519531  0.30078125 ... -0.52872318 -0.4341504\n",
      "    0.86454904]\n",
      "  [ 0.34375     0.32519531  0.30078125 ... -0.52942741 -0.43492857\n",
      "    0.86443323]\n",
      "  [ 0.34375     0.32519531  0.30175781 ... -0.52882719 -0.43450457\n",
      "    0.86487943]]]\n",
      "\n",
      "y_train_shifted:\n",
      "[[[ 0.41729856  0.96601403  0.98557252  0.98592049  0.95746511]\n",
      "  [ 0.48011878  0.96245372  0.97715616  0.98331916  0.96457863]\n",
      "  [ 0.54095161  0.9698146   0.98081499  0.98418117  0.96043468]\n",
      "  ...\n",
      "  [ 0.66263711 -0.01864924  0.97818339  0.99152178  0.97322959]\n",
      "  [ 0.66263711 -0.01864924  0.97818339  0.99152178  0.97322959]\n",
      "  [        nan         nan         nan         nan         nan]]\n",
      "\n",
      " [[ 0.59707618  0.9774335   0.99334639  0.9781878   0.92460269]\n",
      "  [ 0.52644807  0.93138987  0.94155204  0.94964945  0.94444561]\n",
      "  [ 0.50643009  0.92235368  0.93033624  0.93645734  0.93772656]\n",
      "  ...\n",
      "  [ 0.56086594  0.98873544  0.98878533  0.98820382  0.98271888]\n",
      "  [ 0.56086594  0.98873544  0.98878533  0.98820382  0.98271888]\n",
      "  [        nan         nan         nan         nan         nan]]\n",
      "\n",
      " [[ 0.61388725  0.99018377  0.99391121  0.97975814  0.94352496]\n",
      "  [ 0.57231641  0.97965884  0.9922272   0.98919016  0.96505976]\n",
      "  [ 0.58560717  0.99323535  0.99663395  0.98767304  0.9589169 ]\n",
      "  ...\n",
      "  [ 0.6227228   0.98935646  0.99435568  0.98447186  0.95021021]\n",
      "  [ 0.6227228   0.98935646  0.99435568  0.98447186  0.95021021]\n",
      "  [        nan         nan         nan         nan         nan]]\n",
      "\n",
      " ...\n",
      "\n",
      " [[ 0.34462303  0.90539891  0.92497414  0.9388513   0.94413608]\n",
      "  [ 0.33767819  0.90524191  0.93333632  0.94774246  0.95017821]\n",
      "  [ 0.33346796  0.9036023   0.93758607  0.95223868  0.95314199]\n",
      "  ...\n",
      "  [ 0.5020448   0.9747743   0.97614086  0.9498353   0.88956296]\n",
      "  [ 0.53112137  0.98219705  0.98538136  0.96820498  0.918275  ]\n",
      "  [        nan         nan         nan         nan         nan]]\n",
      "\n",
      " [[ 0.54851061  0.94098461  0.97464466  0.97844803  0.94326425]\n",
      "  [ 0.54851061  0.94098461  0.97464466  0.97844803  0.94326425]\n",
      "  [ 0.5513137   0.94202846  0.97517264  0.97876543  0.94325167]\n",
      "  ...\n",
      "  [ 0.50764906  0.99671483  0.99119401  0.98330408  0.96283382]\n",
      "  [ 0.53681231  0.99507922  0.99160445  0.98465931  0.96055013]\n",
      "  [        nan         nan         nan         nan         nan]]\n",
      "\n",
      " [[ 0.5752964   0.900168    0.94056839  0.96110946  0.94993025]\n",
      "  [ 0.57124895  0.90633142  0.94670743  0.96458822  0.95147687]\n",
      "  [ 0.56697494  0.91182357  0.95254809  0.96832538  0.95363456]\n",
      "  ...\n",
      "  [ 0.81415492 -0.50866824 -0.52942741 -0.43492857  0.86443323]\n",
      "  [ 0.8151471  -0.50776809 -0.52882719 -0.43450457  0.86487943]\n",
      "  [        nan         nan         nan         nan         nan]]]\n",
      "\n",
      "y_valid_shifted:\n",
      "[[[ 0.59913248  0.96210277  0.97633147  0.98080438  0.95501006]\n",
      "  [ 0.60042477  0.96226621  0.97615749  0.98066688  0.95486599]\n",
      "  [ 0.60252529  0.96309334  0.97654271  0.98084539  0.95477945]\n",
      "  ...\n",
      "  [ 0.48763299  0.38888103  0.96042091  0.98579293  0.9840039 ]\n",
      "  [ 0.48125869  0.47554058  0.9608466   0.98522645  0.98481971]\n",
      "  [        nan         nan         nan         nan         nan]]\n",
      "\n",
      " [[ 0.49571195  0.94115037  0.96783245  0.97449243  0.94533747]\n",
      "  [ 0.48375094  0.94084829  0.96386242  0.97320682  0.94656938]\n",
      "  [ 0.47292909  0.94073188  0.96051234  0.97139394  0.94725746]\n",
      "  ...\n",
      "  [-0.17927894  0.92529118 -0.42274377 -0.4054119  -0.28995699]\n",
      "  [-0.18428104  0.9067899  -0.42064452 -0.40123212 -0.2858263 ]\n",
      "  [        nan         nan         nan         nan         nan]]\n",
      "\n",
      " [[ 0.43234152  0.98409063  0.98543006  0.98510557  0.97961575]\n",
      "  [ 0.43056566  0.98379779  0.98526996  0.98492604  0.97964323]\n",
      "  [ 0.429432    0.9838683   0.98545915  0.98502821  0.97986323]\n",
      "  ...\n",
      "  [ 0.50228798 -0.23363295  0.99877787  0.98596954  0.94065791]\n",
      "  [ 0.49728203 -0.25074804  0.99854934  0.98680729  0.94249415]\n",
      "  [        nan         nan         nan         nan         nan]]\n",
      "\n",
      " ...\n",
      "\n",
      " [[ 0.47757161  0.99529988  0.99089056  0.98304939  0.96421528]\n",
      "  [ 0.46978548  0.99452108  0.99042088  0.98219866  0.96169019]\n",
      "  [ 0.46978548  0.99452108  0.99042088  0.98219866  0.96169019]\n",
      "  ...\n",
      "  [ 0.65141171 -0.5464983   0.98452783  0.98537183  0.96229756]\n",
      "  [ 0.64084429 -0.53696954  0.98656601  0.98557901  0.96236056]\n",
      "  [        nan         nan         nan         nan         nan]]\n",
      "\n",
      " [[ 0.57607192  0.72524571  0.86022782  0.91347533  0.90351331]\n",
      "  [ 0.57826948  0.76080328  0.87994391  0.92493534  0.91058838]\n",
      "  [ 0.58278793  0.83424205  0.90035832  0.93411148  0.9199791 ]\n",
      "  ...\n",
      "  [ 0.69801325  0.23716336  0.92764759  0.9890582   0.97450393]\n",
      "  [ 0.69725502  0.21632388  0.92448634  0.988823    0.97455794]\n",
      "  [        nan         nan         nan         nan         nan]]\n",
      "\n",
      " [[ 0.51184434  0.94335485  0.97766149  0.98575705  0.95229244]\n",
      "  [ 0.51165915  0.93806136  0.97466844  0.98473108  0.95469075]\n",
      "  [ 0.51494282  0.93510836  0.97291327  0.98385429  0.95735645]\n",
      "  ...\n",
      "  [-0.19501247  0.97698766 -0.39038017 -0.37241134 -0.16560464]\n",
      "  [-0.20724463  0.98831499 -0.37661192 -0.37143436 -0.16543275]\n",
      "  [        nan         nan         nan         nan         nan]]]\n",
      "\n",
      "y_test_shifted:\n",
      "[[[ 0.44377765  0.96501464  0.96752721  0.96560913  0.90689534]\n",
      "  [ 0.44370067  0.96342146  0.96765804  0.96663171  0.91190356]\n",
      "  [ 0.44554541  0.96309429  0.96783054  0.96752369  0.92175329]\n",
      "  ...\n",
      "  [-0.23220588  0.96609473 -0.36146697 -0.33820644  0.87925786]\n",
      "  [-0.24031539  0.97049272 -0.36833292 -0.34521329  0.87709492]\n",
      "  [        nan         nan         nan         nan         nan]]\n",
      "\n",
      " [[ 0.52893341  0.99018437  0.98269343  0.97730803  0.94741285]\n",
      "  [ 0.52617949  0.98994404  0.9832719   0.97822952  0.94839978]\n",
      "  [ 0.52438539  0.98943079  0.98354739  0.97902083  0.9493562 ]\n",
      "  ...\n",
      "  [ 0.6841504   0.99716985  0.99454409  0.98223376  0.94323647]\n",
      "  [ 0.68313253  0.99785322  0.99419612  0.98176694  0.94375771]\n",
      "  [        nan         nan         nan         nan         nan]]\n",
      "\n",
      " [[ 0.5260762   0.93774486  0.9536218   0.96139896  0.95622343]\n",
      "  [ 0.52091503  0.93664849  0.95344681  0.96306407  0.95790523]\n",
      "  [ 0.52028894  0.93901008  0.95173579  0.96069753  0.95475507]\n",
      "  ...\n",
      "  [-0.35815576  0.93526292 -0.55220062 -0.57178026 -0.40756667]\n",
      "  [-0.35815576  0.93526292 -0.55220062 -0.57178026 -0.40756667]\n",
      "  [        nan         nan         nan         nan         nan]]\n",
      "\n",
      " ...\n",
      "\n",
      " [[ 0.54808223  0.99014157  0.99249595  0.98646915  0.9643591 ]\n",
      "  [ 0.54640687  0.9906438   0.992598    0.98654121  0.96456289]\n",
      "  [ 0.54356039  0.99029976  0.99218923  0.98643047  0.96470815]\n",
      "  ...\n",
      "  [ 0.77417016  0.98593891 -0.40199572 -0.37580276 -0.19486021]\n",
      "  [ 0.77906901  0.98594427 -0.40764168 -0.37882218 -0.20043689]\n",
      "  [        nan         nan         nan         nan         nan]]\n",
      "\n",
      " [[ 0.42818406  0.98399794  0.97708887  0.97500694  0.972085  ]\n",
      "  [ 0.43056697  0.98359776  0.97756851  0.97536558  0.97186959]\n",
      "  [ 0.43056697  0.98359776  0.97756851  0.97536558  0.97186959]\n",
      "  ...\n",
      "  [ 0.80374259  0.99972391 -0.51958406 -0.47219139 -0.30897054]\n",
      "  [ 0.80315095  0.99977106 -0.52317047 -0.47595143 -0.31170163]\n",
      "  [        nan         nan         nan         nan         nan]]\n",
      "\n",
      " [[ 0.55082703  0.90375388  0.91126102  0.90645534  0.9008649 ]\n",
      "  [ 0.56439549  0.91451037  0.92645723  0.91686124  0.90437776]\n",
      "  [ 0.56776464  0.92834693  0.94007325  0.92805821  0.90914106]\n",
      "  ...\n",
      "  [ 0.85288811 -0.53767836 -0.58247107 -0.54910058 -0.38387805]\n",
      "  [ 0.85216063 -0.53847945 -0.58315074 -0.55013484 -0.38526687]\n",
      "  [        nan         nan         nan         nan         nan]]]\n",
      "\n"
     ]
    }
   ],
   "source": [
    "# X arrays: convert to the type of 3d arrays expected by LSTM: X_array(data_lines, lag_steps, n_features_shifted)\n",
    "\n",
    "# first do what is normally done in autoregression: the present depends on some number of time steps n in the past:\n",
    "# see, e.g., https://machinelearningmastery.com/multivariate-time-series-forecasting-lstms-keras/\n",
    "# y_vector(t) = f(X_matrix(t-n), y_vector(t-n), X_matrix(t-n+1), y_vector(t-n+1), ...,  X_matrix(t-n+1), y_vector(t-n+1), ..., X_matrix(t-1), y_vector(t-1), X_matrix(t-1), y_vector(t-1))\n",
    "# here we take n = lag_steps = 1, so:\n",
    "# y_vector(t) = f(X_matrix(t-1), y_vector(t-1))\n",
    "\n",
    "# to start, forecast the present by looking just one lag step into the past\n",
    "lag_steps = 1\n",
    "n_features_shifted = lag_steps*(n_features+n_labels)\n",
    "\n",
    "X_train_shifted = np.full((n_samples_train, n_time_steps, n_features_shifted), np.NaN)\n",
    "y_train_shifted = np.full((n_samples_train, n_time_steps, n_labels), np.NaN)\n",
    "for i in range(n_samples_train):\n",
    "  X_train_shifted[i] = np.hstack((X_train[i], y_train[i]))\n",
    "  y_train_shifted[i, 0:-1, :] = y_train[i, lag_steps:, :]\n",
    "\n",
    "X_valid_shifted = np.full((n_samples_valid, n_time_steps, n_features_shifted), np.NaN)\n",
    "y_valid_shifted = np.full((n_samples_valid, n_time_steps, n_labels), np.NaN)\n",
    "for i in range(n_samples_valid):\n",
    "  X_valid_shifted[i] = np.hstack((X_valid_test[i], y_valid_test[i]))\n",
    "  y_valid_shifted[i, 0:-1, :] = y_valid_test[i, lag_steps:, :]\n",
    "\n",
    "X_test_shifted = np.full((n_samples_test, n_time_steps, n_features_shifted), np.NaN)\n",
    "y_test_shifted = np.full((n_samples_test, n_time_steps, n_labels), np.NaN)\n",
    "for i in range(n_samples_test):\n",
    "  X_test_shifted[i] = np.hstack((X_test[i], y_test[i]))\n",
    "  y_test_shifted[i, 0:-1, :] = y_test[i, lag_steps:, :]\n",
    "\n",
    "print(X_train_shifted.shape, y_train_shifted.shape)\n",
    "print(X_valid_shifted.shape, y_valid_shifted.shape)\n",
    "print(X_test_shifted.shape, y_test_shifted.shape)\n",
    "print()\n",
    "\n",
    "print('X_train_shifted:')\n",
    "print(X_train_shifted)\n",
    "print()\n",
    "\n",
    "print('y_train_shifted:')\n",
    "print(y_train_shifted)\n",
    "print()\n",
    "\n",
    "print('y_valid_shifted:')\n",
    "print(y_valid_shifted)\n",
    "print()\n",
    "\n",
    "print('y_test_shifted:')\n",
    "print(y_test_shifted)\n",
    "print()"
   ]
  },
  {
   "cell_type": "code",
   "execution_count": 21,
   "metadata": {
    "colab": {
     "base_uri": "https://localhost:8080/",
     "height": 0
    },
    "executionInfo": {
     "elapsed": 3859,
     "status": "ok",
     "timestamp": 1617738567067,
     "user": {
      "displayName": "Garold Murdachaew",
      "photoUrl": "",
      "userId": "10767911817898383988"
     },
     "user_tz": -180
    },
    "id": "MNhVgBfAKw-n",
    "outputId": "0711661a-2db6-4688-b555-f52c13d8e959"
   },
   "outputs": [
    {
     "name": "stdout",
     "output_type": "stream",
     "text": [
      "(35, 5000, 35) (35, 5000, 5)\n",
      "(8, 5000, 35) (8, 5000, 5)\n",
      "(8, 5000, 35) (8, 5000, 5)\n",
      "\n",
      "X_train_shifted:\n",
      "[[[ 0.33300781  0.33886719  0.33300781 ...  0.99406642  0.99074757\n",
      "    0.91400576]\n",
      "  [ 0.33300781  0.33886719  0.33300781 ...  0.98557252  0.98592049\n",
      "    0.95746511]\n",
      "  [ 0.33300781  0.33984375  0.33300781 ...  0.97715616  0.98331916\n",
      "    0.96457863]\n",
      "  ...\n",
      "  [ 0.34472656  0.35742188  0.34375    ...  0.97818339  0.99152178\n",
      "    0.97322959]\n",
      "  [ 0.34472656  0.35742188  0.34375    ...  0.97818339  0.99152178\n",
      "    0.97322959]\n",
      "  [ 0.34472656  0.35742188  0.34375    ...  0.97818339  0.99152178\n",
      "    0.97322959]]\n",
      "\n",
      " [[ 0.33105469  0.33691406  0.33007812 ...  0.99334639  0.9781878\n",
      "    0.92460269]\n",
      "  [ 0.33203125  0.33691406  0.33007812 ...  0.99334639  0.9781878\n",
      "    0.92460269]\n",
      "  [ 0.33203125  0.33691406  0.33007812 ...  0.94155204  0.94964945\n",
      "    0.94444561]\n",
      "  ...\n",
      "  [ 0.34082031  0.34765625  0.3359375  ...  0.98878533  0.98820382\n",
      "    0.98271888]\n",
      "  [ 0.34082031  0.34765625  0.3359375  ...  0.98878533  0.98820382\n",
      "    0.98271888]\n",
      "  [ 0.34082031  0.34765625  0.3359375  ...  0.98878533  0.98820382\n",
      "    0.98271888]]\n",
      "\n",
      " [[ 0.3359375   0.34375     0.33398438 ...  0.99391121  0.97975814\n",
      "    0.94352496]\n",
      "  [ 0.33691406  0.34375     0.33398438 ...  0.99391121  0.97975814\n",
      "    0.94352496]\n",
      "  [ 0.33691406  0.34375     0.33398438 ...  0.9922272   0.98919016\n",
      "    0.96505976]\n",
      "  ...\n",
      "  [ 0.33984375  0.34570312  0.33300781 ...  0.99435568  0.98447186\n",
      "    0.95021021]\n",
      "  [ 0.33984375  0.34570312  0.33300781 ...  0.99435568  0.98447186\n",
      "    0.95021021]\n",
      "  [ 0.33984375  0.34570312  0.33300781 ...  0.99435568  0.98447186\n",
      "    0.95021021]]\n",
      "\n",
      " ...\n",
      "\n",
      " [[ 0.33984375  0.33398438  0.32324219 ...  0.91677815  0.93219495\n",
      "    0.93935949]\n",
      "  [ 0.33984375  0.33398438  0.32324219 ...  0.92497414  0.9388513\n",
      "    0.94413608]\n",
      "  [ 0.33984375  0.33398438  0.32324219 ...  0.93333632  0.94774246\n",
      "    0.95017821]\n",
      "  ...\n",
      "  [ 0.34179688  0.33789062  0.32324219 ...  0.9633373   0.93641239\n",
      "    0.87195575]\n",
      "  [ 0.34179688  0.3359375   0.32226562 ...  0.97614086  0.9498353\n",
      "    0.88956296]\n",
      "  [ 0.34082031  0.33496094  0.32226562 ...  0.98538136  0.96820498\n",
      "    0.918275  ]]\n",
      "\n",
      " [[ 0.34179688  0.30566406  0.27734375 ...  0.97464466  0.97844803\n",
      "    0.94326425]\n",
      "  [ 0.34179688  0.30566406  0.27734375 ...  0.97464466  0.97844803\n",
      "    0.94326425]\n",
      "  [ 0.34179688  0.30566406  0.27734375 ...  0.97464466  0.97844803\n",
      "    0.94326425]\n",
      "  ...\n",
      "  [ 0.34277344  0.30273438  0.265625   ...  0.99119401  0.98330408\n",
      "    0.96283382]\n",
      "  [ 0.34277344  0.30273438  0.265625   ...  0.99119401  0.98330408\n",
      "    0.96283382]\n",
      "  [ 0.34277344  0.30371094  0.265625   ...  0.99160445  0.98465931\n",
      "    0.96055013]]\n",
      "\n",
      " [[ 0.34277344  0.3125      0.28125    ...  0.93592066  0.95804793\n",
      "    0.94828457]\n",
      "  [ 0.34277344  0.3125      0.28125    ...  0.94056839  0.96110946\n",
      "    0.94993025]\n",
      "  [ 0.34277344  0.3125      0.28125    ...  0.94670743  0.96458822\n",
      "    0.95147687]\n",
      "  ...\n",
      "  [ 0.34375     0.32519531  0.30078125 ... -0.52872318 -0.4341504\n",
      "    0.86454904]\n",
      "  [ 0.34375     0.32519531  0.30078125 ... -0.52942741 -0.43492857\n",
      "    0.86443323]\n",
      "  [ 0.34375     0.32519531  0.30175781 ... -0.52882719 -0.43450457\n",
      "    0.86487943]]]\n",
      "\n",
      "y_train_shifted:\n",
      "[[[ 0.41729856  0.96601403  0.98557252  0.98592049  0.95746511]\n",
      "  [ 0.48011878  0.96245372  0.97715616  0.98331916  0.96457863]\n",
      "  [ 0.54095161  0.9698146   0.98081499  0.98418117  0.96043468]\n",
      "  ...\n",
      "  [ 0.66263711 -0.01864924  0.97818339  0.99152178  0.97322959]\n",
      "  [ 0.66263711 -0.01864924  0.97818339  0.99152178  0.97322959]\n",
      "  [ 0.66263711 -0.01864924  0.97818339  0.99152178  0.97322959]]\n",
      "\n",
      " [[ 0.59707618  0.9774335   0.99334639  0.9781878   0.92460269]\n",
      "  [ 0.52644807  0.93138987  0.94155204  0.94964945  0.94444561]\n",
      "  [ 0.50643009  0.92235368  0.93033624  0.93645734  0.93772656]\n",
      "  ...\n",
      "  [ 0.56086594  0.98873544  0.98878533  0.98820382  0.98271888]\n",
      "  [ 0.56086594  0.98873544  0.98878533  0.98820382  0.98271888]\n",
      "  [ 0.56086594  0.98873544  0.98878533  0.98820382  0.98271888]]\n",
      "\n",
      " [[ 0.61388725  0.99018377  0.99391121  0.97975814  0.94352496]\n",
      "  [ 0.57231641  0.97965884  0.9922272   0.98919016  0.96505976]\n",
      "  [ 0.58560717  0.99323535  0.99663395  0.98767304  0.9589169 ]\n",
      "  ...\n",
      "  [ 0.6227228   0.98935646  0.99435568  0.98447186  0.95021021]\n",
      "  [ 0.6227228   0.98935646  0.99435568  0.98447186  0.95021021]\n",
      "  [ 0.6227228   0.98935646  0.99435568  0.98447186  0.95021021]]\n",
      "\n",
      " ...\n",
      "\n",
      " [[ 0.34462303  0.90539891  0.92497414  0.9388513   0.94413608]\n",
      "  [ 0.33767819  0.90524191  0.93333632  0.94774246  0.95017821]\n",
      "  [ 0.33346796  0.9036023   0.93758607  0.95223868  0.95314199]\n",
      "  ...\n",
      "  [ 0.5020448   0.9747743   0.97614086  0.9498353   0.88956296]\n",
      "  [ 0.53112137  0.98219705  0.98538136  0.96820498  0.918275  ]\n",
      "  [ 0.53112137  0.98219705  0.98538136  0.96820498  0.918275  ]]\n",
      "\n",
      " [[ 0.54851061  0.94098461  0.97464466  0.97844803  0.94326425]\n",
      "  [ 0.54851061  0.94098461  0.97464466  0.97844803  0.94326425]\n",
      "  [ 0.5513137   0.94202846  0.97517264  0.97876543  0.94325167]\n",
      "  ...\n",
      "  [ 0.50764906  0.99671483  0.99119401  0.98330408  0.96283382]\n",
      "  [ 0.53681231  0.99507922  0.99160445  0.98465931  0.96055013]\n",
      "  [ 0.53681231  0.99507922  0.99160445  0.98465931  0.96055013]]\n",
      "\n",
      " [[ 0.5752964   0.900168    0.94056839  0.96110946  0.94993025]\n",
      "  [ 0.57124895  0.90633142  0.94670743  0.96458822  0.95147687]\n",
      "  [ 0.56697494  0.91182357  0.95254809  0.96832538  0.95363456]\n",
      "  ...\n",
      "  [ 0.81415492 -0.50866824 -0.52942741 -0.43492857  0.86443323]\n",
      "  [ 0.8151471  -0.50776809 -0.52882719 -0.43450457  0.86487943]\n",
      "  [ 0.8151471  -0.50776809 -0.52882719 -0.43450457  0.86487943]]]\n",
      "\n",
      "y_valid_shifted:\n",
      "[[[ 0.59913248  0.96210277  0.97633147  0.98080438  0.95501006]\n",
      "  [ 0.60042477  0.96226621  0.97615749  0.98066688  0.95486599]\n",
      "  [ 0.60252529  0.96309334  0.97654271  0.98084539  0.95477945]\n",
      "  ...\n",
      "  [ 0.48763299  0.38888103  0.96042091  0.98579293  0.9840039 ]\n",
      "  [ 0.48125869  0.47554058  0.9608466   0.98522645  0.98481971]\n",
      "  [ 0.48125869  0.47554058  0.9608466   0.98522645  0.98481971]]\n",
      "\n",
      " [[ 0.49571195  0.94115037  0.96783245  0.97449243  0.94533747]\n",
      "  [ 0.48375094  0.94084829  0.96386242  0.97320682  0.94656938]\n",
      "  [ 0.47292909  0.94073188  0.96051234  0.97139394  0.94725746]\n",
      "  ...\n",
      "  [-0.17927894  0.92529118 -0.42274377 -0.4054119  -0.28995699]\n",
      "  [-0.18428104  0.9067899  -0.42064452 -0.40123212 -0.2858263 ]\n",
      "  [-0.18428104  0.9067899  -0.42064452 -0.40123212 -0.2858263 ]]\n",
      "\n",
      " [[ 0.43234152  0.98409063  0.98543006  0.98510557  0.97961575]\n",
      "  [ 0.43056566  0.98379779  0.98526996  0.98492604  0.97964323]\n",
      "  [ 0.429432    0.9838683   0.98545915  0.98502821  0.97986323]\n",
      "  ...\n",
      "  [ 0.50228798 -0.23363295  0.99877787  0.98596954  0.94065791]\n",
      "  [ 0.49728203 -0.25074804  0.99854934  0.98680729  0.94249415]\n",
      "  [ 0.49728203 -0.25074804  0.99854934  0.98680729  0.94249415]]\n",
      "\n",
      " ...\n",
      "\n",
      " [[ 0.47757161  0.99529988  0.99089056  0.98304939  0.96421528]\n",
      "  [ 0.46978548  0.99452108  0.99042088  0.98219866  0.96169019]\n",
      "  [ 0.46978548  0.99452108  0.99042088  0.98219866  0.96169019]\n",
      "  ...\n",
      "  [ 0.65141171 -0.5464983   0.98452783  0.98537183  0.96229756]\n",
      "  [ 0.64084429 -0.53696954  0.98656601  0.98557901  0.96236056]\n",
      "  [ 0.64084429 -0.53696954  0.98656601  0.98557901  0.96236056]]\n",
      "\n",
      " [[ 0.57607192  0.72524571  0.86022782  0.91347533  0.90351331]\n",
      "  [ 0.57826948  0.76080328  0.87994391  0.92493534  0.91058838]\n",
      "  [ 0.58278793  0.83424205  0.90035832  0.93411148  0.9199791 ]\n",
      "  ...\n",
      "  [ 0.69801325  0.23716336  0.92764759  0.9890582   0.97450393]\n",
      "  [ 0.69725502  0.21632388  0.92448634  0.988823    0.97455794]\n",
      "  [ 0.69725502  0.21632388  0.92448634  0.988823    0.97455794]]\n",
      "\n",
      " [[ 0.51184434  0.94335485  0.97766149  0.98575705  0.95229244]\n",
      "  [ 0.51165915  0.93806136  0.97466844  0.98473108  0.95469075]\n",
      "  [ 0.51494282  0.93510836  0.97291327  0.98385429  0.95735645]\n",
      "  ...\n",
      "  [-0.19501247  0.97698766 -0.39038017 -0.37241134 -0.16560464]\n",
      "  [-0.20724463  0.98831499 -0.37661192 -0.37143436 -0.16543275]\n",
      "  [-0.20724463  0.98831499 -0.37661192 -0.37143436 -0.16543275]]]\n",
      "\n",
      "y_test_shifted:\n",
      "[[[ 0.44377765  0.96501464  0.96752721  0.96560913  0.90689534]\n",
      "  [ 0.44370067  0.96342146  0.96765804  0.96663171  0.91190356]\n",
      "  [ 0.44554541  0.96309429  0.96783054  0.96752369  0.92175329]\n",
      "  ...\n",
      "  [-0.23220588  0.96609473 -0.36146697 -0.33820644  0.87925786]\n",
      "  [-0.24031539  0.97049272 -0.36833292 -0.34521329  0.87709492]\n",
      "  [-0.24031539  0.97049272 -0.36833292 -0.34521329  0.87709492]]\n",
      "\n",
      " [[ 0.52893341  0.99018437  0.98269343  0.97730803  0.94741285]\n",
      "  [ 0.52617949  0.98994404  0.9832719   0.97822952  0.94839978]\n",
      "  [ 0.52438539  0.98943079  0.98354739  0.97902083  0.9493562 ]\n",
      "  ...\n",
      "  [ 0.6841504   0.99716985  0.99454409  0.98223376  0.94323647]\n",
      "  [ 0.68313253  0.99785322  0.99419612  0.98176694  0.94375771]\n",
      "  [ 0.68313253  0.99785322  0.99419612  0.98176694  0.94375771]]\n",
      "\n",
      " [[ 0.5260762   0.93774486  0.9536218   0.96139896  0.95622343]\n",
      "  [ 0.52091503  0.93664849  0.95344681  0.96306407  0.95790523]\n",
      "  [ 0.52028894  0.93901008  0.95173579  0.96069753  0.95475507]\n",
      "  ...\n",
      "  [-0.35815576  0.93526292 -0.55220062 -0.57178026 -0.40756667]\n",
      "  [-0.35815576  0.93526292 -0.55220062 -0.57178026 -0.40756667]\n",
      "  [-0.35815576  0.93526292 -0.55220062 -0.57178026 -0.40756667]]\n",
      "\n",
      " ...\n",
      "\n",
      " [[ 0.54808223  0.99014157  0.99249595  0.98646915  0.9643591 ]\n",
      "  [ 0.54640687  0.9906438   0.992598    0.98654121  0.96456289]\n",
      "  [ 0.54356039  0.99029976  0.99218923  0.98643047  0.96470815]\n",
      "  ...\n",
      "  [ 0.77417016  0.98593891 -0.40199572 -0.37580276 -0.19486021]\n",
      "  [ 0.77906901  0.98594427 -0.40764168 -0.37882218 -0.20043689]\n",
      "  [ 0.77906901  0.98594427 -0.40764168 -0.37882218 -0.20043689]]\n",
      "\n",
      " [[ 0.42818406  0.98399794  0.97708887  0.97500694  0.972085  ]\n",
      "  [ 0.43056697  0.98359776  0.97756851  0.97536558  0.97186959]\n",
      "  [ 0.43056697  0.98359776  0.97756851  0.97536558  0.97186959]\n",
      "  ...\n",
      "  [ 0.80374259  0.99972391 -0.51958406 -0.47219139 -0.30897054]\n",
      "  [ 0.80315095  0.99977106 -0.52317047 -0.47595143 -0.31170163]\n",
      "  [ 0.80315095  0.99977106 -0.52317047 -0.47595143 -0.31170163]]\n",
      "\n",
      " [[ 0.55082703  0.90375388  0.91126102  0.90645534  0.9008649 ]\n",
      "  [ 0.56439549  0.91451037  0.92645723  0.91686124  0.90437776]\n",
      "  [ 0.56776464  0.92834693  0.94007325  0.92805821  0.90914106]\n",
      "  ...\n",
      "  [ 0.85288811 -0.53767836 -0.58247107 -0.54910058 -0.38387805]\n",
      "  [ 0.85216063 -0.53847945 -0.58315074 -0.55013484 -0.38526687]\n",
      "  [ 0.85216063 -0.53847945 -0.58315074 -0.55013484 -0.38526687]]]\n",
      "\n"
     ]
    }
   ],
   "source": [
    "# Again, instead of imputing mean for the missing row (nan values), use the last non-nan row\n",
    "# or can just delete the row, but that will change the data size\n",
    "# hopefully, with 5000 time steps, epeating the last row will not cause any negative artifacts\n",
    "\n",
    "for i in range(n_samples_train):\n",
    "  y_train_shifted[i, -1, :] = y_train_shifted[i, -2, :]\n",
    "\n",
    "for i in range(n_samples_valid):\n",
    "  y_valid_shifted[i, -1, :] = y_valid_shifted[i, -2, :]\n",
    "\n",
    "for i in range(n_samples_test):\n",
    "  y_test_shifted[i, -1, :] = y_test_shifted[i, -2, :]\n",
    "\n",
    "print(X_train_shifted.shape, y_train_shifted.shape)\n",
    "print(X_valid_shifted.shape, y_valid_shifted.shape)\n",
    "print(X_test_shifted.shape, y_test_shifted.shape)\n",
    "print()\n",
    "\n",
    "print('X_train_shifted:')\n",
    "print(X_train_shifted)\n",
    "print()\n",
    "\n",
    "print('y_train_shifted:')\n",
    "print(y_train_shifted)\n",
    "print()\n",
    "\n",
    "print('y_valid_shifted:')\n",
    "print(y_valid_shifted)\n",
    "print()\n",
    "\n",
    "print('y_test_shifted:')\n",
    "print(y_test_shifted)\n",
    "print()"
   ]
  },
  {
   "cell_type": "code",
   "execution_count": 22,
   "metadata": {
    "colab": {
     "base_uri": "https://localhost:8080/",
     "height": 0
    },
    "executionInfo": {
     "elapsed": 3829,
     "status": "ok",
     "timestamp": 1617738567069,
     "user": {
      "displayName": "Garold Murdachaew",
      "photoUrl": "",
      "userId": "10767911817898383988"
     },
     "user_tz": -180
    },
    "id": "JDw2FjhSiPmD",
    "outputId": "67605ab5-0b02-4e6b-919a-24c158b9a0d9"
   },
   "outputs": [
    {
     "name": "stdout",
     "output_type": "stream",
     "text": [
      "n_features_shifted:  35\n",
      "n_features_shifted:  35\n",
      "(35, 5000, 35)\n",
      "(175000, 35)\n",
      "(8, 5000, 35)\n",
      "(40000, 35)\n",
      "(8, 5000, 35)\n",
      "(40000, 35)\n",
      "\n",
      "(175000, 1, 35) (175000, 5)\n",
      "(40000, 1, 35) (40000, 5)\n",
      "(40000, 1, 35) (40000, 5)\n",
      "\n"
     ]
    }
   ],
   "source": [
    "print('n_features_shifted: ', n_features_shifted)\n",
    "n_features_shifted = X_train_shifted.shape[2]\n",
    "print('n_features_shifted: ', n_features_shifted)\n",
    "\n",
    "from sklearn.preprocessing import StandardScaler\n",
    "scaler = StandardScaler()\n",
    "\n",
    "# scaler only operates on 2d arrays so first transform to 2d, then scale, then transform back to 3d\n",
    "\n",
    "# transform to 2d\n",
    "\n",
    "print(X_train_shifted.shape)\n",
    "X_train_shifted = np.vstack(X_train_shifted)\n",
    "print(X_train_shifted.shape)\n",
    "\n",
    "print(X_valid_shifted.shape)\n",
    "X_valid_shifted = np.vstack(X_valid_shifted)\n",
    "print(X_valid_shifted.shape)\n",
    "\n",
    "print(X_test_shifted.shape)\n",
    "X_test_shifted = np.vstack(X_test_shifted)\n",
    "print(X_test_shifted.shape)\n",
    "\n",
    "print()\n",
    "\n",
    "# train the scaler on train data only, then apply to all arrays (to prevent data leakage)\n",
    "\n",
    "### from sklearn.preprocessing import MinMaxScaler\n",
    "### scaler = MinMaxScaler()\n",
    "\n",
    "X_train_shifted = scaler.fit_transform(X_train_shifted)\n",
    "X_valid_shifted = scaler.transform(X_valid_shifted)\n",
    "X_test_shifted = scaler.transform(X_test_shifted)\n",
    "\n",
    "# y arrays: convert to 3d arrays expected by LSTM\n",
    "\n",
    "X_train_shifted = X_train_shifted.reshape(n_samples_train*n_time_steps, lag_steps, n_features_shifted)\n",
    "X_valid_shifted = X_valid_shifted.reshape(n_samples_valid*n_time_steps, lag_steps, n_features_shifted)\n",
    "X_test_shifted = X_test_shifted.reshape(n_samples_test*n_time_steps, lag_steps, n_features_shifted)\n",
    "\n",
    "# y arrays: convert to regular 2d arrays: y_array(data_lines, n_labels)\n",
    "\n",
    "y_train_shifted = y_train_shifted.reshape(n_samples_train*n_time_steps, n_labels)\n",
    "y_valid_shifted = y_valid_shifted.reshape(n_samples_valid*n_time_steps, n_labels)\n",
    "y_test_shifted = y_test_shifted.reshape(n_samples_test*n_time_steps, n_labels)\n",
    "\n",
    "print(X_train_shifted.shape, y_train_shifted.shape)\n",
    "print(X_valid_shifted.shape, y_valid_shifted.shape)\n",
    "print(X_test_shifted.shape, y_test_shifted.shape)\n",
    "print()"
   ]
  },
  {
   "cell_type": "code",
   "execution_count": 23,
   "metadata": {
    "colab": {
     "base_uri": "https://localhost:8080/",
     "height": 0
    },
    "executionInfo": {
     "elapsed": 5749,
     "status": "ok",
     "timestamp": 1617738569015,
     "user": {
      "displayName": "Garold Murdachaew",
      "photoUrl": "",
      "userId": "10767911817898383988"
     },
     "user_tz": -180
    },
    "id": "RI5cUN8aNiLh",
    "outputId": "2df3e8b1-8c27-41b6-d2cb-c771129fd367"
   },
   "outputs": [
    {
     "name": "stdout",
     "output_type": "stream",
     "text": [
      "2.4.1\n"
     ]
    }
   ],
   "source": [
    "import numpy as np\n",
    "import tensorflow as tf\n",
    "from tensorflow import keras\n",
    "from tensorflow.keras import layers\n",
    "\n",
    "#  tensorflow 2.0 library provides functions for deep neural networks \n",
    "import tensorflow\n",
    "print(tensorflow.__version__)\n",
    "\n",
    "from tensorflow.keras.layers import Input, Dense, Activation, Dropout\n",
    "from tensorflow.keras.models import Model\n",
    "from tensorflow.keras.utils import plot_model\n",
    "from tensorflow.keras import Sequential\n",
    "from tensorflow.keras.layers import Embedding, LSTM"
   ]
  },
  {
   "cell_type": "markdown",
   "metadata": {
    "id": "-ZJpgEr-9Tl9"
   },
   "source": [
    "**Model: LSTM (same architecture as before) fit5, now applied to the extended X_train matrix (with time shifted and additional features, lag = 1)**"
   ]
  },
  {
   "cell_type": "code",
   "execution_count": 24,
   "metadata": {
    "colab": {
     "base_uri": "https://localhost:8080/",
     "height": 0
    },
    "executionInfo": {
     "elapsed": 6370,
     "status": "ok",
     "timestamp": 1617738569659,
     "user": {
      "displayName": "Garold Murdachaew",
      "photoUrl": "",
      "userId": "10767911817898383988"
     },
     "user_tz": -180
    },
    "id": "qQ8tM_4uNpjq",
    "outputId": "19e0711e-ffc0-4a02-e5a6-fbc8834f87fe"
   },
   "outputs": [
    {
     "name": "stdout",
     "output_type": "stream",
     "text": [
      "175000 1 35\n",
      "175000 5\n",
      "Model: \"sequential\"\n",
      "_________________________________________________________________\n",
      "Layer (type)                 Output Shape              Param #   \n",
      "=================================================================\n",
      "lstm (LSTM)                  (None, 128)               83968     \n",
      "_________________________________________________________________\n",
      "dense (Dense)                (None, 5)                 645       \n",
      "=================================================================\n",
      "Total params: 84,613\n",
      "Trainable params: 84,613\n",
      "Non-trainable params: 0\n",
      "_________________________________________________________________\n"
     ]
    }
   ],
   "source": [
    "input_shape0, input_shape1, input_shape2 = X_train_shifted.shape[0], X_train_shifted.shape[1], X_train_shifted.shape[2]\n",
    "print(input_shape0, input_shape1, input_shape2)\n",
    "output_shape0, output_shape1 = y_train_shifted.shape[0], y_train_shifted.shape[1]\n",
    "print(output_shape0, output_shape1)\n",
    "\n",
    "model = Sequential()\n",
    "# Add a LSTM layer with 128 internal units.\n",
    "model.add(LSTM(128, input_shape=(X_train_shifted.shape[1], X_train_shifted.shape[2])))\n",
    "# Add a Dense layer with 5 units.\n",
    "model.add(Dense(y_train_shifted.shape[1], activation='linear'))\n",
    "\n",
    "model.summary()\n",
    "\n",
    "model.compile(loss='mean_squared_error', optimizer='adam', metrics=['mean_squared_error'])"
   ]
  },
  {
   "cell_type": "code",
   "execution_count": 25,
   "metadata": {
    "colab": {
     "base_uri": "https://localhost:8080/",
     "height": 312
    },
    "executionInfo": {
     "elapsed": 6349,
     "status": "ok",
     "timestamp": 1617738569672,
     "user": {
      "displayName": "Garold Murdachaew",
      "photoUrl": "",
      "userId": "10767911817898383988"
     },
     "user_tz": -180
    },
    "id": "TaSCL1yMRYCS",
    "outputId": "7816f1ba-7c70-454b-e1b5-17ed7cc63892"
   },
   "outputs": [
    {
     "data": {
      "image/png": "[encoded data removed]",
      "text/plain": [
       "<IPython.core.display.Image object>"
      ]
     },
     "execution_count": 25,
     "metadata": {
      "tags": []
     },
     "output_type": "execute_result"
    }
   ],
   "source": [
    "# plot the graph of the model and save to file\n",
    "plot_model(model, to_file='model4_lstm.png', show_shapes=True, show_layer_names=True)"
   ]
  },
  {
   "cell_type": "code",
   "execution_count": 26,
   "metadata": {
    "executionInfo": {
     "elapsed": 6818,
     "status": "ok",
     "timestamp": 1617738570162,
     "user": {
      "displayName": "Garold Murdachaew",
      "photoUrl": "",
      "userId": "10767911817898383988"
     },
     "user_tz": -180
    },
    "id": "vNcHahTuRfrH"
   },
   "outputs": [],
   "source": [
    "batch_size = 5000 # this is the time duration = 5000/(50 Hz) = 100 seconds, of each independent measurement set\n",
    "epochs = 75"
   ]
  },
  {
   "cell_type": "code",
   "execution_count": 27,
   "metadata": {
    "colab": {
     "base_uri": "https://localhost:8080/",
     "height": 0
    },
    "executionInfo": {
     "elapsed": 37636,
     "status": "ok",
     "timestamp": 1617738600997,
     "user": {
      "displayName": "Garold Murdachaew",
      "photoUrl": "",
      "userId": "10767911817898383988"
     },
     "user_tz": -180
    },
    "id": "NsF8is71Rjjq",
    "outputId": "9a949754-14a1-4ef9-d512-9dfc9fab23b7"
   },
   "outputs": [
    {
     "name": "stdout",
     "output_type": "stream",
     "text": [
      "Epoch 1/75\n",
      "35/35 [==============================] - 4s 38ms/step - loss: 0.5071 - mean_squared_error: 0.5071 - val_loss: 0.1591 - val_mean_squared_error: 0.1591\n",
      "Epoch 2/75\n",
      "35/35 [==============================] - 0s 11ms/step - loss: 0.1834 - mean_squared_error: 0.1834 - val_loss: 0.2651 - val_mean_squared_error: 0.2651\n",
      "Epoch 3/75\n",
      "35/35 [==============================] - 0s 10ms/step - loss: 0.1053 - mean_squared_error: 0.1053 - val_loss: 0.1584 - val_mean_squared_error: 0.1584\n",
      "Epoch 4/75\n",
      "35/35 [==============================] - 0s 10ms/step - loss: 0.0629 - mean_squared_error: 0.0629 - val_loss: 0.0826 - val_mean_squared_error: 0.0826\n",
      "Epoch 5/75\n",
      "35/35 [==============================] - 0s 11ms/step - loss: 0.0339 - mean_squared_error: 0.0339 - val_loss: 0.0670 - val_mean_squared_error: 0.0670\n",
      "Epoch 6/75\n",
      "35/35 [==============================] - 0s 10ms/step - loss: 0.0221 - mean_squared_error: 0.0221 - val_loss: 0.0570 - val_mean_squared_error: 0.0570\n",
      "Epoch 7/75\n",
      "35/35 [==============================] - 0s 10ms/step - loss: 0.0173 - mean_squared_error: 0.0173 - val_loss: 0.0466 - val_mean_squared_error: 0.0466\n",
      "Epoch 8/75\n",
      "35/35 [==============================] - 0s 11ms/step - loss: 0.0135 - mean_squared_error: 0.0135 - val_loss: 0.0426 - val_mean_squared_error: 0.0426\n",
      "Epoch 9/75\n",
      "35/35 [==============================] - 0s 10ms/step - loss: 0.0120 - mean_squared_error: 0.0120 - val_loss: 0.0388 - val_mean_squared_error: 0.0388\n",
      "Epoch 10/75\n",
      "35/35 [==============================] - 0s 10ms/step - loss: 0.0103 - mean_squared_error: 0.0103 - val_loss: 0.0326 - val_mean_squared_error: 0.0326\n",
      "Epoch 11/75\n",
      "35/35 [==============================] - 0s 11ms/step - loss: 0.0098 - mean_squared_error: 0.0098 - val_loss: 0.0323 - val_mean_squared_error: 0.0323\n",
      "Epoch 12/75\n",
      "35/35 [==============================] - 0s 10ms/step - loss: 0.0089 - mean_squared_error: 0.0089 - val_loss: 0.0279 - val_mean_squared_error: 0.0279\n",
      "Epoch 13/75\n",
      "35/35 [==============================] - 0s 11ms/step - loss: 0.0114 - mean_squared_error: 0.0114 - val_loss: 0.0297 - val_mean_squared_error: 0.0297\n",
      "Epoch 14/75\n",
      "35/35 [==============================] - 0s 10ms/step - loss: 0.0134 - mean_squared_error: 0.0134 - val_loss: 0.0269 - val_mean_squared_error: 0.0269\n",
      "Epoch 15/75\n",
      "35/35 [==============================] - 0s 10ms/step - loss: 0.0183 - mean_squared_error: 0.0183 - val_loss: 0.0283 - val_mean_squared_error: 0.0283\n",
      "Epoch 16/75\n",
      "35/35 [==============================] - 0s 11ms/step - loss: 0.0159 - mean_squared_error: 0.0159 - val_loss: 0.0222 - val_mean_squared_error: 0.0222\n",
      "Epoch 17/75\n",
      "35/35 [==============================] - 0s 10ms/step - loss: 0.0148 - mean_squared_error: 0.0148 - val_loss: 0.0207 - val_mean_squared_error: 0.0207\n",
      "Epoch 18/75\n",
      "35/35 [==============================] - 0s 11ms/step - loss: 0.0099 - mean_squared_error: 0.0099 - val_loss: 0.0195 - val_mean_squared_error: 0.0195\n",
      "Epoch 19/75\n",
      "35/35 [==============================] - 0s 10ms/step - loss: 0.0068 - mean_squared_error: 0.0068 - val_loss: 0.0176 - val_mean_squared_error: 0.0176\n",
      "Epoch 20/75\n",
      "35/35 [==============================] - 0s 10ms/step - loss: 0.0053 - mean_squared_error: 0.0053 - val_loss: 0.0187 - val_mean_squared_error: 0.0187\n",
      "Epoch 21/75\n",
      "35/35 [==============================] - 0s 10ms/step - loss: 0.0048 - mean_squared_error: 0.0048 - val_loss: 0.0158 - val_mean_squared_error: 0.0158\n",
      "Epoch 22/75\n",
      "35/35 [==============================] - 0s 10ms/step - loss: 0.0042 - mean_squared_error: 0.0042 - val_loss: 0.0169 - val_mean_squared_error: 0.0169\n",
      "Epoch 23/75\n",
      "35/35 [==============================] - 0s 10ms/step - loss: 0.0038 - mean_squared_error: 0.0038 - val_loss: 0.0156 - val_mean_squared_error: 0.0156\n",
      "Epoch 24/75\n",
      "35/35 [==============================] - 0s 11ms/step - loss: 0.0034 - mean_squared_error: 0.0034 - val_loss: 0.0161 - val_mean_squared_error: 0.0161\n",
      "Epoch 25/75\n",
      "35/35 [==============================] - 0s 10ms/step - loss: 0.0033 - mean_squared_error: 0.0033 - val_loss: 0.0157 - val_mean_squared_error: 0.0157\n",
      "Epoch 26/75\n",
      "35/35 [==============================] - 0s 10ms/step - loss: 0.0032 - mean_squared_error: 0.0032 - val_loss: 0.0152 - val_mean_squared_error: 0.0152\n",
      "Epoch 27/75\n",
      "35/35 [==============================] - 0s 10ms/step - loss: 0.0030 - mean_squared_error: 0.0030 - val_loss: 0.0152 - val_mean_squared_error: 0.0152\n",
      "Epoch 28/75\n",
      "35/35 [==============================] - 0s 10ms/step - loss: 0.0029 - mean_squared_error: 0.0029 - val_loss: 0.0152 - val_mean_squared_error: 0.0152\n",
      "Epoch 29/75\n",
      "35/35 [==============================] - 0s 11ms/step - loss: 0.0028 - mean_squared_error: 0.0028 - val_loss: 0.0152 - val_mean_squared_error: 0.0152\n",
      "Epoch 30/75\n",
      "35/35 [==============================] - 0s 10ms/step - loss: 0.0027 - mean_squared_error: 0.0027 - val_loss: 0.0152 - val_mean_squared_error: 0.0152\n",
      "Epoch 31/75\n",
      "35/35 [==============================] - 0s 10ms/step - loss: 0.0026 - mean_squared_error: 0.0026 - val_loss: 0.0147 - val_mean_squared_error: 0.0147\n",
      "Epoch 32/75\n",
      "35/35 [==============================] - 0s 10ms/step - loss: 0.0026 - mean_squared_error: 0.0026 - val_loss: 0.0147 - val_mean_squared_error: 0.0147\n",
      "Epoch 33/75\n",
      "35/35 [==============================] - 0s 10ms/step - loss: 0.0025 - mean_squared_error: 0.0025 - val_loss: 0.0143 - val_mean_squared_error: 0.0143\n",
      "Epoch 34/75\n",
      "35/35 [==============================] - 0s 10ms/step - loss: 0.0025 - mean_squared_error: 0.0025 - val_loss: 0.0145 - val_mean_squared_error: 0.0145\n",
      "Epoch 35/75\n",
      "35/35 [==============================] - 0s 11ms/step - loss: 0.0024 - mean_squared_error: 0.0024 - val_loss: 0.0143 - val_mean_squared_error: 0.0143\n",
      "Epoch 36/75\n",
      "35/35 [==============================] - 0s 11ms/step - loss: 0.0024 - mean_squared_error: 0.0024 - val_loss: 0.0145 - val_mean_squared_error: 0.0145\n",
      "Epoch 37/75\n",
      "35/35 [==============================] - 0s 10ms/step - loss: 0.0024 - mean_squared_error: 0.0024 - val_loss: 0.0141 - val_mean_squared_error: 0.0141\n",
      "Epoch 38/75\n",
      "35/35 [==============================] - 0s 11ms/step - loss: 0.0024 - mean_squared_error: 0.0024 - val_loss: 0.0137 - val_mean_squared_error: 0.0137\n",
      "Epoch 39/75\n",
      "35/35 [==============================] - 0s 11ms/step - loss: 0.0025 - mean_squared_error: 0.0025 - val_loss: 0.0135 - val_mean_squared_error: 0.0135\n",
      "Epoch 40/75\n",
      "35/35 [==============================] - 0s 10ms/step - loss: 0.0025 - mean_squared_error: 0.0025 - val_loss: 0.0132 - val_mean_squared_error: 0.0132\n",
      "Epoch 41/75\n",
      "35/35 [==============================] - 0s 10ms/step - loss: 0.0027 - mean_squared_error: 0.0027 - val_loss: 0.0132 - val_mean_squared_error: 0.0132\n",
      "Epoch 42/75\n",
      "35/35 [==============================] - 0s 10ms/step - loss: 0.0037 - mean_squared_error: 0.0037 - val_loss: 0.0133 - val_mean_squared_error: 0.0133\n",
      "Epoch 43/75\n",
      "35/35 [==============================] - 0s 10ms/step - loss: 0.0048 - mean_squared_error: 0.0048 - val_loss: 0.0120 - val_mean_squared_error: 0.0120\n",
      "Epoch 44/75\n",
      "35/35 [==============================] - 0s 10ms/step - loss: 0.0067 - mean_squared_error: 0.0067 - val_loss: 0.0116 - val_mean_squared_error: 0.0116\n",
      "Epoch 45/75\n",
      "35/35 [==============================] - 0s 11ms/step - loss: 0.0089 - mean_squared_error: 0.0089 - val_loss: 0.0139 - val_mean_squared_error: 0.0139\n",
      "Epoch 46/75\n",
      "35/35 [==============================] - 0s 11ms/step - loss: 0.0096 - mean_squared_error: 0.0096 - val_loss: 0.0186 - val_mean_squared_error: 0.0186\n",
      "Epoch 47/75\n",
      "35/35 [==============================] - 0s 11ms/step - loss: 0.0128 - mean_squared_error: 0.0128 - val_loss: 0.0185 - val_mean_squared_error: 0.0185\n",
      "Epoch 48/75\n",
      "35/35 [==============================] - 0s 10ms/step - loss: 0.0103 - mean_squared_error: 0.0103 - val_loss: 0.0219 - val_mean_squared_error: 0.0219\n",
      "Epoch 49/75\n",
      "35/35 [==============================] - 0s 11ms/step - loss: 0.0110 - mean_squared_error: 0.0110 - val_loss: 0.0099 - val_mean_squared_error: 0.0099\n",
      "Epoch 50/75\n",
      "35/35 [==============================] - 0s 11ms/step - loss: 0.0090 - mean_squared_error: 0.0090 - val_loss: 0.0147 - val_mean_squared_error: 0.0147\n",
      "Epoch 51/75\n",
      "35/35 [==============================] - 0s 10ms/step - loss: 0.0067 - mean_squared_error: 0.0067 - val_loss: 0.0105 - val_mean_squared_error: 0.0105\n",
      "Epoch 52/75\n",
      "35/35 [==============================] - 0s 10ms/step - loss: 0.0050 - mean_squared_error: 0.0050 - val_loss: 0.0102 - val_mean_squared_error: 0.0102\n",
      "Epoch 53/75\n",
      "35/35 [==============================] - 0s 10ms/step - loss: 0.0053 - mean_squared_error: 0.0053 - val_loss: 0.0137 - val_mean_squared_error: 0.0137\n",
      "Epoch 54/75\n",
      "35/35 [==============================] - 0s 10ms/step - loss: 0.0059 - mean_squared_error: 0.0059 - val_loss: 0.0096 - val_mean_squared_error: 0.0096\n",
      "Epoch 55/75\n",
      "35/35 [==============================] - 0s 10ms/step - loss: 0.0042 - mean_squared_error: 0.0042 - val_loss: 0.0096 - val_mean_squared_error: 0.0096\n",
      "Epoch 56/75\n",
      "35/35 [==============================] - 0s 10ms/step - loss: 0.0037 - mean_squared_error: 0.0037 - val_loss: 0.0100 - val_mean_squared_error: 0.0100\n",
      "Epoch 57/75\n",
      "35/35 [==============================] - 0s 11ms/step - loss: 0.0035 - mean_squared_error: 0.0035 - val_loss: 0.0097 - val_mean_squared_error: 0.0097\n",
      "Epoch 58/75\n",
      "35/35 [==============================] - 0s 10ms/step - loss: 0.0033 - mean_squared_error: 0.0033 - val_loss: 0.0096 - val_mean_squared_error: 0.0096\n",
      "Epoch 59/75\n",
      "35/35 [==============================] - 0s 11ms/step - loss: 0.0037 - mean_squared_error: 0.0037 - val_loss: 0.0086 - val_mean_squared_error: 0.0086\n",
      "Epoch 60/75\n",
      "35/35 [==============================] - 0s 10ms/step - loss: 0.0030 - mean_squared_error: 0.0030 - val_loss: 0.0103 - val_mean_squared_error: 0.0103\n",
      "Epoch 61/75\n",
      "35/35 [==============================] - 0s 10ms/step - loss: 0.0034 - mean_squared_error: 0.0034 - val_loss: 0.0086 - val_mean_squared_error: 0.0086\n",
      "Epoch 62/75\n",
      "35/35 [==============================] - 0s 10ms/step - loss: 0.0029 - mean_squared_error: 0.0029 - val_loss: 0.0082 - val_mean_squared_error: 0.0082\n",
      "Epoch 63/75\n",
      "35/35 [==============================] - 0s 11ms/step - loss: 0.0026 - mean_squared_error: 0.0026 - val_loss: 0.0093 - val_mean_squared_error: 0.0093\n",
      "Epoch 64/75\n",
      "35/35 [==============================] - 0s 10ms/step - loss: 0.0028 - mean_squared_error: 0.0028 - val_loss: 0.0077 - val_mean_squared_error: 0.0077\n",
      "Epoch 65/75\n",
      "35/35 [==============================] - 0s 10ms/step - loss: 0.0022 - mean_squared_error: 0.0022 - val_loss: 0.0074 - val_mean_squared_error: 0.0074\n",
      "Epoch 66/75\n",
      "35/35 [==============================] - 0s 10ms/step - loss: 0.0022 - mean_squared_error: 0.0022 - val_loss: 0.0081 - val_mean_squared_error: 0.0081\n",
      "Epoch 67/75\n",
      "35/35 [==============================] - 0s 11ms/step - loss: 0.0022 - mean_squared_error: 0.0022 - val_loss: 0.0076 - val_mean_squared_error: 0.0076\n",
      "Epoch 68/75\n",
      "35/35 [==============================] - 0s 10ms/step - loss: 0.0021 - mean_squared_error: 0.0021 - val_loss: 0.0073 - val_mean_squared_error: 0.0073\n",
      "Epoch 69/75\n",
      "35/35 [==============================] - 0s 10ms/step - loss: 0.0021 - mean_squared_error: 0.0021 - val_loss: 0.0075 - val_mean_squared_error: 0.0075\n",
      "Epoch 70/75\n",
      "35/35 [==============================] - 0s 10ms/step - loss: 0.0020 - mean_squared_error: 0.0020 - val_loss: 0.0076 - val_mean_squared_error: 0.0076\n",
      "Epoch 71/75\n",
      "35/35 [==============================] - 0s 11ms/step - loss: 0.0021 - mean_squared_error: 0.0021 - val_loss: 0.0072 - val_mean_squared_error: 0.0072\n",
      "Epoch 72/75\n",
      "35/35 [==============================] - 0s 10ms/step - loss: 0.0019 - mean_squared_error: 0.0019 - val_loss: 0.0070 - val_mean_squared_error: 0.0070\n",
      "Epoch 73/75\n",
      "35/35 [==============================] - 0s 10ms/step - loss: 0.0020 - mean_squared_error: 0.0020 - val_loss: 0.0073 - val_mean_squared_error: 0.0073\n",
      "Epoch 74/75\n",
      "35/35 [==============================] - 0s 10ms/step - loss: 0.0020 - mean_squared_error: 0.0020 - val_loss: 0.0072 - val_mean_squared_error: 0.0072\n",
      "Epoch 75/75\n",
      "35/35 [==============================] - 0s 10ms/step - loss: 0.0020 - mean_squared_error: 0.0020 - val_loss: 0.0068 - val_mean_squared_error: 0.0068\n",
      "CPU times: user 26.3 s, sys: 8.17 s, total: 34.5 s\n",
      "Wall time: 31.2 s\n"
     ]
    }
   ],
   "source": [
    "%%time \n",
    "\n",
    "history5_lstm = model.fit(X_train_shifted, y_train_shifted, batch_size=batch_size, \n",
    "                                  epochs=epochs,\n",
    "                                  verbose=1,\n",
    "                                  validation_data=(X_valid_shifted, y_valid_shifted), shuffle=False)"
   ]
  },
  {
   "cell_type": "code",
   "execution_count": 28,
   "metadata": {
    "executionInfo": {
     "elapsed": 37619,
     "status": "ok",
     "timestamp": 1617738601000,
     "user": {
      "displayName": "Garold Murdachaew",
      "photoUrl": "",
      "userId": "10767911817898383988"
     },
     "user_tz": -180
    },
    "id": "yUsAPAIpSIgW"
   },
   "outputs": [],
   "source": [
    "def plot_history(history):\n",
    "    \n",
    "    #-----------------------------------------------------------\n",
    "    # Retrieve results on training and validation data sets\n",
    "    # for each training epoch\n",
    "    #-----------------------------------------------------------\n",
    "    \n",
    "    mse      = history.history['mean_squared_error']\n",
    "    val_mse  = history.history['val_mean_squared_error']\n",
    "    loss     = history.history['loss']\n",
    "    val_loss = history.history['val_loss']\n",
    "    epochs   = range(1,len(mse)+1) \n",
    "    \n",
    "    plt.rcParams['font.size'] = 16\n",
    "    plt.rcParams['axes.spines.right'] = False\n",
    "    plt.rcParams['axes.spines.top'] = False\n",
    "\n",
    "    fig, (ax1, ax2) = plt.subplots(1,2,figsize=(10,5))\n",
    "    \n",
    "    #------------------------------------------------\n",
    "    # Plot training and validation mse per epoch\n",
    "    #------------------------------------------------\n",
    "    ax1.plot(epochs, mse,  label='Training mse')\n",
    "    ax1.plot(epochs, val_mse,  label='Validation mse')\n",
    "    ax1.set_title('Loss = MSE')\n",
    "    ax1.set_xlabel('epoch')\n",
    "    ax1.set_ylabel('mse')\n",
    "    #ax1.set_ylim(0.5,1.2)\n",
    "    ax1.legend()\n",
    "\n",
    "    #------------------------------------------------\n",
    "    # Plot training and validation rmse per epoch\n",
    "    #------------------------------------------------\n",
    "    ax2.plot(epochs, np.sqrt(mse),  label='Training rmse')\n",
    "    ax2.plot(epochs, np.sqrt(val_mse),  label='Validation rmse')\n",
    "    ax2.set_title('RMSE')\n",
    "    ax2.set_xlabel('epoch')\n",
    "    ax2.set_ylabel('rmse')\n",
    "    #ax2.set_ylim(0.5,1.2)\n",
    "    ax2.legend()\n",
    "\n",
    "    fig.tight_layout()\n",
    "    plt.show()"
   ]
  },
  {
   "cell_type": "code",
   "execution_count": 29,
   "metadata": {
    "colab": {
     "base_uri": "https://localhost:8080/",
     "height": 356
    },
    "executionInfo": {
     "elapsed": 38428,
     "status": "ok",
     "timestamp": 1617738601831,
     "user": {
      "displayName": "Garold Murdachaew",
      "photoUrl": "",
      "userId": "10767911817898383988"
     },
     "user_tz": -180
    },
    "id": "9bN59_MWRzhh",
    "outputId": "26721254-3aab-4b46-fe6f-37cf53db2ef6"
   },
   "outputs": [
    {
     "data": {
      "image/png": "[encoded data removed]",
      "text/plain": [
       "<Figure size 720x360 with 2 Axes>"
      ]
     },
     "metadata": {
      "needs_background": "light",
      "tags": []
     },
     "output_type": "display_data"
    }
   ],
   "source": [
    "plot_history(history5_lstm)"
   ]
  },
  {
   "cell_type": "code",
   "execution_count": 30,
   "metadata": {
    "colab": {
     "base_uri": "https://localhost:8080/",
     "height": 0
    },
    "executionInfo": {
     "elapsed": 40230,
     "status": "ok",
     "timestamp": 1617738603665,
     "user": {
      "displayName": "Garold Murdachaew",
      "photoUrl": "",
      "userId": "10767911817898383988"
     },
     "user_tz": -180
    },
    "id": "Pfw40ZDeRflv",
    "outputId": "cba190cf-dfb1-4da9-ff48-35ea0f160b5e"
   },
   "outputs": [
    {
     "name": "stdout",
     "output_type": "stream",
     "text": [
      "8/8 - 0s - loss: 0.0074 - mean_squared_error: 0.0074\n",
      "test_loss = test_mse, test_rmse, test_mae\n",
      "            0.0074    0.0862    0.0676\n"
     ]
    }
   ],
   "source": [
    "from sklearn.metrics import mean_squared_error, mean_absolute_error\n",
    "\n",
    "test_loss, test_mse = model.evaluate(X_test_shifted, y_test_shifted, batch_size=batch_size, verbose=2)\n",
    "test_rmse = np.sqrt(test_mse)\n",
    "y_test_shifted_pred = model.predict(X_test_shifted)\n",
    "test_mae = mean_absolute_error(y_test_shifted, y_test_shifted_pred)\n",
    "print('test_loss = test_mse, test_rmse, test_mae')\n",
    "print(\"          %8.4f  %8.4f  %8.4f\" % (test_mse, test_rmse, test_mae))"
   ]
  },
  {
   "cell_type": "code",
   "execution_count": 42,
   "metadata": {
    "colab": {
     "base_uri": "https://localhost:8080/",
     "height": 0
    },
    "executionInfo": {
     "elapsed": 918,
     "status": "ok",
     "timestamp": 1617739874472,
     "user": {
      "displayName": "Garold Murdachaew",
      "photoUrl": "",
      "userId": "10767911817898383988"
     },
     "user_tz": -180
    },
    "id": "vfDlFI0yWFir",
    "outputId": "8f626b48-2bca-4d04-d02c-cbdc0bd6dec0"
   },
   "outputs": [
    {
     "name": "stdout",
     "output_type": "stream",
     "text": [
      "Data size    Method                                         params    Fit name    Lr     Decay    Epoch    Run time [mm:ss]    train_rmse    test_rmse    test_mae\n",
      "-----------  ---------------------------------------------  --------  ----------  -----  -------  -------  ------------------  ------------  -----------  ----------\n",
      "25000        SVR                                                      0a                                   >10:00              0.3742        0.1400       0.0200\n",
      "25000        ANN (hidden:  60, 40,  -)                      4,505     1a          1e-3   0.9      75                           0.0755\n",
      "25000        ANN (hidden:  60, 40,  -)                      4,505     1a          1e-3   0.9      150      03:03               0.0670        0.0789       0.0443\n",
      "-----------  ---------------------------------------------  --------  ----------  -----  -------  -------  ------------------  ------------  -----------  ----------\n",
      "\n",
      "254649       ANN (hidden:  60, 40,  -)                      4,505     1           1e-3   0.9      75       13:55               0.1421        0.1433       0.0891\n",
      "254649       ANN (hidden: 100, 50, 25)                      9,555     2           1e-3   0.9      75       14:36               0.1086        0.1133       0.0618\n",
      "254649       ANN (hidden: 300, 30,  -)                      18,485    3           1e-3   0.9      75       14:09               0.1100        0.1140       0.0678\n",
      "-----------  ---------------------------------------------  --------  ----------  -----  -------  -------  ------------------  ------------  -----------  ----------\n",
      "\n",
      "255000^1,2   LSTM, explicit lag: 0   (internal units: 128)  82,053    4b          1e-3   0.9      12^3     00:04               0.3342        0.5453       0.4128\n",
      "255000^1,2   LSTM, explicit lag: 0   (internal units: 128)  82,053    4a          1e-3   0.9      75       00:20               0.2472        0.6251       0.4725\n",
      "255000^1,2   LSTM, explicit lag: 1^4 (internal units: 128)  84,613^3  5           1e-3   0.9      75       00:36               0.0447        0.0862       0.0676\n",
      "\n",
      "^1 In these fits, unlike in the preceding fits, the few missing data rows in each set were interpolated as the last present row in that set.\n",
      "^2 In these fits, unlike in the preceding fits, the data was not shuffled; i.e., the data sets were not mixed, and also, time order was maintained in each set.\n",
      "^3 With early stopping (patience = 3).\n",
      "^4 A non-zero time lag refers to treating the vector autoregression problem by introducing an explicit lag, as in\n",
      "   https://machinelearningmastery.com/multivariate-time-series-forecasting-lstms-keras/. Here, this introduces an additional 5 features (preceding values of y1-y5)\n",
      "   into X_train and accounts for the increase in the number of parameters.\n",
      "0.044721359549995794\n"
     ]
    }
   ],
   "source": [
    "from tabulate import tabulate\n",
    "#tabulate.PRESERVE_WHITESPACE = True\n",
    "\n",
    "print(tabulate([\n",
    "  [\"Data size\", \"Method\",             \"params\", \"Fit name\", \"Lr\",  \"Decay\", \"Epoch\", \"Run time [mm:ss]\", \"train_rmse\", \"test_rmse\", \"test_mae\"],\n",
    "  [ 25000, \"SVR\",                      \"\",          \"0a\",       \"\",     \"\",      \"\",      \">10:00\",          \"0.3742\",     \"0.1400\",   \"0.0200\"],\n",
    "  [ 25000, \"ANN (hidden:  60, 40,  -)\", \" 4,505\",   \"1a\",       \"1e-3\", 0.9,      75,     \"\",                 0.0755,       \"\",        \"\"],\n",
    "  [ 25000, \"ANN (hidden:  60, 40,  -)\", \" 4,505\",   \"1a\",       \"1e-3\", 0.9,     150,     \" 03:03\",          \"0.0670\",      0.0789,     0.0443],\n",
    "  [\"-----------\", \"---------------------------------------------\", \"--------\", \"----------\", \"-----\", \"-------\", \"-------\", \"------------------\", \"------------\", \"-----------\", \"----------\"],\n",
    "  [\"\", \"\", \"\", \"\", \"\", \"\", \"\", \"\", \"\", \"\", \"\"],\n",
    "\n",
    "  [254649, \"ANN (hidden:  60, 40,  -)\", \" 4,505\",   \"1 \",       \"1e-3\", 0.9,      75,     \" 13:55\",           0.1421,       0.1433,     0.0891],\n",
    "  [254649, \"ANN (hidden: 100, 50, 25)\", \" 9,555\",   \"2 \",       \"1e-3\", 0.9,      75,     \" 14:36\",           0.1086,       0.1133,     0.0618],\n",
    "  [254649, \"ANN (hidden: 300, 30,  -)\", \"18,485\",   \"3 \",       \"1e-3\", 0.9,      75,     \" 14:09\",          \"0.1100\",     \"0.1140\",    0.0678],\n",
    "  [\"-----------\", \"---------------------------------------------\", \"--------\", \"----------\", \"-----\", \"-------\", \"-------\", \"------------------\", \"------------\", \"-----------\", \"----------\"],\n",
    "  [\"\", \"\", \"\", \"\", \"\", \"\", \"\", \"\", \"\", \"\", \"\"],\n",
    "\n",
    "  [\"255000^1,2\", \"LSTM, explicit lag: 0   (internal units: 128)\", \"82,053\",  \"4b\", \"1e-3\", 0.9, \"12^3\", \"00:04\", 0.3342,     0.5453,     0.4128],\n",
    "  [\"255000^1,2\", \"LSTM, explicit lag: 0   (internal units: 128)\", \"82,053\",  \"4a\", \"1e-3\", 0.9, 75,     \"00:20\", 0.2472,     0.6251,     0.4725],\n",
    "  [\"255000^1,2\", \"LSTM, explicit lag: 1^4 (internal units: 128)\", \"84,613^3\",\"5 \", \"1e-3\", 0.9, 75,     \"00:36\", 0.0447,     0.0862,     0.0676]],\n",
    "  headers=\"firstrow\"))\n",
    "print()\n",
    "\n",
    "print('^1 In these fits, unlike in the preceding fits, the few missing data rows in each set were interpolated as the last present row in that set.')\n",
    "print('^2 In these fits, unlike in the preceding fits, the data was not shuffled; i.e., the data sets were not mixed, and also, time order was maintained in each set.')\n",
    "print('^3 With early stopping (patience = 3).')\n",
    "print('^4 A non-zero time lag refers to treating the vector autoregression problem by introducing an explicit lag, as in')\n",
    "print('   https://machinelearningmastery.com/multivariate-time-series-forecasting-lstms-keras/. Here, this introduces an additional 5 features (preceding values of y1-y5)')\n",
    "print('   into X_train and accounts for the increase in the number of parameters.')\n",
    "\n",
    "#print(np.sqrt(0.0020))"
   ]
  },
  {
   "cell_type": "markdown",
   "metadata": {
    "id": "gajkpBOJ91J8"
   },
   "source": [
    "**Final conclusions**\n",
    "\n",
    "The table above summarizes results from the preceding two notebooks and this final notebook. With a CNN, fit2 performed best (test data rmse = 0.1133; if we take 60 degrees as a typical angle, this is an error of about 7.5 degrees). However, the time order in fits 0-3 was not respected, and thus these models at best present average predictions. To better, we need to preserve the time order, which was done in fits 4-5, and which also used a memory-aware LSTM rather than a memory-less ANN as before. Further, in fit5 we introduced additional explicit time dependence, with a lag of 1 time step. As can be seen, fit5 performs better (test data rmse = 0.0862; if we take 60 degrees as a typical angle, this is an error of about 5.7 degrees; an improvement of 24% over fit2). Also, importantly, the time for the fit was tremendously reduced (fit2, fully connected ANN with three hidden layers, wall time for the fit: about 14 minutes; versus fit5, single layer LSTM, wall time for the fit: 36 seconds; a reductions of about a factor of 28; with both fits run on the same data and hardware). This increase in speed of the LSTM model is also expected to be important in applications when making real-time predictions.\n",
    "\n",
    "The final result in best model, fit5, with vector autoregression and an LSTM, with a typical error of about 5 degrees (depending on finger and bend angle) is an improvement over the preceding models and fits in this work. Of course, given addtional time, we could do better by exploring other LSTM architectures and tuning the hyperparameters.\n"
   ]
  }
 ],
 "metadata": {
  "accelerator": "GPU",
  "colab": {
   "collapsed_sections": [],
   "name": "fill_missing_data_use_autoregression_use_lstm.ipynb",
   "provenance": [
    {
     "file_id": "1BX-eIz7ubVmNwO9atUO5SD-d0Xu7Soix",
     "timestamp": 1617721207634
    }
   ]
  },
  "kernelspec": {
   "display_name": "Python 3",
   "language": "python",
   "name": "python3"
  },
  "language_info": {
   "codemirror_mode": {
    "name": "ipython",
    "version": 3
   },
   "file_extension": ".py",
   "mimetype": "text/x-python",
   "name": "python",
   "nbconvert_exporter": "python",
   "pygments_lexer": "ipython3",
   "version": "3.7.3"
  }
 },
 "nbformat": 4,
 "nbformat_minor": 4
}
