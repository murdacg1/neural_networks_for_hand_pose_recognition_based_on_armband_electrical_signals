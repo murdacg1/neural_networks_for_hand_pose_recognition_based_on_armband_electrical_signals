{
 "cells": [
  {
   "cell_type": "markdown",
   "metadata": {
    "id": "W6RnDtPw0gj0"
   },
   "source": [
    "**Continuation (1): A time-series should not have the data scrambled and should ideally be modeled by an RNN such as an LSTM**\n",
    "\n",
    "This is a continuation of the previously submitted work. But now a more careful process is applied to first clean the data, respect its chronology, and implement a better model such as an LSTM.\n",
    "\n",
    "The steps are:\n",
    "\n",
    "(1) Each of the 51 data sets will be now kept separate, with time order preserved.\n",
    "\n",
    "(2) Some of the data sets have a few missing rows. These are now filled by the last existing row, which seems more correct than using the mean value. Thus all the data sets are now of length 5000 (at 50 Hz, this means 100 s of observation).\n",
    "\n",
    "(3) The split is the same as before: train/validate/test = 70%/15%/15%, however now it occurs on the data set level, thus it is train/validate/test = first 35 data sets/next 8 data sets/last 8 data sets.\n",
    "\n",
    "(4) In fitting the models we use shuffle=False and a batch_size = 5000 (the size of each data set)."
   ]
  },
  {
   "cell_type": "code",
   "execution_count": 57,
   "metadata": {
    "colab": {
     "base_uri": "https://localhost:8080/"
    },
    "executionInfo": {
     "elapsed": 1900,
     "status": "ok",
     "timestamp": 1617736413967,
     "user": {
      "displayName": "Garold Murdachaew",
      "photoUrl": "",
      "userId": "10767911817898383988"
     },
     "user_tz": -180
    },
    "id": "zAal1T6NL73t",
    "outputId": "8edf5830-4781-4ffd-8e78-93d015aa2fdb"
   },
   "outputs": [
    {
     "name": "stdout",
     "output_type": "stream",
     "text": [
      "Drive already mounted at /content/drive; to attempt to forcibly remount, call drive.mount(\"/content/drive\", force_remount=True).\n"
     ]
    }
   ],
   "source": [
    "from google.colab import drive\n",
    "drive.mount('/content/drive')\n",
    "\n",
    "import sys\n",
    "sys.path.append('/content/drive/My Drive/challenge')"
   ]
  },
  {
   "cell_type": "code",
   "execution_count": 58,
   "metadata": {
    "colab": {
     "base_uri": "https://localhost:8080/"
    },
    "executionInfo": {
     "elapsed": 2483,
     "status": "ok",
     "timestamp": 1617736414588,
     "user": {
      "displayName": "Garold Murdachaew",
      "photoUrl": "",
      "userId": "10767911817898383988"
     },
     "user_tz": -180
    },
    "id": "r5Roe5SNMHN0",
    "outputId": "ee094ab9-f21d-4584-f94e-59dffbb958e1"
   },
   "outputs": [
    {
     "name": "stdout",
     "output_type": "stream",
     "text": [
      "51\n",
      "51\n"
     ]
    }
   ],
   "source": [
    "import joblib as joblib\n",
    "import matplotlib.pyplot as plt\n",
    "%matplotlib inline\n",
    "import numpy as np\n",
    "\n",
    "features, labels = joblib.load('/content/drive/My Drive/challenge/data.dat')\n",
    "\n",
    "print(len(features))\n",
    "print(len(labels))"
   ]
  },
  {
   "cell_type": "code",
   "execution_count": 59,
   "metadata": {
    "colab": {
     "base_uri": "https://localhost:8080/"
    },
    "executionInfo": {
     "elapsed": 2454,
     "status": "ok",
     "timestamp": 1617736414590,
     "user": {
      "displayName": "Garold Murdachaew",
      "photoUrl": "",
      "userId": "10767911817898383988"
     },
     "user_tz": -180
    },
    "id": "thzF1nmWmSom",
    "outputId": "8355e7ce-a268-4439-82c2-8c2895f0c4b4"
   },
   "outputs": [
    {
     "name": "stdout",
     "output_type": "stream",
     "text": [
      "51\n",
      "(4979, 30) (4979, 5)\n",
      "(4966, 30) (4966, 5)\n",
      "(4944, 30) (4944, 5)\n",
      "(4966, 30) (4966, 5)\n",
      "(4966, 30) (4966, 5)\n",
      "(4958, 30) (4958, 5)\n",
      "(5000, 30) (5000, 5)\n",
      "(5000, 30) (5000, 5)\n",
      "(4937, 30) (4937, 5)\n",
      "(4959, 30) (4959, 5)\n",
      "(5000, 30) (5000, 5)\n",
      "(5000, 30) (5000, 5)\n",
      "(5000, 30) (5000, 5)\n",
      "(5000, 30) (5000, 5)\n",
      "(5000, 30) (5000, 5)\n",
      "(5000, 30) (5000, 5)\n",
      "(5000, 30) (5000, 5)\n",
      "(4974, 30) (4974, 5)\n",
      "(5000, 30) (5000, 5)\n",
      "(5000, 30) (5000, 5)\n",
      "(5000, 30) (5000, 5)\n",
      "(5000, 30) (5000, 5)\n",
      "(5000, 30) (5000, 5)\n",
      "(5000, 30) (5000, 5)\n",
      "(5000, 30) (5000, 5)\n",
      "(5000, 30) (5000, 5)\n",
      "(5000, 30) (5000, 5)\n",
      "(5000, 30) (5000, 5)\n",
      "(5000, 30) (5000, 5)\n",
      "(5000, 30) (5000, 5)\n",
      "(5000, 30) (5000, 5)\n",
      "(5000, 30) (5000, 5)\n",
      "(5000, 30) (5000, 5)\n",
      "(5000, 30) (5000, 5)\n",
      "(5000, 30) (5000, 5)\n",
      "(5000, 30) (5000, 5)\n",
      "(5000, 30) (5000, 5)\n",
      "(5000, 30) (5000, 5)\n",
      "(5000, 30) (5000, 5)\n",
      "(5000, 30) (5000, 5)\n",
      "(5000, 30) (5000, 5)\n",
      "(5000, 30) (5000, 5)\n",
      "(5000, 30) (5000, 5)\n",
      "(5000, 30) (5000, 5)\n",
      "(5000, 30) (5000, 5)\n",
      "(5000, 30) (5000, 5)\n",
      "(5000, 30) (5000, 5)\n",
      "(5000, 30) (5000, 5)\n",
      "(5000, 30) (5000, 5)\n",
      "(5000, 30) (5000, 5)\n",
      "(5000, 30) (5000, 5)\n"
     ]
    }
   ],
   "source": [
    "n_samples = len(features)\n",
    "print(n_samples)\n",
    "for i in range(n_samples):\n",
    "  print(features[i].shape, labels[i].shape)"
   ]
  },
  {
   "cell_type": "code",
   "execution_count": 60,
   "metadata": {
    "colab": {
     "base_uri": "https://localhost:8080/"
    },
    "executionInfo": {
     "elapsed": 2429,
     "status": "ok",
     "timestamp": 1617736414593,
     "user": {
      "displayName": "Garold Murdachaew",
      "photoUrl": "",
      "userId": "10767911817898383988"
     },
     "user_tz": -180
    },
    "id": "_USfJGvervr0",
    "outputId": "6323b76f-f39d-4b2f-e4d6-a71de13d0c2a"
   },
   "outputs": [
    {
     "name": "stdout",
     "output_type": "stream",
     "text": [
      "4979\n",
      "4966\n",
      "4944\n",
      "4966\n",
      "4966\n",
      "4958\n",
      "5000\n",
      "5000\n",
      "4937\n",
      "4959\n",
      "5000\n",
      "5000\n",
      "5000\n",
      "5000\n",
      "5000\n",
      "5000\n",
      "5000\n",
      "4974\n",
      "5000\n",
      "5000\n",
      "5000\n",
      "5000\n",
      "5000\n",
      "5000\n",
      "5000\n",
      "5000\n",
      "5000\n",
      "5000\n",
      "5000\n",
      "5000\n",
      "5000\n",
      "5000\n",
      "5000\n",
      "5000\n",
      "5000\n",
      "5000\n",
      "5000\n",
      "5000\n",
      "5000\n",
      "5000\n",
      "5000\n",
      "5000\n",
      "5000\n",
      "5000\n",
      "5000\n",
      "5000\n",
      "5000\n",
      "5000\n",
      "5000\n",
      "5000\n",
      "5000\n"
     ]
    }
   ],
   "source": [
    "for i in range(len(features)):\n",
    "  print(features[i].shape[0])"
   ]
  },
  {
   "cell_type": "code",
   "execution_count": 61,
   "metadata": {
    "colab": {
     "base_uri": "https://localhost:8080/"
    },
    "executionInfo": {
     "elapsed": 2404,
     "status": "ok",
     "timestamp": 1617736414595,
     "user": {
      "displayName": "Garold Murdachaew",
      "photoUrl": "",
      "userId": "10767911817898383988"
     },
     "user_tz": -180
    },
    "id": "etJ7ZDpCoXB8",
    "outputId": "f3205bbd-e6d1-4bd8-a6dc-0362b262c2bb"
   },
   "outputs": [
    {
     "name": "stdout",
     "output_type": "stream",
     "text": [
      "4937\n",
      "5000\n",
      "51 5000 30\n",
      "5\n"
     ]
    }
   ],
   "source": [
    "n_time_steps = min([features[i].shape[0] for i in range(len(features))])\n",
    "print(n_time_steps)\n",
    "n_time_steps = max([features[i].shape[0] for i in range(len(features))])\n",
    "print(n_time_steps)\n",
    "n_features = features[-1].shape[1]\n",
    "n_labels = labels[-1].shape[1]\n",
    "print(n_samples, n_time_steps, n_features)\n",
    "print(n_labels)"
   ]
  },
  {
   "cell_type": "code",
   "execution_count": 62,
   "metadata": {
    "colab": {
     "base_uri": "https://localhost:8080/"
    },
    "executionInfo": {
     "elapsed": 2700,
     "status": "ok",
     "timestamp": 1617736414918,
     "user": {
      "displayName": "Garold Murdachaew",
      "photoUrl": "",
      "userId": "10767911817898383988"
     },
     "user_tz": -180
    },
    "id": "5Mprbav7ATkh",
    "outputId": "3caef246-fe50-4f23-eebb-eb897ee7792a"
   },
   "outputs": [
    {
     "name": "stdout",
     "output_type": "stream",
     "text": [
      "[array([[nan, nan, nan, ..., nan, nan, nan],\n",
      "       [nan, nan, nan, ..., nan, nan, nan],\n",
      "       [nan, nan, nan, ..., nan, nan, nan],\n",
      "       ...,\n",
      "       [nan, nan, nan, ..., nan, nan, nan],\n",
      "       [nan, nan, nan, ..., nan, nan, nan],\n",
      "       [nan, nan, nan, ..., nan, nan, nan]]), array([[nan, nan, nan, ..., nan, nan, nan],\n",
      "       [nan, nan, nan, ..., nan, nan, nan],\n",
      "       [nan, nan, nan, ..., nan, nan, nan],\n",
      "       ...,\n",
      "       [nan, nan, nan, ..., nan, nan, nan],\n",
      "       [nan, nan, nan, ..., nan, nan, nan],\n",
      "       [nan, nan, nan, ..., nan, nan, nan]]), array([[nan, nan, nan, ..., nan, nan, nan],\n",
      "       [nan, nan, nan, ..., nan, nan, nan],\n",
      "       [nan, nan, nan, ..., nan, nan, nan],\n",
      "       ...,\n",
      "       [nan, nan, nan, ..., nan, nan, nan],\n",
      "       [nan, nan, nan, ..., nan, nan, nan],\n",
      "       [nan, nan, nan, ..., nan, nan, nan]]), array([[nan, nan, nan, ..., nan, nan, nan],\n",
      "       [nan, nan, nan, ..., nan, nan, nan],\n",
      "       [nan, nan, nan, ..., nan, nan, nan],\n",
      "       ...,\n",
      "       [nan, nan, nan, ..., nan, nan, nan],\n",
      "       [nan, nan, nan, ..., nan, nan, nan],\n",
      "       [nan, nan, nan, ..., nan, nan, nan]]), array([[nan, nan, nan, ..., nan, nan, nan],\n",
      "       [nan, nan, nan, ..., nan, nan, nan],\n",
      "       [nan, nan, nan, ..., nan, nan, nan],\n",
      "       ...,\n",
      "       [nan, nan, nan, ..., nan, nan, nan],\n",
      "       [nan, nan, nan, ..., nan, nan, nan],\n",
      "       [nan, nan, nan, ..., nan, nan, nan]]), array([[nan, nan, nan, ..., nan, nan, nan],\n",
      "       [nan, nan, nan, ..., nan, nan, nan],\n",
      "       [nan, nan, nan, ..., nan, nan, nan],\n",
      "       ...,\n",
      "       [nan, nan, nan, ..., nan, nan, nan],\n",
      "       [nan, nan, nan, ..., nan, nan, nan],\n",
      "       [nan, nan, nan, ..., nan, nan, nan]]), array([[nan, nan, nan, ..., nan, nan, nan],\n",
      "       [nan, nan, nan, ..., nan, nan, nan],\n",
      "       [nan, nan, nan, ..., nan, nan, nan],\n",
      "       ...,\n",
      "       [nan, nan, nan, ..., nan, nan, nan],\n",
      "       [nan, nan, nan, ..., nan, nan, nan],\n",
      "       [nan, nan, nan, ..., nan, nan, nan]]), array([[nan, nan, nan, ..., nan, nan, nan],\n",
      "       [nan, nan, nan, ..., nan, nan, nan],\n",
      "       [nan, nan, nan, ..., nan, nan, nan],\n",
      "       ...,\n",
      "       [nan, nan, nan, ..., nan, nan, nan],\n",
      "       [nan, nan, nan, ..., nan, nan, nan],\n",
      "       [nan, nan, nan, ..., nan, nan, nan]]), array([[nan, nan, nan, ..., nan, nan, nan],\n",
      "       [nan, nan, nan, ..., nan, nan, nan],\n",
      "       [nan, nan, nan, ..., nan, nan, nan],\n",
      "       ...,\n",
      "       [nan, nan, nan, ..., nan, nan, nan],\n",
      "       [nan, nan, nan, ..., nan, nan, nan],\n",
      "       [nan, nan, nan, ..., nan, nan, nan]]), array([[nan, nan, nan, ..., nan, nan, nan],\n",
      "       [nan, nan, nan, ..., nan, nan, nan],\n",
      "       [nan, nan, nan, ..., nan, nan, nan],\n",
      "       ...,\n",
      "       [nan, nan, nan, ..., nan, nan, nan],\n",
      "       [nan, nan, nan, ..., nan, nan, nan],\n",
      "       [nan, nan, nan, ..., nan, nan, nan]]), array([[nan, nan, nan, ..., nan, nan, nan],\n",
      "       [nan, nan, nan, ..., nan, nan, nan],\n",
      "       [nan, nan, nan, ..., nan, nan, nan],\n",
      "       ...,\n",
      "       [nan, nan, nan, ..., nan, nan, nan],\n",
      "       [nan, nan, nan, ..., nan, nan, nan],\n",
      "       [nan, nan, nan, ..., nan, nan, nan]]), array([[nan, nan, nan, ..., nan, nan, nan],\n",
      "       [nan, nan, nan, ..., nan, nan, nan],\n",
      "       [nan, nan, nan, ..., nan, nan, nan],\n",
      "       ...,\n",
      "       [nan, nan, nan, ..., nan, nan, nan],\n",
      "       [nan, nan, nan, ..., nan, nan, nan],\n",
      "       [nan, nan, nan, ..., nan, nan, nan]]), array([[nan, nan, nan, ..., nan, nan, nan],\n",
      "       [nan, nan, nan, ..., nan, nan, nan],\n",
      "       [nan, nan, nan, ..., nan, nan, nan],\n",
      "       ...,\n",
      "       [nan, nan, nan, ..., nan, nan, nan],\n",
      "       [nan, nan, nan, ..., nan, nan, nan],\n",
      "       [nan, nan, nan, ..., nan, nan, nan]]), array([[nan, nan, nan, ..., nan, nan, nan],\n",
      "       [nan, nan, nan, ..., nan, nan, nan],\n",
      "       [nan, nan, nan, ..., nan, nan, nan],\n",
      "       ...,\n",
      "       [nan, nan, nan, ..., nan, nan, nan],\n",
      "       [nan, nan, nan, ..., nan, nan, nan],\n",
      "       [nan, nan, nan, ..., nan, nan, nan]]), array([[nan, nan, nan, ..., nan, nan, nan],\n",
      "       [nan, nan, nan, ..., nan, nan, nan],\n",
      "       [nan, nan, nan, ..., nan, nan, nan],\n",
      "       ...,\n",
      "       [nan, nan, nan, ..., nan, nan, nan],\n",
      "       [nan, nan, nan, ..., nan, nan, nan],\n",
      "       [nan, nan, nan, ..., nan, nan, nan]]), array([[nan, nan, nan, ..., nan, nan, nan],\n",
      "       [nan, nan, nan, ..., nan, nan, nan],\n",
      "       [nan, nan, nan, ..., nan, nan, nan],\n",
      "       ...,\n",
      "       [nan, nan, nan, ..., nan, nan, nan],\n",
      "       [nan, nan, nan, ..., nan, nan, nan],\n",
      "       [nan, nan, nan, ..., nan, nan, nan]]), array([[nan, nan, nan, ..., nan, nan, nan],\n",
      "       [nan, nan, nan, ..., nan, nan, nan],\n",
      "       [nan, nan, nan, ..., nan, nan, nan],\n",
      "       ...,\n",
      "       [nan, nan, nan, ..., nan, nan, nan],\n",
      "       [nan, nan, nan, ..., nan, nan, nan],\n",
      "       [nan, nan, nan, ..., nan, nan, nan]]), array([[nan, nan, nan, ..., nan, nan, nan],\n",
      "       [nan, nan, nan, ..., nan, nan, nan],\n",
      "       [nan, nan, nan, ..., nan, nan, nan],\n",
      "       ...,\n",
      "       [nan, nan, nan, ..., nan, nan, nan],\n",
      "       [nan, nan, nan, ..., nan, nan, nan],\n",
      "       [nan, nan, nan, ..., nan, nan, nan]]), array([[nan, nan, nan, ..., nan, nan, nan],\n",
      "       [nan, nan, nan, ..., nan, nan, nan],\n",
      "       [nan, nan, nan, ..., nan, nan, nan],\n",
      "       ...,\n",
      "       [nan, nan, nan, ..., nan, nan, nan],\n",
      "       [nan, nan, nan, ..., nan, nan, nan],\n",
      "       [nan, nan, nan, ..., nan, nan, nan]]), array([[nan, nan, nan, ..., nan, nan, nan],\n",
      "       [nan, nan, nan, ..., nan, nan, nan],\n",
      "       [nan, nan, nan, ..., nan, nan, nan],\n",
      "       ...,\n",
      "       [nan, nan, nan, ..., nan, nan, nan],\n",
      "       [nan, nan, nan, ..., nan, nan, nan],\n",
      "       [nan, nan, nan, ..., nan, nan, nan]]), array([[nan, nan, nan, ..., nan, nan, nan],\n",
      "       [nan, nan, nan, ..., nan, nan, nan],\n",
      "       [nan, nan, nan, ..., nan, nan, nan],\n",
      "       ...,\n",
      "       [nan, nan, nan, ..., nan, nan, nan],\n",
      "       [nan, nan, nan, ..., nan, nan, nan],\n",
      "       [nan, nan, nan, ..., nan, nan, nan]]), array([[nan, nan, nan, ..., nan, nan, nan],\n",
      "       [nan, nan, nan, ..., nan, nan, nan],\n",
      "       [nan, nan, nan, ..., nan, nan, nan],\n",
      "       ...,\n",
      "       [nan, nan, nan, ..., nan, nan, nan],\n",
      "       [nan, nan, nan, ..., nan, nan, nan],\n",
      "       [nan, nan, nan, ..., nan, nan, nan]]), array([[nan, nan, nan, ..., nan, nan, nan],\n",
      "       [nan, nan, nan, ..., nan, nan, nan],\n",
      "       [nan, nan, nan, ..., nan, nan, nan],\n",
      "       ...,\n",
      "       [nan, nan, nan, ..., nan, nan, nan],\n",
      "       [nan, nan, nan, ..., nan, nan, nan],\n",
      "       [nan, nan, nan, ..., nan, nan, nan]]), array([[nan, nan, nan, ..., nan, nan, nan],\n",
      "       [nan, nan, nan, ..., nan, nan, nan],\n",
      "       [nan, nan, nan, ..., nan, nan, nan],\n",
      "       ...,\n",
      "       [nan, nan, nan, ..., nan, nan, nan],\n",
      "       [nan, nan, nan, ..., nan, nan, nan],\n",
      "       [nan, nan, nan, ..., nan, nan, nan]]), array([[nan, nan, nan, ..., nan, nan, nan],\n",
      "       [nan, nan, nan, ..., nan, nan, nan],\n",
      "       [nan, nan, nan, ..., nan, nan, nan],\n",
      "       ...,\n",
      "       [nan, nan, nan, ..., nan, nan, nan],\n",
      "       [nan, nan, nan, ..., nan, nan, nan],\n",
      "       [nan, nan, nan, ..., nan, nan, nan]]), array([[nan, nan, nan, ..., nan, nan, nan],\n",
      "       [nan, nan, nan, ..., nan, nan, nan],\n",
      "       [nan, nan, nan, ..., nan, nan, nan],\n",
      "       ...,\n",
      "       [nan, nan, nan, ..., nan, nan, nan],\n",
      "       [nan, nan, nan, ..., nan, nan, nan],\n",
      "       [nan, nan, nan, ..., nan, nan, nan]]), array([[nan, nan, nan, ..., nan, nan, nan],\n",
      "       [nan, nan, nan, ..., nan, nan, nan],\n",
      "       [nan, nan, nan, ..., nan, nan, nan],\n",
      "       ...,\n",
      "       [nan, nan, nan, ..., nan, nan, nan],\n",
      "       [nan, nan, nan, ..., nan, nan, nan],\n",
      "       [nan, nan, nan, ..., nan, nan, nan]]), array([[nan, nan, nan, ..., nan, nan, nan],\n",
      "       [nan, nan, nan, ..., nan, nan, nan],\n",
      "       [nan, nan, nan, ..., nan, nan, nan],\n",
      "       ...,\n",
      "       [nan, nan, nan, ..., nan, nan, nan],\n",
      "       [nan, nan, nan, ..., nan, nan, nan],\n",
      "       [nan, nan, nan, ..., nan, nan, nan]]), array([[nan, nan, nan, ..., nan, nan, nan],\n",
      "       [nan, nan, nan, ..., nan, nan, nan],\n",
      "       [nan, nan, nan, ..., nan, nan, nan],\n",
      "       ...,\n",
      "       [nan, nan, nan, ..., nan, nan, nan],\n",
      "       [nan, nan, nan, ..., nan, nan, nan],\n",
      "       [nan, nan, nan, ..., nan, nan, nan]]), array([[nan, nan, nan, ..., nan, nan, nan],\n",
      "       [nan, nan, nan, ..., nan, nan, nan],\n",
      "       [nan, nan, nan, ..., nan, nan, nan],\n",
      "       ...,\n",
      "       [nan, nan, nan, ..., nan, nan, nan],\n",
      "       [nan, nan, nan, ..., nan, nan, nan],\n",
      "       [nan, nan, nan, ..., nan, nan, nan]]), array([[nan, nan, nan, ..., nan, nan, nan],\n",
      "       [nan, nan, nan, ..., nan, nan, nan],\n",
      "       [nan, nan, nan, ..., nan, nan, nan],\n",
      "       ...,\n",
      "       [nan, nan, nan, ..., nan, nan, nan],\n",
      "       [nan, nan, nan, ..., nan, nan, nan],\n",
      "       [nan, nan, nan, ..., nan, nan, nan]]), array([[nan, nan, nan, ..., nan, nan, nan],\n",
      "       [nan, nan, nan, ..., nan, nan, nan],\n",
      "       [nan, nan, nan, ..., nan, nan, nan],\n",
      "       ...,\n",
      "       [nan, nan, nan, ..., nan, nan, nan],\n",
      "       [nan, nan, nan, ..., nan, nan, nan],\n",
      "       [nan, nan, nan, ..., nan, nan, nan]]), array([[nan, nan, nan, ..., nan, nan, nan],\n",
      "       [nan, nan, nan, ..., nan, nan, nan],\n",
      "       [nan, nan, nan, ..., nan, nan, nan],\n",
      "       ...,\n",
      "       [nan, nan, nan, ..., nan, nan, nan],\n",
      "       [nan, nan, nan, ..., nan, nan, nan],\n",
      "       [nan, nan, nan, ..., nan, nan, nan]]), array([[nan, nan, nan, ..., nan, nan, nan],\n",
      "       [nan, nan, nan, ..., nan, nan, nan],\n",
      "       [nan, nan, nan, ..., nan, nan, nan],\n",
      "       ...,\n",
      "       [nan, nan, nan, ..., nan, nan, nan],\n",
      "       [nan, nan, nan, ..., nan, nan, nan],\n",
      "       [nan, nan, nan, ..., nan, nan, nan]]), array([[nan, nan, nan, ..., nan, nan, nan],\n",
      "       [nan, nan, nan, ..., nan, nan, nan],\n",
      "       [nan, nan, nan, ..., nan, nan, nan],\n",
      "       ...,\n",
      "       [nan, nan, nan, ..., nan, nan, nan],\n",
      "       [nan, nan, nan, ..., nan, nan, nan],\n",
      "       [nan, nan, nan, ..., nan, nan, nan]]), array([[nan, nan, nan, ..., nan, nan, nan],\n",
      "       [nan, nan, nan, ..., nan, nan, nan],\n",
      "       [nan, nan, nan, ..., nan, nan, nan],\n",
      "       ...,\n",
      "       [nan, nan, nan, ..., nan, nan, nan],\n",
      "       [nan, nan, nan, ..., nan, nan, nan],\n",
      "       [nan, nan, nan, ..., nan, nan, nan]]), array([[nan, nan, nan, ..., nan, nan, nan],\n",
      "       [nan, nan, nan, ..., nan, nan, nan],\n",
      "       [nan, nan, nan, ..., nan, nan, nan],\n",
      "       ...,\n",
      "       [nan, nan, nan, ..., nan, nan, nan],\n",
      "       [nan, nan, nan, ..., nan, nan, nan],\n",
      "       [nan, nan, nan, ..., nan, nan, nan]]), array([[nan, nan, nan, ..., nan, nan, nan],\n",
      "       [nan, nan, nan, ..., nan, nan, nan],\n",
      "       [nan, nan, nan, ..., nan, nan, nan],\n",
      "       ...,\n",
      "       [nan, nan, nan, ..., nan, nan, nan],\n",
      "       [nan, nan, nan, ..., nan, nan, nan],\n",
      "       [nan, nan, nan, ..., nan, nan, nan]]), array([[nan, nan, nan, ..., nan, nan, nan],\n",
      "       [nan, nan, nan, ..., nan, nan, nan],\n",
      "       [nan, nan, nan, ..., nan, nan, nan],\n",
      "       ...,\n",
      "       [nan, nan, nan, ..., nan, nan, nan],\n",
      "       [nan, nan, nan, ..., nan, nan, nan],\n",
      "       [nan, nan, nan, ..., nan, nan, nan]]), array([[nan, nan, nan, ..., nan, nan, nan],\n",
      "       [nan, nan, nan, ..., nan, nan, nan],\n",
      "       [nan, nan, nan, ..., nan, nan, nan],\n",
      "       ...,\n",
      "       [nan, nan, nan, ..., nan, nan, nan],\n",
      "       [nan, nan, nan, ..., nan, nan, nan],\n",
      "       [nan, nan, nan, ..., nan, nan, nan]]), array([[nan, nan, nan, ..., nan, nan, nan],\n",
      "       [nan, nan, nan, ..., nan, nan, nan],\n",
      "       [nan, nan, nan, ..., nan, nan, nan],\n",
      "       ...,\n",
      "       [nan, nan, nan, ..., nan, nan, nan],\n",
      "       [nan, nan, nan, ..., nan, nan, nan],\n",
      "       [nan, nan, nan, ..., nan, nan, nan]]), array([[nan, nan, nan, ..., nan, nan, nan],\n",
      "       [nan, nan, nan, ..., nan, nan, nan],\n",
      "       [nan, nan, nan, ..., nan, nan, nan],\n",
      "       ...,\n",
      "       [nan, nan, nan, ..., nan, nan, nan],\n",
      "       [nan, nan, nan, ..., nan, nan, nan],\n",
      "       [nan, nan, nan, ..., nan, nan, nan]]), array([[nan, nan, nan, ..., nan, nan, nan],\n",
      "       [nan, nan, nan, ..., nan, nan, nan],\n",
      "       [nan, nan, nan, ..., nan, nan, nan],\n",
      "       ...,\n",
      "       [nan, nan, nan, ..., nan, nan, nan],\n",
      "       [nan, nan, nan, ..., nan, nan, nan],\n",
      "       [nan, nan, nan, ..., nan, nan, nan]]), array([[nan, nan, nan, ..., nan, nan, nan],\n",
      "       [nan, nan, nan, ..., nan, nan, nan],\n",
      "       [nan, nan, nan, ..., nan, nan, nan],\n",
      "       ...,\n",
      "       [nan, nan, nan, ..., nan, nan, nan],\n",
      "       [nan, nan, nan, ..., nan, nan, nan],\n",
      "       [nan, nan, nan, ..., nan, nan, nan]]), array([[nan, nan, nan, ..., nan, nan, nan],\n",
      "       [nan, nan, nan, ..., nan, nan, nan],\n",
      "       [nan, nan, nan, ..., nan, nan, nan],\n",
      "       ...,\n",
      "       [nan, nan, nan, ..., nan, nan, nan],\n",
      "       [nan, nan, nan, ..., nan, nan, nan],\n",
      "       [nan, nan, nan, ..., nan, nan, nan]]), array([[nan, nan, nan, ..., nan, nan, nan],\n",
      "       [nan, nan, nan, ..., nan, nan, nan],\n",
      "       [nan, nan, nan, ..., nan, nan, nan],\n",
      "       ...,\n",
      "       [nan, nan, nan, ..., nan, nan, nan],\n",
      "       [nan, nan, nan, ..., nan, nan, nan],\n",
      "       [nan, nan, nan, ..., nan, nan, nan]]), array([[nan, nan, nan, ..., nan, nan, nan],\n",
      "       [nan, nan, nan, ..., nan, nan, nan],\n",
      "       [nan, nan, nan, ..., nan, nan, nan],\n",
      "       ...,\n",
      "       [nan, nan, nan, ..., nan, nan, nan],\n",
      "       [nan, nan, nan, ..., nan, nan, nan],\n",
      "       [nan, nan, nan, ..., nan, nan, nan]]), array([[nan, nan, nan, ..., nan, nan, nan],\n",
      "       [nan, nan, nan, ..., nan, nan, nan],\n",
      "       [nan, nan, nan, ..., nan, nan, nan],\n",
      "       ...,\n",
      "       [nan, nan, nan, ..., nan, nan, nan],\n",
      "       [nan, nan, nan, ..., nan, nan, nan],\n",
      "       [nan, nan, nan, ..., nan, nan, nan]]), array([[nan, nan, nan, ..., nan, nan, nan],\n",
      "       [nan, nan, nan, ..., nan, nan, nan],\n",
      "       [nan, nan, nan, ..., nan, nan, nan],\n",
      "       ...,\n",
      "       [nan, nan, nan, ..., nan, nan, nan],\n",
      "       [nan, nan, nan, ..., nan, nan, nan],\n",
      "       [nan, nan, nan, ..., nan, nan, nan]]), array([[nan, nan, nan, ..., nan, nan, nan],\n",
      "       [nan, nan, nan, ..., nan, nan, nan],\n",
      "       [nan, nan, nan, ..., nan, nan, nan],\n",
      "       ...,\n",
      "       [nan, nan, nan, ..., nan, nan, nan],\n",
      "       [nan, nan, nan, ..., nan, nan, nan],\n",
      "       [nan, nan, nan, ..., nan, nan, nan]]), array([[nan, nan, nan, ..., nan, nan, nan],\n",
      "       [nan, nan, nan, ..., nan, nan, nan],\n",
      "       [nan, nan, nan, ..., nan, nan, nan],\n",
      "       ...,\n",
      "       [nan, nan, nan, ..., nan, nan, nan],\n",
      "       [nan, nan, nan, ..., nan, nan, nan],\n",
      "       [nan, nan, nan, ..., nan, nan, nan]])]\n",
      "[array([[nan, nan, nan, nan, nan],\n",
      "       [nan, nan, nan, nan, nan],\n",
      "       [nan, nan, nan, nan, nan],\n",
      "       ...,\n",
      "       [nan, nan, nan, nan, nan],\n",
      "       [nan, nan, nan, nan, nan],\n",
      "       [nan, nan, nan, nan, nan]]), array([[nan, nan, nan, nan, nan],\n",
      "       [nan, nan, nan, nan, nan],\n",
      "       [nan, nan, nan, nan, nan],\n",
      "       ...,\n",
      "       [nan, nan, nan, nan, nan],\n",
      "       [nan, nan, nan, nan, nan],\n",
      "       [nan, nan, nan, nan, nan]]), array([[nan, nan, nan, nan, nan],\n",
      "       [nan, nan, nan, nan, nan],\n",
      "       [nan, nan, nan, nan, nan],\n",
      "       ...,\n",
      "       [nan, nan, nan, nan, nan],\n",
      "       [nan, nan, nan, nan, nan],\n",
      "       [nan, nan, nan, nan, nan]]), array([[nan, nan, nan, nan, nan],\n",
      "       [nan, nan, nan, nan, nan],\n",
      "       [nan, nan, nan, nan, nan],\n",
      "       ...,\n",
      "       [nan, nan, nan, nan, nan],\n",
      "       [nan, nan, nan, nan, nan],\n",
      "       [nan, nan, nan, nan, nan]]), array([[nan, nan, nan, nan, nan],\n",
      "       [nan, nan, nan, nan, nan],\n",
      "       [nan, nan, nan, nan, nan],\n",
      "       ...,\n",
      "       [nan, nan, nan, nan, nan],\n",
      "       [nan, nan, nan, nan, nan],\n",
      "       [nan, nan, nan, nan, nan]]), array([[nan, nan, nan, nan, nan],\n",
      "       [nan, nan, nan, nan, nan],\n",
      "       [nan, nan, nan, nan, nan],\n",
      "       ...,\n",
      "       [nan, nan, nan, nan, nan],\n",
      "       [nan, nan, nan, nan, nan],\n",
      "       [nan, nan, nan, nan, nan]]), array([[nan, nan, nan, nan, nan],\n",
      "       [nan, nan, nan, nan, nan],\n",
      "       [nan, nan, nan, nan, nan],\n",
      "       ...,\n",
      "       [nan, nan, nan, nan, nan],\n",
      "       [nan, nan, nan, nan, nan],\n",
      "       [nan, nan, nan, nan, nan]]), array([[nan, nan, nan, nan, nan],\n",
      "       [nan, nan, nan, nan, nan],\n",
      "       [nan, nan, nan, nan, nan],\n",
      "       ...,\n",
      "       [nan, nan, nan, nan, nan],\n",
      "       [nan, nan, nan, nan, nan],\n",
      "       [nan, nan, nan, nan, nan]]), array([[nan, nan, nan, nan, nan],\n",
      "       [nan, nan, nan, nan, nan],\n",
      "       [nan, nan, nan, nan, nan],\n",
      "       ...,\n",
      "       [nan, nan, nan, nan, nan],\n",
      "       [nan, nan, nan, nan, nan],\n",
      "       [nan, nan, nan, nan, nan]]), array([[nan, nan, nan, nan, nan],\n",
      "       [nan, nan, nan, nan, nan],\n",
      "       [nan, nan, nan, nan, nan],\n",
      "       ...,\n",
      "       [nan, nan, nan, nan, nan],\n",
      "       [nan, nan, nan, nan, nan],\n",
      "       [nan, nan, nan, nan, nan]]), array([[nan, nan, nan, nan, nan],\n",
      "       [nan, nan, nan, nan, nan],\n",
      "       [nan, nan, nan, nan, nan],\n",
      "       ...,\n",
      "       [nan, nan, nan, nan, nan],\n",
      "       [nan, nan, nan, nan, nan],\n",
      "       [nan, nan, nan, nan, nan]]), array([[nan, nan, nan, nan, nan],\n",
      "       [nan, nan, nan, nan, nan],\n",
      "       [nan, nan, nan, nan, nan],\n",
      "       ...,\n",
      "       [nan, nan, nan, nan, nan],\n",
      "       [nan, nan, nan, nan, nan],\n",
      "       [nan, nan, nan, nan, nan]]), array([[nan, nan, nan, nan, nan],\n",
      "       [nan, nan, nan, nan, nan],\n",
      "       [nan, nan, nan, nan, nan],\n",
      "       ...,\n",
      "       [nan, nan, nan, nan, nan],\n",
      "       [nan, nan, nan, nan, nan],\n",
      "       [nan, nan, nan, nan, nan]]), array([[nan, nan, nan, nan, nan],\n",
      "       [nan, nan, nan, nan, nan],\n",
      "       [nan, nan, nan, nan, nan],\n",
      "       ...,\n",
      "       [nan, nan, nan, nan, nan],\n",
      "       [nan, nan, nan, nan, nan],\n",
      "       [nan, nan, nan, nan, nan]]), array([[nan, nan, nan, nan, nan],\n",
      "       [nan, nan, nan, nan, nan],\n",
      "       [nan, nan, nan, nan, nan],\n",
      "       ...,\n",
      "       [nan, nan, nan, nan, nan],\n",
      "       [nan, nan, nan, nan, nan],\n",
      "       [nan, nan, nan, nan, nan]]), array([[nan, nan, nan, nan, nan],\n",
      "       [nan, nan, nan, nan, nan],\n",
      "       [nan, nan, nan, nan, nan],\n",
      "       ...,\n",
      "       [nan, nan, nan, nan, nan],\n",
      "       [nan, nan, nan, nan, nan],\n",
      "       [nan, nan, nan, nan, nan]]), array([[nan, nan, nan, nan, nan],\n",
      "       [nan, nan, nan, nan, nan],\n",
      "       [nan, nan, nan, nan, nan],\n",
      "       ...,\n",
      "       [nan, nan, nan, nan, nan],\n",
      "       [nan, nan, nan, nan, nan],\n",
      "       [nan, nan, nan, nan, nan]]), array([[nan, nan, nan, nan, nan],\n",
      "       [nan, nan, nan, nan, nan],\n",
      "       [nan, nan, nan, nan, nan],\n",
      "       ...,\n",
      "       [nan, nan, nan, nan, nan],\n",
      "       [nan, nan, nan, nan, nan],\n",
      "       [nan, nan, nan, nan, nan]]), array([[nan, nan, nan, nan, nan],\n",
      "       [nan, nan, nan, nan, nan],\n",
      "       [nan, nan, nan, nan, nan],\n",
      "       ...,\n",
      "       [nan, nan, nan, nan, nan],\n",
      "       [nan, nan, nan, nan, nan],\n",
      "       [nan, nan, nan, nan, nan]]), array([[nan, nan, nan, nan, nan],\n",
      "       [nan, nan, nan, nan, nan],\n",
      "       [nan, nan, nan, nan, nan],\n",
      "       ...,\n",
      "       [nan, nan, nan, nan, nan],\n",
      "       [nan, nan, nan, nan, nan],\n",
      "       [nan, nan, nan, nan, nan]]), array([[nan, nan, nan, nan, nan],\n",
      "       [nan, nan, nan, nan, nan],\n",
      "       [nan, nan, nan, nan, nan],\n",
      "       ...,\n",
      "       [nan, nan, nan, nan, nan],\n",
      "       [nan, nan, nan, nan, nan],\n",
      "       [nan, nan, nan, nan, nan]]), array([[nan, nan, nan, nan, nan],\n",
      "       [nan, nan, nan, nan, nan],\n",
      "       [nan, nan, nan, nan, nan],\n",
      "       ...,\n",
      "       [nan, nan, nan, nan, nan],\n",
      "       [nan, nan, nan, nan, nan],\n",
      "       [nan, nan, nan, nan, nan]]), array([[nan, nan, nan, nan, nan],\n",
      "       [nan, nan, nan, nan, nan],\n",
      "       [nan, nan, nan, nan, nan],\n",
      "       ...,\n",
      "       [nan, nan, nan, nan, nan],\n",
      "       [nan, nan, nan, nan, nan],\n",
      "       [nan, nan, nan, nan, nan]]), array([[nan, nan, nan, nan, nan],\n",
      "       [nan, nan, nan, nan, nan],\n",
      "       [nan, nan, nan, nan, nan],\n",
      "       ...,\n",
      "       [nan, nan, nan, nan, nan],\n",
      "       [nan, nan, nan, nan, nan],\n",
      "       [nan, nan, nan, nan, nan]]), array([[nan, nan, nan, nan, nan],\n",
      "       [nan, nan, nan, nan, nan],\n",
      "       [nan, nan, nan, nan, nan],\n",
      "       ...,\n",
      "       [nan, nan, nan, nan, nan],\n",
      "       [nan, nan, nan, nan, nan],\n",
      "       [nan, nan, nan, nan, nan]]), array([[nan, nan, nan, nan, nan],\n",
      "       [nan, nan, nan, nan, nan],\n",
      "       [nan, nan, nan, nan, nan],\n",
      "       ...,\n",
      "       [nan, nan, nan, nan, nan],\n",
      "       [nan, nan, nan, nan, nan],\n",
      "       [nan, nan, nan, nan, nan]]), array([[nan, nan, nan, nan, nan],\n",
      "       [nan, nan, nan, nan, nan],\n",
      "       [nan, nan, nan, nan, nan],\n",
      "       ...,\n",
      "       [nan, nan, nan, nan, nan],\n",
      "       [nan, nan, nan, nan, nan],\n",
      "       [nan, nan, nan, nan, nan]]), array([[nan, nan, nan, nan, nan],\n",
      "       [nan, nan, nan, nan, nan],\n",
      "       [nan, nan, nan, nan, nan],\n",
      "       ...,\n",
      "       [nan, nan, nan, nan, nan],\n",
      "       [nan, nan, nan, nan, nan],\n",
      "       [nan, nan, nan, nan, nan]]), array([[nan, nan, nan, nan, nan],\n",
      "       [nan, nan, nan, nan, nan],\n",
      "       [nan, nan, nan, nan, nan],\n",
      "       ...,\n",
      "       [nan, nan, nan, nan, nan],\n",
      "       [nan, nan, nan, nan, nan],\n",
      "       [nan, nan, nan, nan, nan]]), array([[nan, nan, nan, nan, nan],\n",
      "       [nan, nan, nan, nan, nan],\n",
      "       [nan, nan, nan, nan, nan],\n",
      "       ...,\n",
      "       [nan, nan, nan, nan, nan],\n",
      "       [nan, nan, nan, nan, nan],\n",
      "       [nan, nan, nan, nan, nan]]), array([[nan, nan, nan, nan, nan],\n",
      "       [nan, nan, nan, nan, nan],\n",
      "       [nan, nan, nan, nan, nan],\n",
      "       ...,\n",
      "       [nan, nan, nan, nan, nan],\n",
      "       [nan, nan, nan, nan, nan],\n",
      "       [nan, nan, nan, nan, nan]]), array([[nan, nan, nan, nan, nan],\n",
      "       [nan, nan, nan, nan, nan],\n",
      "       [nan, nan, nan, nan, nan],\n",
      "       ...,\n",
      "       [nan, nan, nan, nan, nan],\n",
      "       [nan, nan, nan, nan, nan],\n",
      "       [nan, nan, nan, nan, nan]]), array([[nan, nan, nan, nan, nan],\n",
      "       [nan, nan, nan, nan, nan],\n",
      "       [nan, nan, nan, nan, nan],\n",
      "       ...,\n",
      "       [nan, nan, nan, nan, nan],\n",
      "       [nan, nan, nan, nan, nan],\n",
      "       [nan, nan, nan, nan, nan]]), array([[nan, nan, nan, nan, nan],\n",
      "       [nan, nan, nan, nan, nan],\n",
      "       [nan, nan, nan, nan, nan],\n",
      "       ...,\n",
      "       [nan, nan, nan, nan, nan],\n",
      "       [nan, nan, nan, nan, nan],\n",
      "       [nan, nan, nan, nan, nan]]), array([[nan, nan, nan, nan, nan],\n",
      "       [nan, nan, nan, nan, nan],\n",
      "       [nan, nan, nan, nan, nan],\n",
      "       ...,\n",
      "       [nan, nan, nan, nan, nan],\n",
      "       [nan, nan, nan, nan, nan],\n",
      "       [nan, nan, nan, nan, nan]]), array([[nan, nan, nan, nan, nan],\n",
      "       [nan, nan, nan, nan, nan],\n",
      "       [nan, nan, nan, nan, nan],\n",
      "       ...,\n",
      "       [nan, nan, nan, nan, nan],\n",
      "       [nan, nan, nan, nan, nan],\n",
      "       [nan, nan, nan, nan, nan]]), array([[nan, nan, nan, nan, nan],\n",
      "       [nan, nan, nan, nan, nan],\n",
      "       [nan, nan, nan, nan, nan],\n",
      "       ...,\n",
      "       [nan, nan, nan, nan, nan],\n",
      "       [nan, nan, nan, nan, nan],\n",
      "       [nan, nan, nan, nan, nan]]), array([[nan, nan, nan, nan, nan],\n",
      "       [nan, nan, nan, nan, nan],\n",
      "       [nan, nan, nan, nan, nan],\n",
      "       ...,\n",
      "       [nan, nan, nan, nan, nan],\n",
      "       [nan, nan, nan, nan, nan],\n",
      "       [nan, nan, nan, nan, nan]]), array([[nan, nan, nan, nan, nan],\n",
      "       [nan, nan, nan, nan, nan],\n",
      "       [nan, nan, nan, nan, nan],\n",
      "       ...,\n",
      "       [nan, nan, nan, nan, nan],\n",
      "       [nan, nan, nan, nan, nan],\n",
      "       [nan, nan, nan, nan, nan]]), array([[nan, nan, nan, nan, nan],\n",
      "       [nan, nan, nan, nan, nan],\n",
      "       [nan, nan, nan, nan, nan],\n",
      "       ...,\n",
      "       [nan, nan, nan, nan, nan],\n",
      "       [nan, nan, nan, nan, nan],\n",
      "       [nan, nan, nan, nan, nan]]), array([[nan, nan, nan, nan, nan],\n",
      "       [nan, nan, nan, nan, nan],\n",
      "       [nan, nan, nan, nan, nan],\n",
      "       ...,\n",
      "       [nan, nan, nan, nan, nan],\n",
      "       [nan, nan, nan, nan, nan],\n",
      "       [nan, nan, nan, nan, nan]]), array([[nan, nan, nan, nan, nan],\n",
      "       [nan, nan, nan, nan, nan],\n",
      "       [nan, nan, nan, nan, nan],\n",
      "       ...,\n",
      "       [nan, nan, nan, nan, nan],\n",
      "       [nan, nan, nan, nan, nan],\n",
      "       [nan, nan, nan, nan, nan]]), array([[nan, nan, nan, nan, nan],\n",
      "       [nan, nan, nan, nan, nan],\n",
      "       [nan, nan, nan, nan, nan],\n",
      "       ...,\n",
      "       [nan, nan, nan, nan, nan],\n",
      "       [nan, nan, nan, nan, nan],\n",
      "       [nan, nan, nan, nan, nan]]), array([[nan, nan, nan, nan, nan],\n",
      "       [nan, nan, nan, nan, nan],\n",
      "       [nan, nan, nan, nan, nan],\n",
      "       ...,\n",
      "       [nan, nan, nan, nan, nan],\n",
      "       [nan, nan, nan, nan, nan],\n",
      "       [nan, nan, nan, nan, nan]]), array([[nan, nan, nan, nan, nan],\n",
      "       [nan, nan, nan, nan, nan],\n",
      "       [nan, nan, nan, nan, nan],\n",
      "       ...,\n",
      "       [nan, nan, nan, nan, nan],\n",
      "       [nan, nan, nan, nan, nan],\n",
      "       [nan, nan, nan, nan, nan]]), array([[nan, nan, nan, nan, nan],\n",
      "       [nan, nan, nan, nan, nan],\n",
      "       [nan, nan, nan, nan, nan],\n",
      "       ...,\n",
      "       [nan, nan, nan, nan, nan],\n",
      "       [nan, nan, nan, nan, nan],\n",
      "       [nan, nan, nan, nan, nan]]), array([[nan, nan, nan, nan, nan],\n",
      "       [nan, nan, nan, nan, nan],\n",
      "       [nan, nan, nan, nan, nan],\n",
      "       ...,\n",
      "       [nan, nan, nan, nan, nan],\n",
      "       [nan, nan, nan, nan, nan],\n",
      "       [nan, nan, nan, nan, nan]]), array([[nan, nan, nan, nan, nan],\n",
      "       [nan, nan, nan, nan, nan],\n",
      "       [nan, nan, nan, nan, nan],\n",
      "       ...,\n",
      "       [nan, nan, nan, nan, nan],\n",
      "       [nan, nan, nan, nan, nan],\n",
      "       [nan, nan, nan, nan, nan]]), array([[nan, nan, nan, nan, nan],\n",
      "       [nan, nan, nan, nan, nan],\n",
      "       [nan, nan, nan, nan, nan],\n",
      "       ...,\n",
      "       [nan, nan, nan, nan, nan],\n",
      "       [nan, nan, nan, nan, nan],\n",
      "       [nan, nan, nan, nan, nan]]), array([[nan, nan, nan, nan, nan],\n",
      "       [nan, nan, nan, nan, nan],\n",
      "       [nan, nan, nan, nan, nan],\n",
      "       ...,\n",
      "       [nan, nan, nan, nan, nan],\n",
      "       [nan, nan, nan, nan, nan],\n",
      "       [nan, nan, nan, nan, nan]]), array([[nan, nan, nan, nan, nan],\n",
      "       [nan, nan, nan, nan, nan],\n",
      "       [nan, nan, nan, nan, nan],\n",
      "       ...,\n",
      "       [nan, nan, nan, nan, nan],\n",
      "       [nan, nan, nan, nan, nan],\n",
      "       [nan, nan, nan, nan, nan]])]\n"
     ]
    }
   ],
   "source": [
    "features_extended = []\n",
    "labels_extended = []\n",
    "for i in range(n_samples):\n",
    "  features_extended.append(np.full((n_time_steps, n_features), np.NaN))\n",
    "  labels_extended.append(np.full((n_time_steps, n_labels), np.NaN))\n",
    "\n",
    "print(features_extended)\n",
    "print(labels_extended)"
   ]
  },
  {
   "cell_type": "code",
   "execution_count": 63,
   "metadata": {
    "colab": {
     "base_uri": "https://localhost:8080/"
    },
    "executionInfo": {
     "elapsed": 2674,
     "status": "ok",
     "timestamp": 1617736414920,
     "user": {
      "displayName": "Garold Murdachaew",
      "photoUrl": "",
      "userId": "10767911817898383988"
     },
     "user_tz": -180
    },
    "id": "ygmor4-IEMzK",
    "outputId": "0968678c-0269-4b4e-ae2f-ce4460ec2731"
   },
   "outputs": [
    {
     "data": {
      "text/plain": [
       "array([[nan, nan, nan, ..., nan, nan, nan],\n",
       "       [nan, nan, nan, ..., nan, nan, nan],\n",
       "       [nan, nan, nan, ..., nan, nan, nan],\n",
       "       ...,\n",
       "       [nan, nan, nan, ..., nan, nan, nan],\n",
       "       [nan, nan, nan, ..., nan, nan, nan],\n",
       "       [nan, nan, nan, ..., nan, nan, nan]])"
      ]
     },
     "execution_count": 63,
     "metadata": {
      "tags": []
     },
     "output_type": "execute_result"
    }
   ],
   "source": [
    "features_extended[0]"
   ]
  },
  {
   "cell_type": "code",
   "execution_count": 64,
   "metadata": {
    "colab": {
     "base_uri": "https://localhost:8080/"
    },
    "executionInfo": {
     "elapsed": 2653,
     "status": "ok",
     "timestamp": 1617736414922,
     "user": {
      "displayName": "Garold Murdachaew",
      "photoUrl": "",
      "userId": "10767911817898383988"
     },
     "user_tz": -180
    },
    "id": "FCAgqXvhEQTY",
    "outputId": "1a6ee494-fd75-4c54-e966-b316f25dbcc1"
   },
   "outputs": [
    {
     "data": {
      "text/plain": [
       "array([[nan, nan, nan, nan, nan],\n",
       "       [nan, nan, nan, nan, nan],\n",
       "       [nan, nan, nan, nan, nan],\n",
       "       ...,\n",
       "       [nan, nan, nan, nan, nan],\n",
       "       [nan, nan, nan, nan, nan],\n",
       "       [nan, nan, nan, nan, nan]])"
      ]
     },
     "execution_count": 64,
     "metadata": {
      "tags": []
     },
     "output_type": "execute_result"
    }
   ],
   "source": [
    "labels_extended[0]"
   ]
  },
  {
   "cell_type": "markdown",
   "metadata": {
    "id": "hWEugLzj2yEO"
   },
   "source": [
    "Instead of imputing mean for the missing rows (nan values), use the last non-nan row; this intuitively seems more proper to avoid an unphysical sudden change in a feature or label."
   ]
  },
  {
   "cell_type": "code",
   "execution_count": 65,
   "metadata": {
    "executionInfo": {
     "elapsed": 3207,
     "status": "ok",
     "timestamp": 1617736415498,
     "user": {
      "displayName": "Garold Murdachaew",
      "photoUrl": "",
      "userId": "10767911817898383988"
     },
     "user_tz": -180
    },
    "id": "a5I7zWRJup3D"
   },
   "outputs": [],
   "source": [
    "\n",
    "#for i in range(n_samples):\n",
    "#  features_extended[i] = np.where(np.isnan(features_extended[i]), np.ma.array(features_extended[i], mask=np.isnan(features_extended[i])).mean(axis=0), features_extended[i])\n",
    "\n",
    "#for i in range(n_samples):\n",
    "#  labels_extended[i] = np.where(np.isnan(labels_extended[i]), np.ma.array(labels_extended[i], mask=np.isnan(labels_extended[i])).mean(axis=0), labels_extended[i])\n",
    "\n",
    "for i in range(n_samples):\n",
    "  for j in range(features[i].shape[0]):\n",
    "      features_extended[i][j,:] = features[i][j,:]\n",
    "      labels_extended[i][j,:] = labels[i][j,:]\n",
    "  for j in range(features[i].shape[0], features_extended[i].shape[0]):\n",
    "    features_extended[i][j,:] = features[i][-1,:]\n",
    "    labels_extended[i][j,:] = labels[i][-1,:]"
   ]
  },
  {
   "cell_type": "code",
   "execution_count": 66,
   "metadata": {
    "colab": {
     "base_uri": "https://localhost:8080/"
    },
    "executionInfo": {
     "elapsed": 3190,
     "status": "ok",
     "timestamp": 1617736415501,
     "user": {
      "displayName": "Garold Murdachaew",
      "photoUrl": "",
      "userId": "10767911817898383988"
     },
     "user_tz": -180
    },
    "id": "MYfRXXMRxmb8",
    "outputId": "8984c8de-789f-4e60-f8f5-1e0cb82b7522"
   },
   "outputs": [
    {
     "data": {
      "text/plain": [
       "array([[341., 347., 341., ..., 289., 319., 253.],\n",
       "       [341., 347., 341., ..., 289., 319., 253.],\n",
       "       [341., 348., 341., ..., 289., 320., 253.],\n",
       "       ...,\n",
       "       [353., 366., 352., ..., 297., 329., 253.],\n",
       "       [353., 366., 352., ..., 297., 329., 253.],\n",
       "       [353., 366., 352., ..., 297., 329., 253.]])"
      ]
     },
     "execution_count": 66,
     "metadata": {
      "tags": []
     },
     "output_type": "execute_result"
    }
   ],
   "source": [
    "features_extended[0]"
   ]
  },
  {
   "cell_type": "code",
   "execution_count": 67,
   "metadata": {
    "colab": {
     "base_uri": "https://localhost:8080/"
    },
    "executionInfo": {
     "elapsed": 3155,
     "status": "ok",
     "timestamp": 1617736415504,
     "user": {
      "displayName": "Garold Murdachaew",
      "photoUrl": "",
      "userId": "10767911817898383988"
     },
     "user_tz": -180
    },
    "id": "SozLPDnjEY_F",
    "outputId": "27689544-3e9c-4c3c-9fbd-9bd24f6b4439"
   },
   "outputs": [
    {
     "data": {
      "text/plain": [
       "array([[341., 351., 344., ..., 289., 326., 249.],\n",
       "       [343., 351., 344., ..., 289., 326., 250.],\n",
       "       [343., 352., 345., ..., 289., 326., 250.],\n",
       "       ...,\n",
       "       [347., 354., 342., ..., 292., 328., 250.],\n",
       "       [347., 354., 341., ..., 292., 327., 250.],\n",
       "       [348., 354., 341., ..., 292., 327., 251.]])"
      ]
     },
     "execution_count": 67,
     "metadata": {
      "tags": []
     },
     "output_type": "execute_result"
    }
   ],
   "source": [
    "features_extended[6]"
   ]
  },
  {
   "cell_type": "code",
   "execution_count": 68,
   "metadata": {
    "colab": {
     "base_uri": "https://localhost:8080/"
    },
    "executionInfo": {
     "elapsed": 3135,
     "status": "ok",
     "timestamp": 1617736415508,
     "user": {
      "displayName": "Garold Murdachaew",
      "photoUrl": "",
      "userId": "10767911817898383988"
     },
     "user_tz": -180
    },
    "id": "n_yirQpDy_tP",
    "outputId": "9f541727-fe56-4262-e062-75746e4c8fa5"
   },
   "outputs": [
    {
     "data": {
      "text/plain": [
       "array([[ 0.22357153,  0.99496208,  0.9940664 ,  0.99074757,  0.91400573],\n",
       "       [ 0.41729854,  0.966014  ,  0.9855725 ,  0.98592047,  0.95746513],\n",
       "       [ 0.48011878,  0.96245373,  0.97715618,  0.98331914,  0.96457863],\n",
       "       ...,\n",
       "       [ 0.66263708, -0.01864924,  0.97818341,  0.99152175,  0.97322957],\n",
       "       [ 0.66263708, -0.01864924,  0.97818341,  0.99152175,  0.97322957],\n",
       "       [ 0.66263708, -0.01864924,  0.97818341,  0.99152175,  0.97322957]])"
      ]
     },
     "execution_count": 68,
     "metadata": {
      "tags": []
     },
     "output_type": "execute_result"
    }
   ],
   "source": [
    "labels_extended[0]"
   ]
  },
  {
   "cell_type": "code",
   "execution_count": 69,
   "metadata": {
    "colab": {
     "base_uri": "https://localhost:8080/"
    },
    "executionInfo": {
     "elapsed": 3107,
     "status": "ok",
     "timestamp": 1617736415510,
     "user": {
      "displayName": "Garold Murdachaew",
      "photoUrl": "",
      "userId": "10767911817898383988"
     },
     "user_tz": -180
    },
    "id": "_YebPebFDjRK",
    "outputId": "0372818d-96b7-4811-ab65-1a1286933cef"
   },
   "outputs": [
    {
     "data": {
      "text/plain": [
       "array([[0.43893767, 0.92950599, 0.96534301, 0.98771034, 0.97779767],\n",
       "       [0.43861785, 0.93203866, 0.96526262, 0.98699533, 0.97795311],\n",
       "       [0.44241947, 0.9371996 , 0.96759891, 0.98651075, 0.97713577],\n",
       "       ...,\n",
       "       [0.50392182, 0.95871953, 0.97180332, 0.96983296, 0.96772247],\n",
       "       [0.50635417, 0.96951422, 0.97576246, 0.97381956, 0.9723318 ],\n",
       "       [0.51060372, 0.97616196, 0.97973472, 0.97788348, 0.9745093 ]])"
      ]
     },
     "execution_count": 69,
     "metadata": {
      "tags": []
     },
     "output_type": "execute_result"
    }
   ],
   "source": [
    "labels_extended[6]"
   ]
  },
  {
   "cell_type": "code",
   "execution_count": 70,
   "metadata": {
    "colab": {
     "base_uri": "https://localhost:8080/"
    },
    "executionInfo": {
     "elapsed": 3071,
     "status": "ok",
     "timestamp": 1617736415512,
     "user": {
      "displayName": "Garold Murdachaew",
      "photoUrl": "",
      "userId": "10767911817898383988"
     },
     "user_tz": -180
    },
    "id": "gUY8y1SoNA7t",
    "outputId": "d8fe9979-bba1-4809-9e6c-82bb99c946d4"
   },
   "outputs": [
    {
     "name": "stdout",
     "output_type": "stream",
     "text": [
      "(51, 5000, 30)\n"
     ]
    }
   ],
   "source": [
    "X = np.array(features_extended)\n",
    "print(X.shape)\n",
    "#X = np.vstack(X)\n",
    "#print(X.shape)"
   ]
  },
  {
   "cell_type": "code",
   "execution_count": 71,
   "metadata": {
    "colab": {
     "base_uri": "https://localhost:8080/"
    },
    "executionInfo": {
     "elapsed": 3036,
     "status": "ok",
     "timestamp": 1617736415514,
     "user": {
      "displayName": "Garold Murdachaew",
      "photoUrl": "",
      "userId": "10767911817898383988"
     },
     "user_tz": -180
    },
    "id": "syikXsyBMl5H",
    "outputId": "56258967-c94f-4465-fb93-dc6636398a98"
   },
   "outputs": [
    {
     "data": {
      "text/plain": [
       "(0.08300781, 0.41796875, 0.2788339, 0.055174924)"
      ]
     },
     "execution_count": 71,
     "metadata": {
      "tags": []
     },
     "output_type": "execute_result"
    }
   ],
   "source": [
    "# Normalize data to have feature values between 0 and 1:\n",
    "# divide by max possible feature value (1024 = 10-bit resolution)\n",
    "# Can also save memory by reducing resolution to 4 bytes\n",
    "X = X.astype('float32') / 1024.0 # below will also use StandardScaler, will train on train set, better for NN applications\n",
    "np.min(X), np.max(X), np.mean(X), np.std(X)"
   ]
  },
  {
   "cell_type": "code",
   "execution_count": 72,
   "metadata": {
    "colab": {
     "base_uri": "https://localhost:8080/"
    },
    "executionInfo": {
     "elapsed": 3001,
     "status": "ok",
     "timestamp": 1617736415517,
     "user": {
      "displayName": "Garold Murdachaew",
      "photoUrl": "",
      "userId": "10767911817898383988"
     },
     "user_tz": -180
    },
    "id": "ePvr8lI1MmjV",
    "outputId": "0723a727-8caf-4baf-948d-f9c50058d7c6"
   },
   "outputs": [
    {
     "name": "stdout",
     "output_type": "stream",
     "text": [
      "(51, 5000, 5)\n"
     ]
    }
   ],
   "source": [
    "y = np.array(labels_extended)\n",
    "print(y.shape)\n",
    "#y = np.vstack(y)\n",
    "#print(y.shape)"
   ]
  },
  {
   "cell_type": "code",
   "execution_count": 73,
   "metadata": {
    "colab": {
     "base_uri": "https://localhost:8080/"
    },
    "executionInfo": {
     "elapsed": 2969,
     "status": "ok",
     "timestamp": 1617736415519,
     "user": {
      "displayName": "Garold Murdachaew",
      "photoUrl": "",
      "userId": "10767911817898383988"
     },
     "user_tz": -180
    },
    "id": "ViafQ2iRNOsh",
    "outputId": "29bc7b60-2660-4f76-e5f8-879258eebfbc"
   },
   "outputs": [
    {
     "data": {
      "text/plain": [
       "(-0.85305923, 0.9999999, 0.4763818, 0.61013037)"
      ]
     },
     "execution_count": 73,
     "metadata": {
      "tags": []
     },
     "output_type": "execute_result"
    }
   ],
   "source": [
    "# Can also safely reduce resolution of the labels to 4 bytes\n",
    "y = y.astype('float32')\n",
    "np.min(y), np.max(y), np.mean(y), np.std(y)"
   ]
  },
  {
   "cell_type": "code",
   "execution_count": 74,
   "metadata": {
    "colab": {
     "base_uri": "https://localhost:8080/"
    },
    "executionInfo": {
     "elapsed": 2938,
     "status": "ok",
     "timestamp": 1617736415521,
     "user": {
      "displayName": "Garold Murdachaew",
      "photoUrl": "",
      "userId": "10767911817898383988"
     },
     "user_tz": -180
    },
    "id": "h0dVim9OMllT",
    "outputId": "35d74694-ecdc-4aa7-f0be-ec8f0128de89"
   },
   "outputs": [
    {
     "name": "stdout",
     "output_type": "stream",
     "text": [
      "(51, 5000, 30)\n",
      "(51, 5000, 5)\n"
     ]
    }
   ],
   "source": [
    "print(X.shape)\n",
    "print(y.shape)"
   ]
  },
  {
   "cell_type": "code",
   "execution_count": 75,
   "metadata": {
    "colab": {
     "base_uri": "https://localhost:8080/"
    },
    "executionInfo": {
     "elapsed": 2907,
     "status": "ok",
     "timestamp": 1617736415524,
     "user": {
      "displayName": "Garold Murdachaew",
      "photoUrl": "",
      "userId": "10767911817898383988"
     },
     "user_tz": -180
    },
    "id": "Jp318hjxMVu7",
    "outputId": "d549c808-903b-4eeb-b07d-4a2c86d8c453"
   },
   "outputs": [
    {
     "name": "stdout",
     "output_type": "stream",
     "text": [
      "51\n",
      "51\n",
      "35\n",
      "16\n",
      "8\n",
      "8\n",
      "(51, 5000, 30) (51, 5000, 5)\n",
      "(35, 5000, 30) (35, 5000, 5) (16, 5000, 30) (16, 5000, 5)\n",
      "(8, 5000, 30) (8, 5000, 5) (8, 5000, 30) (8, 5000, 5)\n"
     ]
    }
   ],
   "source": [
    "# same splitting percentages:\n",
    "# train/valid_test split = 70%/30%, valid/test split = 50%/50%\n",
    "# Therefore, train/valid/test split = 70%/15%/15%\n",
    "\n",
    "# perhaps should not use this for such time series data, but the splitting code below leads to problems in the NN fits \n",
    "# X_train, X_valid_test, y_train, y_valid_test = train_test_split(X, y, test_size=0.30, random_state=42)\n",
    "# X_valid, X_test, y_valid, y_test = train_test_split(X_valid_test, y_valid_test, test_size=0.50, random_state=42)\n",
    "\n",
    "###\n",
    "\n",
    "# Preserve the time information!!!\n",
    "\n",
    "# The splitting code below leads to problems in the NN fits so dont use it (maybe only with RNNs)\n",
    "# Be careful in splitting time series data: using train_test_split will randomly reorder the data\n",
    "# The simple code here does the same split without reordering any data\n",
    "# train / validate / test split = first 70% / next 15% / last 15%\n",
    "\n",
    "print(n_samples)\n",
    "n_samples = X.shape[0]\n",
    "print(n_samples)\n",
    "n_samples_train = int(X.shape[0]*0.70)\n",
    "print(n_samples_train)\n",
    "\n",
    "X_train = X[:n_samples_train]\n",
    "X_valid_test = X[n_samples_train:]\n",
    "y_train = y[:n_samples_train]\n",
    "y_valid_test = y[n_samples_train:]\n",
    "\n",
    "n_samples_valid_test = X_valid_test.shape[0]\n",
    "print(n_samples_valid_test)\n",
    "n_samples_valid = int(X_valid_test.shape[0]*0.50)\n",
    "n_samples_test = int(X_valid_test.shape[0]*0.50)\n",
    "print(n_samples_valid)\n",
    "print(n_samples_test)\n",
    "X_valid = X_valid_test[:int(X_valid_test.shape[0]*0.50)]\n",
    "X_test = X_valid_test[int(X_valid_test.shape[0]*0.50):]\n",
    "y_valid = y_valid_test[:int(X_valid_test.shape[0]*0.50)]\n",
    "y_test = y_valid_test[int(X_valid_test.shape[0]*0.50):]\n",
    "\n",
    "# or can use this:\n",
    "\n",
    "from sklearn.model_selection import train_test_split\n",
    "from sklearn.metrics import mean_squared_error, mean_absolute_error\n",
    "\n",
    "# Preserve the time information by using shuffle=False\n",
    "# X_train, X_valid_test, y_train, y_valid_test = train_test_split(X, y, test_size=0.30, shuffle=False)\n",
    "# X_valid, X_test, y_valid, y_test = train_test_split(X_valid_test, y_valid_test, test_size=0.50, shuffle=False)\n",
    "###\n",
    "\n",
    "print(X.shape, y.shape)\n",
    "print(X_train.shape, y_train.shape, X_valid_test.shape, y_valid_test.shape)\n",
    "print(X_valid.shape, y_valid.shape, X_test.shape, y_test.shape)"
   ]
  },
  {
   "cell_type": "code",
   "execution_count": 76,
   "metadata": {
    "colab": {
     "base_uri": "https://localhost:8080/"
    },
    "executionInfo": {
     "elapsed": 3580,
     "status": "ok",
     "timestamp": 1617736416234,
     "user": {
      "displayName": "Garold Murdachaew",
      "photoUrl": "",
      "userId": "10767911817898383988"
     },
     "user_tz": -180
    },
    "id": "JDw2FjhSiPmD",
    "outputId": "aee20f4a-a300-4c11-cedc-4f3839ced75c"
   },
   "outputs": [
    {
     "name": "stdout",
     "output_type": "stream",
     "text": [
      "(35, 5000, 30)\n",
      "(175000, 30)\n",
      "(16, 5000, 30)\n",
      "(80000, 30)\n",
      "(8, 5000, 30)\n",
      "(40000, 30)\n",
      "(8, 5000, 30)\n",
      "(40000, 30)\n",
      "\n",
      "(51, 5000, 30) (51, 5000, 5)\n",
      "(175000, 1, 30) (175000, 5) (80000, 1, 30) (80000, 5)\n",
      "(40000, 1, 30) (40000, 5) (40000, 1, 30) (40000, 5)\n",
      "\n"
     ]
    }
   ],
   "source": [
    "from sklearn.preprocessing import StandardScaler\n",
    "scaler = StandardScaler()\n",
    "\n",
    "# scaler only operates on 2d arrays so first transform to 2d, then scale, then transform back to 3d\n",
    "\n",
    "# transform to 2d\n",
    "\n",
    "print(X_train.shape)\n",
    "X_train = np.vstack(X_train)\n",
    "print(X_train.shape)\n",
    "\n",
    "print(X_valid_test.shape)\n",
    "X_valid_test = np.vstack(X_valid_test)\n",
    "print(X_valid_test.shape)\n",
    "\n",
    "print(X_valid.shape)\n",
    "X_valid = np.vstack(X_valid)\n",
    "print(X_valid.shape)\n",
    "\n",
    "print(X_test.shape)\n",
    "X_test = np.vstack(X_test)\n",
    "print(X_test.shape)\n",
    "\n",
    "print()\n",
    "\n",
    "# train the scaler on train data only, then apply to all arrays (to prevent data leakage)\n",
    "\n",
    "### from sklearn.preprocessing import MinMaxScaler\n",
    "### scaler = MinMaxScaler()\n",
    "\n",
    "X_train = scaler.fit_transform(X_train)\n",
    "X_valid_test = scaler.transform(X_valid_test)\n",
    "X_valid = scaler.transform(X_valid)\n",
    "X_test = scaler.transform(X_test)\n",
    "\n",
    "# X arrays: convert to the type of 3d arrays expected by LSTM: X_array(data_lines, time_steps_to_predict, n_features)\n",
    "\n",
    "time_steps_to_predict = 1\n",
    "\n",
    "X_train = X_train.reshape(n_samples_train*n_time_steps, time_steps_to_predict, n_features)\n",
    "X_valid_test = X_valid_test.reshape(n_samples_valid_test*n_time_steps, time_steps_to_predict, n_features)\n",
    "X_valid = X_valid.reshape(n_samples_valid*n_time_steps, time_steps_to_predict, n_features)\n",
    "X_test = X_test.reshape(n_samples_test*n_time_steps, time_steps_to_predict, n_features)\n",
    "\n",
    "# y arrays: convert to regular 2d arrays: y_array(data_lines, n_labels)\n",
    "\n",
    "y_train = y_train.reshape(n_samples_train*n_time_steps, n_labels)\n",
    "y_valid_test = y_valid_test.reshape(n_samples_valid_test*n_time_steps, n_labels)\n",
    "y_valid = y_valid.reshape(n_samples_valid*n_time_steps, n_labels)\n",
    "y_test = y_test.reshape(n_samples_test*n_time_steps, n_labels)\n",
    "\n",
    "print(X.shape, y.shape)\n",
    "print(X_train.shape, y_train.shape, X_valid_test.shape, y_valid_test.shape)\n",
    "print(X_valid.shape, y_valid.shape, X_test.shape, y_test.shape)\n",
    "\n",
    "print()"
   ]
  },
  {
   "cell_type": "code",
   "execution_count": 77,
   "metadata": {
    "colab": {
     "base_uri": "https://localhost:8080/"
    },
    "executionInfo": {
     "elapsed": 3546,
     "status": "ok",
     "timestamp": 1617736416241,
     "user": {
      "displayName": "Garold Murdachaew",
      "photoUrl": "",
      "userId": "10767911817898383988"
     },
     "user_tz": -180
    },
    "id": "RI5cUN8aNiLh",
    "outputId": "25235015-a27d-435f-90e5-62f169b9d218"
   },
   "outputs": [
    {
     "name": "stdout",
     "output_type": "stream",
     "text": [
      "2.4.1\n"
     ]
    }
   ],
   "source": [
    "import numpy as np\n",
    "import tensorflow as tf\n",
    "from tensorflow import keras\n",
    "from tensorflow.keras import layers\n",
    "\n",
    "#  tensorflow 2.0 library provides functions for deep neural networks \n",
    "import tensorflow\n",
    "print(tensorflow.__version__)\n",
    "\n",
    "from tensorflow.keras.layers import Input, Dense, Activation, Dropout\n",
    "from tensorflow.keras.models import Model\n",
    "from tensorflow.keras.utils import plot_model\n",
    "from tensorflow.keras import Sequential\n",
    "from tensorflow.keras.layers import Embedding, LSTM"
   ]
  },
  {
   "cell_type": "markdown",
   "metadata": {
    "id": "LLuOMTXh3U3l"
   },
   "source": [
    "**Model: LSTM (a default one suggested by keras) fit4a**"
   ]
  },
  {
   "cell_type": "code",
   "execution_count": 78,
   "metadata": {
    "colab": {
     "base_uri": "https://localhost:8080/"
    },
    "executionInfo": {
     "elapsed": 3503,
     "status": "ok",
     "timestamp": 1617736416246,
     "user": {
      "displayName": "Garold Murdachaew",
      "photoUrl": "",
      "userId": "10767911817898383988"
     },
     "user_tz": -180
    },
    "id": "qQ8tM_4uNpjq",
    "outputId": "abdc3acb-59ee-4ced-de0e-0f91e5433e7c"
   },
   "outputs": [
    {
     "name": "stdout",
     "output_type": "stream",
     "text": [
      "175000 1 30\n",
      "175000 5\n",
      "Model: \"sequential_11\"\n",
      "_________________________________________________________________\n",
      "Layer (type)                 Output Shape              Param #   \n",
      "=================================================================\n",
      "lstm_11 (LSTM)               (None, 128)               81408     \n",
      "_________________________________________________________________\n",
      "dense_11 (Dense)             (None, 5)                 645       \n",
      "=================================================================\n",
      "Total params: 82,053\n",
      "Trainable params: 82,053\n",
      "Non-trainable params: 0\n",
      "_________________________________________________________________\n"
     ]
    }
   ],
   "source": [
    "input_shape0, input_shape1, input_shape2 = X_train.shape[0], X_train.shape[1], X_train.shape[2]\n",
    "print(input_shape0, input_shape1, input_shape2)\n",
    "output_shape0, output_shape1 = y_train.shape[0], y_train.shape[1]\n",
    "print(output_shape0, output_shape1)\n",
    "\n",
    "model = Sequential()\n",
    "# Add a LSTM layer with 128 internal units.\n",
    "model.add(LSTM(128, input_shape=(X_train.shape[1], X_train.shape[2])))\n",
    "# Add a Dense layer with 5 units.\n",
    "model.add(Dense(y_train.shape[1], activation='linear'))\n",
    "\n",
    "model.summary()\n",
    "\n",
    "model.compile(loss='mean_squared_error', optimizer='adam', metrics=['mean_squared_error'])"
   ]
  },
  {
   "cell_type": "code",
   "execution_count": 79,
   "metadata": {
    "colab": {
     "base_uri": "https://localhost:8080/",
     "height": 312
    },
    "executionInfo": {
     "elapsed": 3452,
     "status": "ok",
     "timestamp": 1617736416270,
     "user": {
      "displayName": "Garold Murdachaew",
      "photoUrl": "",
      "userId": "10767911817898383988"
     },
     "user_tz": -180
    },
    "id": "TaSCL1yMRYCS",
    "outputId": "2ee2922b-0200-4140-cc73-650baf997a47"
   },
   "outputs": [
    {
     "data": {
      "image/png": "[encoded data removed]",
      "text/plain": [
       "<IPython.core.display.Image object>"
      ]
     },
     "execution_count": 79,
     "metadata": {
      "tags": []
     },
     "output_type": "execute_result"
    }
   ],
   "source": [
    "# plot the graph of the model and save to file\n",
    "plot_model(model, to_file='model4_lstm.png', show_shapes=True, show_layer_names=True)"
   ]
  },
  {
   "cell_type": "code",
   "execution_count": 80,
   "metadata": {
    "executionInfo": {
     "elapsed": 3425,
     "status": "ok",
     "timestamp": 1617736416283,
     "user": {
      "displayName": "Garold Murdachaew",
      "photoUrl": "",
      "userId": "10767911817898383988"
     },
     "user_tz": -180
    },
    "id": "vNcHahTuRfrH"
   },
   "outputs": [],
   "source": [
    "batch_size = 5000 # this is the time duration = 5000/(50 Hz) = 100 seconds, of each independent measurement \n",
    "epochs = 75"
   ]
  },
  {
   "cell_type": "code",
   "execution_count": 81,
   "metadata": {
    "colab": {
     "base_uri": "https://localhost:8080/"
    },
    "executionInfo": {
     "elapsed": 21039,
     "status": "ok",
     "timestamp": 1617736433932,
     "user": {
      "displayName": "Garold Murdachaew",
      "photoUrl": "",
      "userId": "10767911817898383988"
     },
     "user_tz": -180
    },
    "id": "NsF8is71Rjjq",
    "outputId": "72f4662a-7d44-4b0b-f516-f1e103249e5a"
   },
   "outputs": [
    {
     "name": "stdout",
     "output_type": "stream",
     "text": [
      "Epoch 1/75\n",
      "35/35 [==============================] - 2s 17ms/step - loss: 0.6003 - mean_squared_error: 0.6003 - val_loss: 0.2804 - val_mean_squared_error: 0.2804\n",
      "Epoch 2/75\n",
      "35/35 [==============================] - 0s 6ms/step - loss: 0.3614 - mean_squared_error: 0.3614 - val_loss: 0.5580 - val_mean_squared_error: 0.5580\n",
      "Epoch 3/75\n",
      "35/35 [==============================] - 0s 6ms/step - loss: 0.2699 - mean_squared_error: 0.2699 - val_loss: 0.3545 - val_mean_squared_error: 0.3545\n",
      "Epoch 4/75\n",
      "35/35 [==============================] - 0s 6ms/step - loss: 0.2067 - mean_squared_error: 0.2067 - val_loss: 0.2842 - val_mean_squared_error: 0.2842\n",
      "Epoch 5/75\n",
      "35/35 [==============================] - 0s 6ms/step - loss: 0.1687 - mean_squared_error: 0.1687 - val_loss: 0.2462 - val_mean_squared_error: 0.2462\n",
      "Epoch 6/75\n",
      "35/35 [==============================] - 0s 6ms/step - loss: 0.1456 - mean_squared_error: 0.1456 - val_loss: 0.2376 - val_mean_squared_error: 0.2376\n",
      "Epoch 7/75\n",
      "35/35 [==============================] - 0s 6ms/step - loss: 0.1344 - mean_squared_error: 0.1344 - val_loss: 0.2277 - val_mean_squared_error: 0.2277\n",
      "Epoch 8/75\n",
      "35/35 [==============================] - 0s 6ms/step - loss: 0.1253 - mean_squared_error: 0.1253 - val_loss: 0.2234 - val_mean_squared_error: 0.2234\n",
      "Epoch 9/75\n",
      "35/35 [==============================] - 0s 6ms/step - loss: 0.1230 - mean_squared_error: 0.1230 - val_loss: 0.2116 - val_mean_squared_error: 0.2116\n",
      "Epoch 10/75\n",
      "35/35 [==============================] - 0s 6ms/step - loss: 0.1175 - mean_squared_error: 0.1175 - val_loss: 0.2106 - val_mean_squared_error: 0.2106\n",
      "Epoch 11/75\n",
      "35/35 [==============================] - 0s 6ms/step - loss: 0.1168 - mean_squared_error: 0.1168 - val_loss: 0.2042 - val_mean_squared_error: 0.2042\n",
      "Epoch 12/75\n",
      "35/35 [==============================] - 0s 6ms/step - loss: 0.1117 - mean_squared_error: 0.1117 - val_loss: 0.2011 - val_mean_squared_error: 0.2011\n",
      "Epoch 13/75\n",
      "35/35 [==============================] - 0s 5ms/step - loss: 0.1119 - mean_squared_error: 0.1119 - val_loss: 0.2015 - val_mean_squared_error: 0.2015\n",
      "Epoch 14/75\n",
      "35/35 [==============================] - 0s 6ms/step - loss: 0.1070 - mean_squared_error: 0.1070 - val_loss: 0.2025 - val_mean_squared_error: 0.2025\n",
      "Epoch 15/75\n",
      "35/35 [==============================] - 0s 6ms/step - loss: 0.1069 - mean_squared_error: 0.1069 - val_loss: 0.2072 - val_mean_squared_error: 0.2072\n",
      "Epoch 16/75\n",
      "35/35 [==============================] - 0s 6ms/step - loss: 0.1028 - mean_squared_error: 0.1028 - val_loss: 0.2070 - val_mean_squared_error: 0.2070\n",
      "Epoch 17/75\n",
      "35/35 [==============================] - 0s 6ms/step - loss: 0.1037 - mean_squared_error: 0.1037 - val_loss: 0.2181 - val_mean_squared_error: 0.2181\n",
      "Epoch 18/75\n",
      "35/35 [==============================] - 0s 6ms/step - loss: 0.0997 - mean_squared_error: 0.0997 - val_loss: 0.2189 - val_mean_squared_error: 0.2189\n",
      "Epoch 19/75\n",
      "35/35 [==============================] - 0s 6ms/step - loss: 0.1006 - mean_squared_error: 0.1006 - val_loss: 0.2350 - val_mean_squared_error: 0.2350\n",
      "Epoch 20/75\n",
      "35/35 [==============================] - 0s 6ms/step - loss: 0.0976 - mean_squared_error: 0.0976 - val_loss: 0.2303 - val_mean_squared_error: 0.2303\n",
      "Epoch 21/75\n",
      "35/35 [==============================] - 0s 6ms/step - loss: 0.0995 - mean_squared_error: 0.0995 - val_loss: 0.2521 - val_mean_squared_error: 0.2521\n",
      "Epoch 22/75\n",
      "35/35 [==============================] - 0s 6ms/step - loss: 0.0958 - mean_squared_error: 0.0958 - val_loss: 0.2448 - val_mean_squared_error: 0.2448\n",
      "Epoch 23/75\n",
      "35/35 [==============================] - 0s 6ms/step - loss: 0.0980 - mean_squared_error: 0.0980 - val_loss: 0.2693 - val_mean_squared_error: 0.2693\n",
      "Epoch 24/75\n",
      "35/35 [==============================] - 0s 6ms/step - loss: 0.0938 - mean_squared_error: 0.0938 - val_loss: 0.2571 - val_mean_squared_error: 0.2571\n",
      "Epoch 25/75\n",
      "35/35 [==============================] - 0s 6ms/step - loss: 0.0953 - mean_squared_error: 0.0953 - val_loss: 0.2795 - val_mean_squared_error: 0.2795\n",
      "Epoch 26/75\n",
      "35/35 [==============================] - 0s 6ms/step - loss: 0.0907 - mean_squared_error: 0.0907 - val_loss: 0.2701 - val_mean_squared_error: 0.2701\n",
      "Epoch 27/75\n",
      "35/35 [==============================] - 0s 6ms/step - loss: 0.0918 - mean_squared_error: 0.0918 - val_loss: 0.2921 - val_mean_squared_error: 0.2921\n",
      "Epoch 28/75\n",
      "35/35 [==============================] - 0s 6ms/step - loss: 0.0878 - mean_squared_error: 0.0878 - val_loss: 0.2831 - val_mean_squared_error: 0.2831\n",
      "Epoch 29/75\n",
      "35/35 [==============================] - 0s 6ms/step - loss: 0.0883 - mean_squared_error: 0.0883 - val_loss: 0.3039 - val_mean_squared_error: 0.3039\n",
      "Epoch 30/75\n",
      "35/35 [==============================] - 0s 6ms/step - loss: 0.0855 - mean_squared_error: 0.0855 - val_loss: 0.2930 - val_mean_squared_error: 0.2930\n",
      "Epoch 31/75\n",
      "35/35 [==============================] - 0s 6ms/step - loss: 0.0861 - mean_squared_error: 0.0861 - val_loss: 0.3164 - val_mean_squared_error: 0.3164\n",
      "Epoch 32/75\n",
      "35/35 [==============================] - 0s 6ms/step - loss: 0.0835 - mean_squared_error: 0.0835 - val_loss: 0.3042 - val_mean_squared_error: 0.3042\n",
      "Epoch 33/75\n",
      "35/35 [==============================] - 0s 6ms/step - loss: 0.0840 - mean_squared_error: 0.0840 - val_loss: 0.3289 - val_mean_squared_error: 0.3289\n",
      "Epoch 34/75\n",
      "35/35 [==============================] - 0s 6ms/step - loss: 0.0820 - mean_squared_error: 0.0820 - val_loss: 0.3119 - val_mean_squared_error: 0.3119\n",
      "Epoch 35/75\n",
      "35/35 [==============================] - 0s 6ms/step - loss: 0.0829 - mean_squared_error: 0.0829 - val_loss: 0.3389 - val_mean_squared_error: 0.3389\n",
      "Epoch 36/75\n",
      "35/35 [==============================] - 0s 6ms/step - loss: 0.0807 - mean_squared_error: 0.0807 - val_loss: 0.3205 - val_mean_squared_error: 0.3205\n",
      "Epoch 37/75\n",
      "35/35 [==============================] - 0s 6ms/step - loss: 0.0816 - mean_squared_error: 0.0816 - val_loss: 0.3486 - val_mean_squared_error: 0.3486\n",
      "Epoch 38/75\n",
      "35/35 [==============================] - 0s 6ms/step - loss: 0.0794 - mean_squared_error: 0.0794 - val_loss: 0.3283 - val_mean_squared_error: 0.3283\n",
      "Epoch 39/75\n",
      "35/35 [==============================] - 0s 6ms/step - loss: 0.0804 - mean_squared_error: 0.0804 - val_loss: 0.3566 - val_mean_squared_error: 0.3566\n",
      "Epoch 40/75\n",
      "35/35 [==============================] - 0s 6ms/step - loss: 0.0779 - mean_squared_error: 0.0779 - val_loss: 0.3364 - val_mean_squared_error: 0.3364\n",
      "Epoch 41/75\n",
      "35/35 [==============================] - 0s 6ms/step - loss: 0.0787 - mean_squared_error: 0.0787 - val_loss: 0.3645 - val_mean_squared_error: 0.3645\n",
      "Epoch 42/75\n",
      "35/35 [==============================] - 0s 6ms/step - loss: 0.0761 - mean_squared_error: 0.0761 - val_loss: 0.3449 - val_mean_squared_error: 0.3449\n",
      "Epoch 43/75\n",
      "35/35 [==============================] - 0s 6ms/step - loss: 0.0767 - mean_squared_error: 0.0767 - val_loss: 0.3727 - val_mean_squared_error: 0.3727\n",
      "Epoch 44/75\n",
      "35/35 [==============================] - 0s 6ms/step - loss: 0.0743 - mean_squared_error: 0.0743 - val_loss: 0.3534 - val_mean_squared_error: 0.3534\n",
      "Epoch 45/75\n",
      "35/35 [==============================] - 0s 6ms/step - loss: 0.0748 - mean_squared_error: 0.0748 - val_loss: 0.3807 - val_mean_squared_error: 0.3807\n",
      "Epoch 46/75\n",
      "35/35 [==============================] - 0s 6ms/step - loss: 0.0726 - mean_squared_error: 0.0726 - val_loss: 0.3621 - val_mean_squared_error: 0.3621\n",
      "Epoch 47/75\n",
      "35/35 [==============================] - 0s 6ms/step - loss: 0.0730 - mean_squared_error: 0.0730 - val_loss: 0.3885 - val_mean_squared_error: 0.3885\n",
      "Epoch 48/75\n",
      "35/35 [==============================] - 0s 6ms/step - loss: 0.0709 - mean_squared_error: 0.0709 - val_loss: 0.3709 - val_mean_squared_error: 0.3709\n",
      "Epoch 49/75\n",
      "35/35 [==============================] - 0s 6ms/step - loss: 0.0712 - mean_squared_error: 0.0712 - val_loss: 0.3955 - val_mean_squared_error: 0.3955\n",
      "Epoch 50/75\n",
      "35/35 [==============================] - 0s 6ms/step - loss: 0.0694 - mean_squared_error: 0.0694 - val_loss: 0.3805 - val_mean_squared_error: 0.3805\n",
      "Epoch 51/75\n",
      "35/35 [==============================] - 0s 6ms/step - loss: 0.0696 - mean_squared_error: 0.0696 - val_loss: 0.4013 - val_mean_squared_error: 0.4013\n",
      "Epoch 52/75\n",
      "35/35 [==============================] - 0s 6ms/step - loss: 0.0680 - mean_squared_error: 0.0680 - val_loss: 0.3922 - val_mean_squared_error: 0.3922\n",
      "Epoch 53/75\n",
      "35/35 [==============================] - 0s 6ms/step - loss: 0.0680 - mean_squared_error: 0.0680 - val_loss: 0.4038 - val_mean_squared_error: 0.4038\n",
      "Epoch 54/75\n",
      "35/35 [==============================] - 0s 6ms/step - loss: 0.0666 - mean_squared_error: 0.0666 - val_loss: 0.4074 - val_mean_squared_error: 0.4074\n",
      "Epoch 55/75\n",
      "35/35 [==============================] - 0s 6ms/step - loss: 0.0667 - mean_squared_error: 0.0667 - val_loss: 0.3974 - val_mean_squared_error: 0.3974\n",
      "Epoch 56/75\n",
      "35/35 [==============================] - 0s 6ms/step - loss: 0.0666 - mean_squared_error: 0.0666 - val_loss: 0.4246 - val_mean_squared_error: 0.4246\n",
      "Epoch 57/75\n",
      "35/35 [==============================] - 0s 6ms/step - loss: 0.0681 - mean_squared_error: 0.0681 - val_loss: 0.3812 - val_mean_squared_error: 0.3812\n",
      "Epoch 58/75\n",
      "35/35 [==============================] - 0s 6ms/step - loss: 0.0698 - mean_squared_error: 0.0698 - val_loss: 0.3971 - val_mean_squared_error: 0.3971\n",
      "Epoch 59/75\n",
      "35/35 [==============================] - 0s 6ms/step - loss: 0.0683 - mean_squared_error: 0.0683 - val_loss: 0.3709 - val_mean_squared_error: 0.3709\n",
      "Epoch 60/75\n",
      "35/35 [==============================] - 0s 6ms/step - loss: 0.0665 - mean_squared_error: 0.0665 - val_loss: 0.4007 - val_mean_squared_error: 0.4007\n",
      "Epoch 61/75\n",
      "35/35 [==============================] - 0s 6ms/step - loss: 0.0659 - mean_squared_error: 0.0659 - val_loss: 0.3843 - val_mean_squared_error: 0.3843\n",
      "Epoch 62/75\n",
      "35/35 [==============================] - 0s 6ms/step - loss: 0.0614 - mean_squared_error: 0.0614 - val_loss: 0.4025 - val_mean_squared_error: 0.4025\n",
      "Epoch 63/75\n",
      "35/35 [==============================] - 0s 6ms/step - loss: 0.0610 - mean_squared_error: 0.0610 - val_loss: 0.3936 - val_mean_squared_error: 0.3936\n",
      "Epoch 64/75\n",
      "35/35 [==============================] - 0s 6ms/step - loss: 0.0597 - mean_squared_error: 0.0597 - val_loss: 0.3954 - val_mean_squared_error: 0.3954\n",
      "Epoch 65/75\n",
      "35/35 [==============================] - 0s 6ms/step - loss: 0.0594 - mean_squared_error: 0.0594 - val_loss: 0.4037 - val_mean_squared_error: 0.4037\n",
      "Epoch 66/75\n",
      "35/35 [==============================] - 0s 6ms/step - loss: 0.0592 - mean_squared_error: 0.0592 - val_loss: 0.4147 - val_mean_squared_error: 0.4147\n",
      "Epoch 67/75\n",
      "35/35 [==============================] - 0s 6ms/step - loss: 0.0610 - mean_squared_error: 0.0610 - val_loss: 0.3948 - val_mean_squared_error: 0.3948\n",
      "Epoch 68/75\n",
      "35/35 [==============================] - 0s 6ms/step - loss: 0.0591 - mean_squared_error: 0.0591 - val_loss: 0.4221 - val_mean_squared_error: 0.4221\n",
      "Epoch 69/75\n",
      "35/35 [==============================] - 0s 6ms/step - loss: 0.0609 - mean_squared_error: 0.0609 - val_loss: 0.4120 - val_mean_squared_error: 0.4120\n",
      "Epoch 70/75\n",
      "35/35 [==============================] - 0s 6ms/step - loss: 0.0597 - mean_squared_error: 0.0597 - val_loss: 0.4120 - val_mean_squared_error: 0.4120\n",
      "Epoch 71/75\n",
      "35/35 [==============================] - 0s 6ms/step - loss: 0.0591 - mean_squared_error: 0.0591 - val_loss: 0.4036 - val_mean_squared_error: 0.4036\n",
      "Epoch 72/75\n",
      "35/35 [==============================] - 0s 6ms/step - loss: 0.0607 - mean_squared_error: 0.0607 - val_loss: 0.4296 - val_mean_squared_error: 0.4296\n",
      "Epoch 73/75\n",
      "35/35 [==============================] - 0s 6ms/step - loss: 0.0664 - mean_squared_error: 0.0664 - val_loss: 0.3772 - val_mean_squared_error: 0.3772\n",
      "Epoch 74/75\n",
      "35/35 [==============================] - 0s 6ms/step - loss: 0.0624 - mean_squared_error: 0.0624 - val_loss: 0.4176 - val_mean_squared_error: 0.4176\n",
      "Epoch 75/75\n",
      "35/35 [==============================] - 0s 6ms/step - loss: 0.0611 - mean_squared_error: 0.0611 - val_loss: 0.3909 - val_mean_squared_error: 0.3909\n",
      "CPU times: user 18 s, sys: 2.28 s, total: 20.3 s\n",
      "Wall time: 17.7 s\n"
     ]
    }
   ],
   "source": [
    "%%time \n",
    "\n",
    "history4a_lstm = model.fit(X_train, y_train, batch_size=batch_size, \n",
    "                                  epochs=epochs,\n",
    "                                  verbose=1,\n",
    "                                  validation_data=(X_valid, y_valid), shuffle=False)"
   ]
  },
  {
   "cell_type": "code",
   "execution_count": 82,
   "metadata": {
    "executionInfo": {
     "elapsed": 21015,
     "status": "ok",
     "timestamp": 1617736433936,
     "user": {
      "displayName": "Garold Murdachaew",
      "photoUrl": "",
      "userId": "10767911817898383988"
     },
     "user_tz": -180
    },
    "id": "yUsAPAIpSIgW"
   },
   "outputs": [],
   "source": [
    "def plot_history(history):\n",
    "    \n",
    "    #-----------------------------------------------------------\n",
    "    # Retrieve results on training and validation data sets\n",
    "    # for each training epoch\n",
    "    #-----------------------------------------------------------\n",
    "    \n",
    "    mse      = history.history['mean_squared_error']\n",
    "    val_mse  = history.history['val_mean_squared_error']\n",
    "    loss     = history.history['loss']\n",
    "    val_loss = history.history['val_loss']\n",
    "    epochs   = range(1,len(mse)+1) \n",
    "    \n",
    "    plt.rcParams['font.size'] = 16\n",
    "    plt.rcParams['axes.spines.right'] = False\n",
    "    plt.rcParams['axes.spines.top'] = False\n",
    "\n",
    "    fig, (ax1, ax2) = plt.subplots(1,2,figsize=(10,5))\n",
    "    \n",
    "    #------------------------------------------------\n",
    "    # Plot training and validation mse per epoch\n",
    "    #------------------------------------------------\n",
    "    ax1.plot(epochs, mse,  label='Training mse')\n",
    "    ax1.plot(epochs, val_mse,  label='Validation mse')\n",
    "    ax1.set_title('Loss = MSE')\n",
    "    ax1.set_xlabel('epoch')\n",
    "    ax1.set_ylabel('mse')\n",
    "    #ax1.set_ylim(0.5,1.2)\n",
    "    ax1.legend()\n",
    "\n",
    "    #------------------------------------------------\n",
    "    # Plot training and validation rmse per epoch\n",
    "    #------------------------------------------------\n",
    "    ax2.plot(epochs, np.sqrt(mse),  label='Training rmse')\n",
    "    ax2.plot(epochs, np.sqrt(val_mse),  label='Validation rmse')\n",
    "    ax2.set_title('RMSE')\n",
    "    ax2.set_xlabel('epoch')\n",
    "    ax2.set_ylabel('rmse')\n",
    "    #ax2.set_ylim(0.5,1.2)\n",
    "    ax2.legend()\n",
    "\n",
    "    fig.tight_layout()\n",
    "    plt.show()"
   ]
  },
  {
   "cell_type": "code",
   "execution_count": 83,
   "metadata": {
    "colab": {
     "base_uri": "https://localhost:8080/",
     "height": 356
    },
    "executionInfo": {
     "elapsed": 21443,
     "status": "ok",
     "timestamp": 1617736434406,
     "user": {
      "displayName": "Garold Murdachaew",
      "photoUrl": "",
      "userId": "10767911817898383988"
     },
     "user_tz": -180
    },
    "id": "9bN59_MWRzhh",
    "outputId": "47a37fb2-2b93-4a50-bacf-ee2e8ceeaff3"
   },
   "outputs": [
    {
     "data": {
      "image/png": "[encoded data removed]",
      "text/plain": [
       "<Figure size 720x360 with 2 Axes>"
      ]
     },
     "metadata": {
      "needs_background": "light",
      "tags": []
     },
     "output_type": "display_data"
    }
   ],
   "source": [
    "plot_history(history4a_lstm)"
   ]
  },
  {
   "cell_type": "code",
   "execution_count": 84,
   "metadata": {
    "colab": {
     "base_uri": "https://localhost:8080/"
    },
    "executionInfo": {
     "elapsed": 22923,
     "status": "ok",
     "timestamp": 1617736435919,
     "user": {
      "displayName": "Garold Murdachaew",
      "photoUrl": "",
      "userId": "10767911817898383988"
     },
     "user_tz": -180
    },
    "id": "Pfw40ZDeRflv",
    "outputId": "497bcf62-bb1e-44cb-fc7f-7ec17f8d8749"
   },
   "outputs": [
    {
     "name": "stdout",
     "output_type": "stream",
     "text": [
      "8/8 - 0s - loss: 0.3908 - mean_squared_error: 0.3908\n",
      "test_loss = test_mse, test_rmse, test_mae\n",
      "            0.3908    0.6251    0.4725\n"
     ]
    }
   ],
   "source": [
    "from sklearn.metrics import mean_squared_error, mean_absolute_error\n",
    "\n",
    "test_loss, test_mse = model.evaluate(X_test, y_test, batch_size=batch_size, verbose=2)\n",
    "test_rmse = np.sqrt(test_mse)\n",
    "y_test_pred = model.predict(X_test)\n",
    "test_mae = mean_absolute_error(y_test, y_test_pred)\n",
    "print('test_loss = test_mse, test_rmse, test_mae')\n",
    "print(\"          %8.4f  %8.4f  %8.4f\" % (test_mse, test_rmse, test_mae))"
   ]
  },
  {
   "cell_type": "markdown",
   "metadata": {
    "id": "6c6qISlF3pUC"
   },
   "source": [
    "There is definitely over-fitting visible in the above plots. We can implement early stopping to extract the best fit parameters for this model."
   ]
  },
  {
   "cell_type": "markdown",
   "metadata": {
    "id": "nYS1SWuu3kZh"
   },
   "source": [
    "**Model: LSTM (a default one suggested by keras) fit4b (with early stopping)**"
   ]
  },
  {
   "cell_type": "code",
   "execution_count": 85,
   "metadata": {
    "colab": {
     "base_uri": "https://localhost:8080/"
    },
    "executionInfo": {
     "elapsed": 22893,
     "status": "ok",
     "timestamp": 1617736435924,
     "user": {
      "displayName": "Garold Murdachaew",
      "photoUrl": "",
      "userId": "10767911817898383988"
     },
     "user_tz": -180
    },
    "id": "QKaei9ThRfhj",
    "outputId": "1c318f9f-8fe9-48de-d7e3-5d210f8422a9"
   },
   "outputs": [
    {
     "name": "stdout",
     "output_type": "stream",
     "text": [
      "175000 1 30\n",
      "175000 5\n",
      "Model: \"sequential_12\"\n",
      "_________________________________________________________________\n",
      "Layer (type)                 Output Shape              Param #   \n",
      "=================================================================\n",
      "lstm_12 (LSTM)               (None, 128)               81408     \n",
      "_________________________________________________________________\n",
      "dense_12 (Dense)             (None, 5)                 645       \n",
      "=================================================================\n",
      "Total params: 82,053\n",
      "Trainable params: 82,053\n",
      "Non-trainable params: 0\n",
      "_________________________________________________________________\n"
     ]
    }
   ],
   "source": [
    "# simple early stopping\n",
    "# see: https://machinelearningmastery.com/how-to-stop-training-deep-neural-networks-at-the-right-time-using-early-stopping/\n",
    "\n",
    "from keras.callbacks import EarlyStopping\n",
    "\n",
    "# simple early stopping\n",
    "es = EarlyStopping(monitor='val_loss', mode='min', verbose=1, patience=3)\n",
    "\n",
    "input_shape0, input_shape1, input_shape2 = X_train.shape[0], X_train.shape[1], X_train.shape[2]\n",
    "print(input_shape0, input_shape1, input_shape2)\n",
    "output_shape0, output_shape1 = y_train.shape[0], y_train.shape[1]\n",
    "print(output_shape0, output_shape1)\n",
    "\n",
    "model = Sequential()\n",
    "# Add a LSTM layer with 128 internal units.\n",
    "model.add(LSTM(128, input_shape=(X_train.shape[1], X_train.shape[2])))\n",
    "# Add a Dense layer with 5 units.\n",
    "model.add(Dense(y_train.shape[1], activation='linear'))\n",
    "\n",
    "model.summary()\n",
    "\n",
    "model.compile(loss='mean_squared_error', optimizer='adam', metrics=['mean_squared_error'])"
   ]
  },
  {
   "cell_type": "code",
   "execution_count": 86,
   "metadata": {
    "colab": {
     "base_uri": "https://localhost:8080/"
    },
    "executionInfo": {
     "elapsed": 27070,
     "status": "ok",
     "timestamp": 1617736440140,
     "user": {
      "displayName": "Garold Murdachaew",
      "photoUrl": "",
      "userId": "10767911817898383988"
     },
     "user_tz": -180
    },
    "id": "fMvqQVLJRfeV",
    "outputId": "7ee22598-d160-4a9c-a93d-3597ce93a45b"
   },
   "outputs": [
    {
     "name": "stdout",
     "output_type": "stream",
     "text": [
      "Epoch 1/75\n",
      "35/35 [==============================] - 2s 17ms/step - loss: 0.5915 - mean_squared_error: 0.5915 - val_loss: 0.2675 - val_mean_squared_error: 0.2675\n",
      "Epoch 2/75\n",
      "35/35 [==============================] - 0s 6ms/step - loss: 0.3557 - mean_squared_error: 0.3557 - val_loss: 0.4572 - val_mean_squared_error: 0.4572\n",
      "Epoch 3/75\n",
      "35/35 [==============================] - 0s 6ms/step - loss: 0.2659 - mean_squared_error: 0.2659 - val_loss: 0.2923 - val_mean_squared_error: 0.2923\n",
      "Epoch 4/75\n",
      "35/35 [==============================] - 0s 6ms/step - loss: 0.2010 - mean_squared_error: 0.2010 - val_loss: 0.2315 - val_mean_squared_error: 0.2315\n",
      "Epoch 5/75\n",
      "35/35 [==============================] - 0s 5ms/step - loss: 0.1659 - mean_squared_error: 0.1659 - val_loss: 0.2008 - val_mean_squared_error: 0.2008\n",
      "Epoch 6/75\n",
      "35/35 [==============================] - 0s 6ms/step - loss: 0.1453 - mean_squared_error: 0.1453 - val_loss: 0.2063 - val_mean_squared_error: 0.2063\n",
      "Epoch 7/75\n",
      "35/35 [==============================] - 0s 5ms/step - loss: 0.1328 - mean_squared_error: 0.1328 - val_loss: 0.2039 - val_mean_squared_error: 0.2039\n",
      "Epoch 8/75\n",
      "35/35 [==============================] - 0s 5ms/step - loss: 0.1247 - mean_squared_error: 0.1247 - val_loss: 0.1959 - val_mean_squared_error: 0.1959\n",
      "Epoch 9/75\n",
      "35/35 [==============================] - 0s 5ms/step - loss: 0.1216 - mean_squared_error: 0.1216 - val_loss: 0.1915 - val_mean_squared_error: 0.1915\n",
      "Epoch 10/75\n",
      "35/35 [==============================] - 0s 6ms/step - loss: 0.1184 - mean_squared_error: 0.1184 - val_loss: 0.1947 - val_mean_squared_error: 0.1947\n",
      "Epoch 11/75\n",
      "35/35 [==============================] - 0s 6ms/step - loss: 0.1152 - mean_squared_error: 0.1152 - val_loss: 0.1976 - val_mean_squared_error: 0.1976\n",
      "Epoch 12/75\n",
      "35/35 [==============================] - 0s 6ms/step - loss: 0.1117 - mean_squared_error: 0.1117 - val_loss: 0.1961 - val_mean_squared_error: 0.1961\n",
      "Epoch 00012: early stopping\n",
      "CPU times: user 4.05 s, sys: 390 ms, total: 4.44 s\n",
      "Wall time: 3.99 s\n"
     ]
    }
   ],
   "source": [
    "%%time \n",
    "\n",
    "history4b_lstm_es = model.fit(X_train, y_train, batch_size=batch_size, \n",
    "                                  epochs=epochs,\n",
    "                                  verbose=1,\n",
    "                                  validation_data=(X_valid, y_valid), shuffle=False, callbacks=[es])"
   ]
  },
  {
   "cell_type": "code",
   "execution_count": 87,
   "metadata": {
    "colab": {
     "base_uri": "https://localhost:8080/",
     "height": 356
    },
    "executionInfo": {
     "elapsed": 27709,
     "status": "ok",
     "timestamp": 1617736440820,
     "user": {
      "displayName": "Garold Murdachaew",
      "photoUrl": "",
      "userId": "10767911817898383988"
     },
     "user_tz": -180
    },
    "id": "4OVafj05RfS9",
    "outputId": "c716256a-763e-47ce-f7c4-129c74983190"
   },
   "outputs": [
    {
     "data": {
      "image/png": "[encoded data removed]",
      "text/plain": [
       "<Figure size 720x360 with 2 Axes>"
      ]
     },
     "metadata": {
      "needs_background": "light",
      "tags": []
     },
     "output_type": "display_data"
    }
   ],
   "source": [
    "plot_history(history4b_lstm_es)"
   ]
  },
  {
   "cell_type": "code",
   "execution_count": 88,
   "metadata": {
    "colab": {
     "base_uri": "https://localhost:8080/"
    },
    "executionInfo": {
     "elapsed": 29141,
     "status": "ok",
     "timestamp": 1617736442284,
     "user": {
      "displayName": "Garold Murdachaew",
      "photoUrl": "",
      "userId": "10767911817898383988"
     },
     "user_tz": -180
    },
    "id": "11_GXUQMc45W",
    "outputId": "d83793ac-0034-4248-b9d0-16aaf2869d3d"
   },
   "outputs": [
    {
     "name": "stdout",
     "output_type": "stream",
     "text": [
      "8/8 - 0s - loss: 0.2974 - mean_squared_error: 0.2974\n",
      "test_loss = test_mse, test_rmse, test_mae\n",
      "            0.2974    0.5453    0.4128\n"
     ]
    }
   ],
   "source": [
    "test_loss, test_mse = model.evaluate(X_test, y_test, batch_size=batch_size, verbose=2)\n",
    "test_rmse = np.sqrt(test_mse)\n",
    "y_test_pred = model.predict(X_test)\n",
    "test_mae = mean_absolute_error(y_test, y_test_pred)\n",
    "print('test_loss = test_mse, test_rmse, test_mae')\n",
    "print(\"          %8.4f  %8.4f  %8.4f\" % (test_mse, test_rmse, test_mae))"
   ]
  },
  {
   "cell_type": "markdown",
   "metadata": {
    "id": "k9EhEy2l3_X-"
   },
   "source": [
    "**Results summary (so far)**"
   ]
  },
  {
   "cell_type": "code",
   "execution_count": 3,
   "metadata": {
    "colab": {
     "base_uri": "https://localhost:8080/"
    },
    "executionInfo": {
     "elapsed": 812,
     "status": "ok",
     "timestamp": 1617741133730,
     "user": {
      "displayName": "Garold Murdachaew",
      "photoUrl": "",
      "userId": "10767911817898383988"
     },
     "user_tz": -180
    },
    "id": "wsbzhlB_mWOJ",
    "outputId": "1dc91ace-bc5b-4dca-d341-849617c3693d"
   },
   "outputs": [
    {
     "name": "stdout",
     "output_type": "stream",
     "text": [
      "Data size    Method                                         params    Fit name    Lr     Decay    Epoch    Run time [mm:ss]    train_rmse    test_rmse    test_mae\n",
      "-----------  ---------------------------------------------  --------  ----------  -----  -------  -------  ------------------  ------------  -----------  ----------\n",
      "25000        SVR                                                      0a                                   >10:00              0.3742        0.1400       0.0200\n",
      "25000        ANN (hidden:  60, 40,  -)                      4,505     1a          1e-3   0.9      75                           0.0755\n",
      "25000        ANN (hidden:  60, 40,  -)                      4,505     1a          1e-3   0.9      150      03:03               0.0670        0.0789       0.0443\n",
      "-----------  ---------------------------------------------  --------  ----------  -----  -------  -------  ------------------  ------------  -----------  ----------\n",
      "\n",
      "254649       ANN (hidden:  60, 40,  -)                      4,505     1           1e-3   0.9      75       13:55               0.1421        0.1433       0.0891\n",
      "254649       ANN (hidden: 100, 50, 25)                      9,555     2           1e-3   0.9      75       14:36               0.1086        0.1133       0.0618\n",
      "254649       ANN (hidden: 300, 30,  -)                      18,485    3           1e-3   0.9      75       14:09               0.1100        0.1140       0.0678\n",
      "-----------  ---------------------------------------------  --------  ----------  -----  -------  -------  ------------------  ------------  -----------  ----------\n",
      "\n",
      "255000^1,2   LSTM, explicit lag: 0   (internal units: 128)  82,053    4b          1e-3   0.9      12^3     00:04               0.3342        0.5453       0.4128\n",
      "255000^1,2   LSTM, explicit lag: 0   (internal units: 128)  82,053    4a          1e-3   0.9      75       00:20               0.2472        0.6251       0.4725\n",
      "\n",
      "^1 In these fits, unlike in the preceding fits, the few missing data rows in each set were interpolated as the last present row in that set.\n",
      "^2 In these fits, unlike in the preceding fits, the data was not shuffled; i.e., the data sets were not mixed, and also, time order was maintained in each set.\n",
      "^3 With early stopping (patience = 3).\n",
      "^4 A non-zero time lag refers to treating the vector autoregression problem by introducing an explicit lag, as in\n",
      "   https://machinelearningmastery.com/multivariate-time-series-forecasting-lstms-keras/. A non-zero value will be introduced in the next notebook.\n"
     ]
    }
   ],
   "source": [
    "from tabulate import tabulate\n",
    "#tabulate.PRESERVE_WHITESPACE = True\n",
    "\n",
    "print(tabulate([\n",
    "  [\"Data size\", \"Method\",             \"params\", \"Fit name\", \"Lr\",  \"Decay\", \"Epoch\", \"Run time [mm:ss]\", \"train_rmse\", \"test_rmse\", \"test_mae\"],\n",
    "  [ 25000, \"SVR\",                      \"\",          \"0a\",       \"\",     \"\",      \"\",      \">10:00\",          \"0.3742\",     \"0.1400\",   \"0.0200\"],\n",
    "  [ 25000, \"ANN (hidden:  60, 40,  -)\", \" 4,505\",   \"1a\",       \"1e-3\", 0.9,      75,     \"\",                 0.0755,       \"\",        \"\"],\n",
    "  [ 25000, \"ANN (hidden:  60, 40,  -)\", \" 4,505\",   \"1a\",       \"1e-3\", 0.9,     150,     \" 03:03\",          \"0.0670\",      0.0789,     0.0443],\n",
    "  [\"-----------\", \"---------------------------------------------\", \"--------\", \"----------\", \"-----\", \"-------\", \"-------\", \"------------------\", \"------------\", \"-----------\", \"----------\"],\n",
    "  [\"\", \"\", \"\", \"\", \"\", \"\", \"\", \"\", \"\", \"\", \"\"],\n",
    "\n",
    "  [254649, \"ANN (hidden:  60, 40,  -)\", \" 4,505\",   \"1 \",       \"1e-3\", 0.9,      75,     \" 13:55\",           0.1421,       0.1433,     0.0891],\n",
    "  [254649, \"ANN (hidden: 100, 50, 25)\", \" 9,555\",   \"2 \",       \"1e-3\", 0.9,      75,     \" 14:36\",           0.1086,       0.1133,     0.0618],\n",
    "  [254649, \"ANN (hidden: 300, 30,  -)\", \"18,485\",   \"3 \",       \"1e-3\", 0.9,      75,     \" 14:09\",          \"0.1100\",     \"0.1140\",    0.0678],\n",
    "  [\"-----------\", \"---------------------------------------------\", \"--------\", \"----------\", \"-----\", \"-------\", \"-------\", \"------------------\", \"------------\", \"-----------\", \"----------\"],\n",
    "  [\"\", \"\", \"\", \"\", \"\", \"\", \"\", \"\", \"\", \"\", \"\"],\n",
    "\n",
    "  [\"255000^1,2\", \"LSTM, explicit lag: 0   (internal units: 128)\", \"82,053\",  \"4b\", \"1e-3\", 0.9, \"12^3\", \"00:04\", 0.3342,     0.5453,     0.4128],\n",
    "  [\"255000^1,2\", \"LSTM, explicit lag: 0   (internal units: 128)\", \"82,053\",  \"4a\", \"1e-3\", 0.9, 75,     \"00:20\", 0.2472,     0.6251,     0.4725]],\n",
    "  headers=\"firstrow\"))\n",
    "print()\n",
    "\n",
    "print('^1 In these fits, unlike in the preceding fits, the few missing data rows in each set were interpolated as the last present row in that set.')\n",
    "print('^2 In these fits, unlike in the preceding fits, the data was not shuffled; i.e., the data sets were not mixed, and also, time order was maintained in each set.')\n",
    "print('^3 With early stopping (patience = 3).')\n",
    "print('^4 A non-zero time lag refers to treating the vector autoregression problem by introducing an explicit lag, as in')\n",
    "print('   https://machinelearningmastery.com/multivariate-time-series-forecasting-lstms-keras/. A non-zero value will be introduced in the next notebook.')\n",
    "\n",
    "#print(np.sqrt(0.0611))\n",
    "#print(np.sqrt(0.1117))"
   ]
  }
 ],
 "metadata": {
  "accelerator": "GPU",
  "colab": {
   "collapsed_sections": [],
   "name": "fill_missing_date_data_and_use_lstm.ipynb",
   "provenance": [
    {
     "file_id": "1BX-eIz7ubVmNwO9atUO5SD-d0Xu7Soix",
     "timestamp": 1617721207634
    }
   ]
  },
  "kernelspec": {
   "display_name": "Python 3",
   "language": "python",
   "name": "python3"
  },
  "language_info": {
   "codemirror_mode": {
    "name": "ipython",
    "version": 3
   },
   "file_extension": ".py",
   "mimetype": "text/x-python",
   "name": "python",
   "nbconvert_exporter": "python",
   "pygments_lexer": "ipython3",
   "version": "3.7.3"
  }
 },
 "nbformat": 4,
 "nbformat_minor": 4
}
